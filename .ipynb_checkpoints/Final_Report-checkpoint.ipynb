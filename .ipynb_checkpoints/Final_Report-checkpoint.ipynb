{
 "cells": [
  {
   "cell_type": "markdown",
   "id": "759071a0",
   "metadata": {},
   "source": [
    "# Final Report\n",
    "By: Jenny Zhang, Marcus Kang, Joshua Chang, Daniel Lee"
   ]
  },
  {
   "cell_type": "markdown",
   "id": "a46d4301",
   "metadata": {},
   "source": [
    "# Introduction"
   ]
  },
  {
   "cell_type": "markdown",
   "id": "bd98ec69",
   "metadata": {},
   "source": [
    "# Data Description"
   ]
  },
  {
   "cell_type": "markdown",
   "id": "29463176",
   "metadata": {},
   "source": [
    "# Pre-registered Analyses\n",
    "\n",
    "## Hypothesis 1:\n",
    "### Average Draft Position in Fantasy Football is a good indicator of post-season rank.\n",
    "\n",
    "I will model the relationship between the ADP and post-season rank over the course of recent history. \n",
    "- Given that players every year have an average draft position due to fantasy football as well as a post-season rank based on their peformance their variability can be aggregated and plotted. \n",
    "- We will set a certain value for correlation before-hand to find if the adp values meet the threshold of correlation to be considered a valued source.\n",
    "\n",
    "By learning about the degree of correlation between ADP and the player's post-season rank we will determine whether fantasy football players could trust these values when making picks. \n",
    "\n",
    "## Hypothesis 2: \n",
    "### Points and 10+ Yards received can linearly predict post-season rank for a wide receiver.\n",
    "\n",
    "I will model the relationship between the different Wide Receiver statistics and their post-season ranks. \n",
    "- By analyzing the factors which indicate good post-season rank, I hope to learn about what statistics can be especially indicative of good performance. \n",
    "- A value greater than 0.5 would indicate there to be sign of correlation between that statistic and post-season rank.\n",
    "\n",
    "Due to all football positions having very different metrics through which their plays are evaluated, I'm only focusing on wide receivers in particular. In this way, this sort of hypothesis and analysis is helpful for understanding why certain players end up being more successful through a season and thus ranking higher.\n",
    "\n",
    "## Hypothesis 3:\n",
    "### Breakout Wide Receivers will see an improvement in similar statistics from the year prior to their breakout year. \n",
    "\n",
    "I will model the relationship between the statistics of a breakout player in the season before and during their breakout year. \n",
    "- By defining the breakout player, as someone who had an ADP greater than 150 and ended with an overall rank less than 50 we will be able to determine who fits this description.\n",
    "- After getting the data on these few breakout players we will be able to utilize correlation matrices and regression modelling to determine what statistics impacted their post-season rank the most. \n",
    "\n",
    "By learning about what improvements make the greatest change in wide receiver ranking, players can better determine what part of their game they should improve on most to add more value to themselves. Also fantasy football players will gain a better idea on which players show potential when making their weekly rosters. "
   ]
  },
  {
   "cell_type": "markdown",
   "id": "15ebfddd",
   "metadata": {},
   "source": [
    "# Data Analysis\n",
    "\n",
    "## Data Cleaning"
   ]
  },
  {
   "cell_type": "code",
   "execution_count": 2,
   "id": "1213c948",
   "metadata": {},
   "outputs": [],
   "source": [
    "import numpy as np\n",
    "import seaborn as sns\n",
    "import pandas as pd\n",
    "import matplotlib.pyplot as plt\n",
    "from sklearn.model_selection import train_test_split, KFold, cross_val_score\n",
    "from sklearn.linear_model import LinearRegression\n",
    "from sklearn.linear_model import LogisticRegression\n",
    "from sklearn import linear_model\n",
    "from sklearn import metrics\n",
    "import statsmodels.api as sm\n",
    "from statsmodels.formula.api import ols\n",
    "from sklearn.preprocessing import PolynomialFeatures"
   ]
  },
  {
   "cell_type": "code",
   "execution_count": 3,
   "id": "70e184a1",
   "metadata": {},
   "outputs": [],
   "source": [
    "full_df = pd.read_csv(\"full_df.csv\")\n",
    "wr_df = pd.read_csv(\"wr_df.csv\")"
   ]
  },
  {
   "cell_type": "markdown",
   "id": "3f3a79ba",
   "metadata": {},
   "source": [
    "## Summary Statistics"
   ]
  },
  {
   "cell_type": "markdown",
   "id": "866fda1e",
   "metadata": {},
   "source": [
    "### Relationship Between ADP and Post-Season Rank\n",
    "Considering that ADP is a factor that Fantasy Football Players consider when choosing their draft picks, we decided to look into whether this is something that serious players should really consider when choosing their team. If ADP appears to be similar to Postseason Rank then their correlation value should be close to 1. \n",
    "\n",
    "With hundreds of players to do research on and no guarantee that you get the players that you want, ADP can be the most accessible piece of information that can help decide who to choose as a next pick. I aim to see whether players can trust the masses when forming their team. "
   ]
  },
  {
   "cell_type": "code",
   "execution_count": 4,
   "id": "11b638cf",
   "metadata": {},
   "outputs": [
    {
     "data": {
      "text/html": [
       "<div>\n",
       "<style scoped>\n",
       "    .dataframe tbody tr th:only-of-type {\n",
       "        vertical-align: middle;\n",
       "    }\n",
       "\n",
       "    .dataframe tbody tr th {\n",
       "        vertical-align: top;\n",
       "    }\n",
       "\n",
       "    .dataframe thead th {\n",
       "        text-align: right;\n",
       "    }\n",
       "</style>\n",
       "<table border=\"1\" class=\"dataframe\">\n",
       "  <thead>\n",
       "    <tr style=\"text-align: right;\">\n",
       "      <th></th>\n",
       "      <th></th>\n",
       "      <th>ADP</th>\n",
       "      <th>Postseason_rank</th>\n",
       "    </tr>\n",
       "    <tr>\n",
       "      <th>Year</th>\n",
       "      <th></th>\n",
       "      <th></th>\n",
       "      <th></th>\n",
       "    </tr>\n",
       "  </thead>\n",
       "  <tbody>\n",
       "    <tr>\n",
       "      <th rowspan=\"2\" valign=\"top\">2013</th>\n",
       "      <th>ADP</th>\n",
       "      <td>1.000000</td>\n",
       "      <td>0.611073</td>\n",
       "    </tr>\n",
       "    <tr>\n",
       "      <th>Postseason_rank</th>\n",
       "      <td>0.611073</td>\n",
       "      <td>1.000000</td>\n",
       "    </tr>\n",
       "    <tr>\n",
       "      <th rowspan=\"2\" valign=\"top\">2014</th>\n",
       "      <th>ADP</th>\n",
       "      <td>1.000000</td>\n",
       "      <td>0.384768</td>\n",
       "    </tr>\n",
       "    <tr>\n",
       "      <th>Postseason_rank</th>\n",
       "      <td>0.384768</td>\n",
       "      <td>1.000000</td>\n",
       "    </tr>\n",
       "    <tr>\n",
       "      <th rowspan=\"2\" valign=\"top\">2015</th>\n",
       "      <th>ADP</th>\n",
       "      <td>1.000000</td>\n",
       "      <td>0.613197</td>\n",
       "    </tr>\n",
       "    <tr>\n",
       "      <th>Postseason_rank</th>\n",
       "      <td>0.613197</td>\n",
       "      <td>1.000000</td>\n",
       "    </tr>\n",
       "    <tr>\n",
       "      <th rowspan=\"2\" valign=\"top\">2016</th>\n",
       "      <th>ADP</th>\n",
       "      <td>1.000000</td>\n",
       "      <td>0.593246</td>\n",
       "    </tr>\n",
       "    <tr>\n",
       "      <th>Postseason_rank</th>\n",
       "      <td>0.593246</td>\n",
       "      <td>1.000000</td>\n",
       "    </tr>\n",
       "    <tr>\n",
       "      <th rowspan=\"2\" valign=\"top\">2017</th>\n",
       "      <th>ADP</th>\n",
       "      <td>1.000000</td>\n",
       "      <td>0.459250</td>\n",
       "    </tr>\n",
       "    <tr>\n",
       "      <th>Postseason_rank</th>\n",
       "      <td>0.459250</td>\n",
       "      <td>1.000000</td>\n",
       "    </tr>\n",
       "    <tr>\n",
       "      <th rowspan=\"2\" valign=\"top\">2018</th>\n",
       "      <th>ADP</th>\n",
       "      <td>1.000000</td>\n",
       "      <td>0.619500</td>\n",
       "    </tr>\n",
       "    <tr>\n",
       "      <th>Postseason_rank</th>\n",
       "      <td>0.619500</td>\n",
       "      <td>1.000000</td>\n",
       "    </tr>\n",
       "    <tr>\n",
       "      <th rowspan=\"2\" valign=\"top\">2019</th>\n",
       "      <th>ADP</th>\n",
       "      <td>1.000000</td>\n",
       "      <td>0.570503</td>\n",
       "    </tr>\n",
       "    <tr>\n",
       "      <th>Postseason_rank</th>\n",
       "      <td>0.570503</td>\n",
       "      <td>1.000000</td>\n",
       "    </tr>\n",
       "    <tr>\n",
       "      <th rowspan=\"2\" valign=\"top\">2020</th>\n",
       "      <th>ADP</th>\n",
       "      <td>1.000000</td>\n",
       "      <td>0.660329</td>\n",
       "    </tr>\n",
       "    <tr>\n",
       "      <th>Postseason_rank</th>\n",
       "      <td>0.660329</td>\n",
       "      <td>1.000000</td>\n",
       "    </tr>\n",
       "    <tr>\n",
       "      <th rowspan=\"2\" valign=\"top\">2021</th>\n",
       "      <th>ADP</th>\n",
       "      <td>1.000000</td>\n",
       "      <td>0.581510</td>\n",
       "    </tr>\n",
       "    <tr>\n",
       "      <th>Postseason_rank</th>\n",
       "      <td>0.581510</td>\n",
       "      <td>1.000000</td>\n",
       "    </tr>\n",
       "  </tbody>\n",
       "</table>\n",
       "</div>"
      ],
      "text/plain": [
       "                           ADP  Postseason_rank\n",
       "Year                                           \n",
       "2013 ADP              1.000000         0.611073\n",
       "     Postseason_rank  0.611073         1.000000\n",
       "2014 ADP              1.000000         0.384768\n",
       "     Postseason_rank  0.384768         1.000000\n",
       "2015 ADP              1.000000         0.613197\n",
       "     Postseason_rank  0.613197         1.000000\n",
       "2016 ADP              1.000000         0.593246\n",
       "     Postseason_rank  0.593246         1.000000\n",
       "2017 ADP              1.000000         0.459250\n",
       "     Postseason_rank  0.459250         1.000000\n",
       "2018 ADP              1.000000         0.619500\n",
       "     Postseason_rank  0.619500         1.000000\n",
       "2019 ADP              1.000000         0.570503\n",
       "     Postseason_rank  0.570503         1.000000\n",
       "2020 ADP              1.000000         0.660329\n",
       "     Postseason_rank  0.660329         1.000000\n",
       "2021 ADP              1.000000         0.581510\n",
       "     Postseason_rank  0.581510         1.000000"
      ]
     },
     "execution_count": 4,
     "metadata": {},
     "output_type": "execute_result"
    }
   ],
   "source": [
    "year_full_df = full_df.groupby('Year')\n",
    "year_full_df[[\"ADP\", \"Postseason_rank\"]].corr()"
   ]
  },
  {
   "cell_type": "code",
   "execution_count": 5,
   "id": "51bd9f2b",
   "metadata": {},
   "outputs": [
    {
     "data": {
      "text/html": [
       "<div>\n",
       "<style scoped>\n",
       "    .dataframe tbody tr th:only-of-type {\n",
       "        vertical-align: middle;\n",
       "    }\n",
       "\n",
       "    .dataframe tbody tr th {\n",
       "        vertical-align: top;\n",
       "    }\n",
       "\n",
       "    .dataframe thead th {\n",
       "        text-align: right;\n",
       "    }\n",
       "</style>\n",
       "<table border=\"1\" class=\"dataframe\">\n",
       "  <thead>\n",
       "    <tr style=\"text-align: right;\">\n",
       "      <th></th>\n",
       "      <th>ADP</th>\n",
       "      <th>Postseason_rank</th>\n",
       "    </tr>\n",
       "  </thead>\n",
       "  <tbody>\n",
       "    <tr>\n",
       "      <th>ADP</th>\n",
       "      <td>1.000000</td>\n",
       "      <td>0.601339</td>\n",
       "    </tr>\n",
       "    <tr>\n",
       "      <th>Postseason_rank</th>\n",
       "      <td>0.601339</td>\n",
       "      <td>1.000000</td>\n",
       "    </tr>\n",
       "  </tbody>\n",
       "</table>\n",
       "</div>"
      ],
      "text/plain": [
       "                      ADP  Postseason_rank\n",
       "ADP              1.000000         0.601339\n",
       "Postseason_rank  0.601339         1.000000"
      ]
     },
     "execution_count": 5,
     "metadata": {},
     "output_type": "execute_result"
    }
   ],
   "source": [
    "full_df[[\"ADP\", \"Postseason_rank\"]].corr()"
   ]
  },
  {
   "cell_type": "markdown",
   "id": "35c927d0",
   "metadata": {},
   "source": [
    "I hypothesized that the Average Draft Position would not be a good indicator of the Postseason rank of players. The ADP is based on predictions made by the Fantasy Football community who did or didn't do their own research. After performing a correlation test, this hypothesis and relationship was supported because as there was a correlation greater than 0.5 when looking at the past 9 years. There were only two years when the ADP predictions had less than a 0.5 correlation. \n",
    "\n",
    "Building on the idea of what can help decide Postseason rank, I looked into the statistics that are kept on Wide Receivers to see what it could be that directly influences the rank. "
   ]
  },
  {
   "cell_type": "markdown",
   "id": "b116028a",
   "metadata": {},
   "source": [
    "\n",
    "### Changes in Rank"
   ]
  },
  {
   "cell_type": "code",
   "execution_count": 6,
   "id": "57dc961f",
   "metadata": {},
   "outputs": [
    {
     "data": {
      "text/plain": [
       "<AxesSubplot:ylabel='Count'>"
      ]
     },
     "execution_count": 6,
     "metadata": {},
     "output_type": "execute_result"
    },
    {
     "data": {
      "image/png": "[encoded data removed]",
      "text/plain": [
       "<Figure size 432x288 with 1 Axes>"
      ]
     },
     "metadata": {
      "needs_background": "light"
     },
     "output_type": "display_data"
    }
   ],
   "source": [
    "change_in_rank = wr_df['ADP'] - wr_df['Postseason_rank']\n",
    "\n",
    "sns.set(rc={\"figure.figsize\":(20, 8)})\n",
    "sns.histplot(data=change_in_rank)"
   ]
  },
  {
   "cell_type": "markdown",
   "id": "b5fa7905",
   "metadata": {},
   "source": [
    "Change in rank is distributed very normally with a mean slightly below 0 and a large standard deviation."
   ]
  },
  {
   "cell_type": "code",
   "execution_count": 7,
   "id": "c8ac6304",
   "metadata": {},
   "outputs": [
    {
     "data": {
      "text/plain": [
       "<AxesSubplot:>"
      ]
     },
     "execution_count": 7,
     "metadata": {},
     "output_type": "execute_result"
    },
    {
     "data": {
      "image/png": "[encoded data removed]",
      "text/plain": [
       "<Figure size 432x288 with 1 Axes>"
      ]
     },
     "metadata": {
      "needs_background": "light"
     },
     "output_type": "display_data"
    }
   ],
   "source": [
    "sns.boxplot(x=change_in_rank)"
   ]
  },
  {
   "cell_type": "markdown",
   "id": "5b777abe",
   "metadata": {},
   "source": [
    "It can be noted in this boxplot that, on both ends (having a rank much better than preseason and the opposite), there are numerous outliers."
   ]
  },
  {
   "cell_type": "code",
   "execution_count": 8,
   "id": "43136287",
   "metadata": {},
   "outputs": [
    {
     "data": {
      "text/plain": [
       "count    976.000000\n",
       "mean     -17.476434\n",
       "std       99.339654\n",
       "min     -264.800000\n",
       "25%      -80.400000\n",
       "50%       -8.550000\n",
       "75%       47.000000\n",
       "max      216.000000\n",
       "dtype: float64"
      ]
     },
     "execution_count": 8,
     "metadata": {},
     "output_type": "execute_result"
    }
   ],
   "source": [
    "def remove_outliers(data, m=2):\n",
    "    return data[abs(data - np.mean(data)) < m * np.std(data)]\n",
    "\n",
    "remove_outliers(change_in_rank).describe()"
   ]
  },
  {
   "cell_type": "markdown",
   "id": "5c3d5129",
   "metadata": {},
   "source": [
    "The outliers were removed for cleaner summary statistics. Change in rank from Post-season rank in comparison to ADP shows a relatively normal distribution with a large standard deviation of about 121 and a mean less than 0 of -17.476434, which indicates that on average, from the beginning of the season to the end of the season, a players' rank would drop around 17 places, for example they could start with better rank of 10, as lower is better, but end aroudn 27, which would mean a lower performance in comparison to expectation.\n",
    "\n",
    "Furthermore, the large standard deviation of around 100 even after outliers were removed shows that there is not necessarily a clear trend for players when comparing ADP with Postseason_rank."
   ]
  },
  {
   "cell_type": "markdown",
   "id": "0555b430",
   "metadata": {},
   "source": [
    "### Influencing Postseason Rank"
   ]
  },
  {
   "cell_type": "code",
   "execution_count": 9,
   "id": "db541f44",
   "metadata": {},
   "outputs": [
    {
     "data": {
      "text/html": [
       "<div>\n",
       "<style scoped>\n",
       "    .dataframe tbody tr th:only-of-type {\n",
       "        vertical-align: middle;\n",
       "    }\n",
       "\n",
       "    .dataframe tbody tr th {\n",
       "        vertical-align: top;\n",
       "    }\n",
       "\n",
       "    .dataframe thead th {\n",
       "        text-align: right;\n",
       "    }\n",
       "</style>\n",
       "<table border=\"1\" class=\"dataframe\">\n",
       "  <thead>\n",
       "    <tr style=\"text-align: right;\">\n",
       "      <th></th>\n",
       "      <th>Postseason_rank</th>\n",
       "      <th>Y/R</th>\n",
       "      <th>YBC/R</th>\n",
       "      <th>AIR/R</th>\n",
       "      <th>YAC/R</th>\n",
       "      <th>YACON/R</th>\n",
       "      <th>10+ YDS</th>\n",
       "      <th>20+ YDS</th>\n",
       "      <th>30+ YDS</th>\n",
       "      <th>40+ YDS</th>\n",
       "      <th>50+ YDS</th>\n",
       "      <th>Preseason_rank</th>\n",
       "      <th>ADP</th>\n",
       "      <th>Points</th>\n",
       "      <th>PPG</th>\n",
       "    </tr>\n",
       "  </thead>\n",
       "  <tbody>\n",
       "    <tr>\n",
       "      <th>Postseason_rank</th>\n",
       "      <td>1.000000</td>\n",
       "      <td>-0.182824</td>\n",
       "      <td>-0.100926</td>\n",
       "      <td>-0.100926</td>\n",
       "      <td>-0.161795</td>\n",
       "      <td>-0.086945</td>\n",
       "      <td>-0.905115</td>\n",
       "      <td>-0.831602</td>\n",
       "      <td>-0.707298</td>\n",
       "      <td>-0.588712</td>\n",
       "      <td>-0.474696</td>\n",
       "      <td>0.598468</td>\n",
       "      <td>0.598278</td>\n",
       "      <td>-0.934208</td>\n",
       "      <td>-0.870723</td>\n",
       "    </tr>\n",
       "    <tr>\n",
       "      <th>Y/R</th>\n",
       "      <td>-0.182824</td>\n",
       "      <td>1.000000</td>\n",
       "      <td>0.859476</td>\n",
       "      <td>0.859476</td>\n",
       "      <td>0.322265</td>\n",
       "      <td>0.099462</td>\n",
       "      <td>0.207087</td>\n",
       "      <td>0.368555</td>\n",
       "      <td>0.454461</td>\n",
       "      <td>0.457986</td>\n",
       "      <td>0.408264</td>\n",
       "      <td>-0.096476</td>\n",
       "      <td>-0.082844</td>\n",
       "      <td>0.159346</td>\n",
       "      <td>0.179660</td>\n",
       "    </tr>\n",
       "    <tr>\n",
       "      <th>YBC/R</th>\n",
       "      <td>-0.100926</td>\n",
       "      <td>0.859476</td>\n",
       "      <td>1.000000</td>\n",
       "      <td>1.000000</td>\n",
       "      <td>-0.206704</td>\n",
       "      <td>-0.108381</td>\n",
       "      <td>0.150853</td>\n",
       "      <td>0.276051</td>\n",
       "      <td>0.333779</td>\n",
       "      <td>0.327824</td>\n",
       "      <td>0.255614</td>\n",
       "      <td>-0.087981</td>\n",
       "      <td>-0.072740</td>\n",
       "      <td>0.085554</td>\n",
       "      <td>0.107633</td>\n",
       "    </tr>\n",
       "    <tr>\n",
       "      <th>AIR/R</th>\n",
       "      <td>-0.100926</td>\n",
       "      <td>0.859476</td>\n",
       "      <td>1.000000</td>\n",
       "      <td>1.000000</td>\n",
       "      <td>-0.206704</td>\n",
       "      <td>-0.108381</td>\n",
       "      <td>0.150853</td>\n",
       "      <td>0.276051</td>\n",
       "      <td>0.333779</td>\n",
       "      <td>0.327824</td>\n",
       "      <td>0.255614</td>\n",
       "      <td>-0.087981</td>\n",
       "      <td>-0.072740</td>\n",
       "      <td>0.085554</td>\n",
       "      <td>0.107633</td>\n",
       "    </tr>\n",
       "    <tr>\n",
       "      <th>YAC/R</th>\n",
       "      <td>-0.161795</td>\n",
       "      <td>0.322265</td>\n",
       "      <td>-0.206704</td>\n",
       "      <td>-0.206704</td>\n",
       "      <td>1.000000</td>\n",
       "      <td>0.391433</td>\n",
       "      <td>0.115976</td>\n",
       "      <td>0.193350</td>\n",
       "      <td>0.251396</td>\n",
       "      <td>0.268602</td>\n",
       "      <td>0.307462</td>\n",
       "      <td>-0.020852</td>\n",
       "      <td>-0.022947</td>\n",
       "      <td>0.145408</td>\n",
       "      <td>0.143533</td>\n",
       "    </tr>\n",
       "    <tr>\n",
       "      <th>YACON/R</th>\n",
       "      <td>-0.086945</td>\n",
       "      <td>0.099462</td>\n",
       "      <td>-0.108381</td>\n",
       "      <td>-0.108381</td>\n",
       "      <td>0.391433</td>\n",
       "      <td>1.000000</td>\n",
       "      <td>0.054153</td>\n",
       "      <td>0.089440</td>\n",
       "      <td>0.099211</td>\n",
       "      <td>0.082351</td>\n",
       "      <td>0.109269</td>\n",
       "      <td>-0.020855</td>\n",
       "      <td>-0.042920</td>\n",
       "      <td>0.082149</td>\n",
       "      <td>0.071362</td>\n",
       "    </tr>\n",
       "    <tr>\n",
       "      <th>10+ YDS</th>\n",
       "      <td>-0.905115</td>\n",
       "      <td>0.207087</td>\n",
       "      <td>0.150853</td>\n",
       "      <td>0.150853</td>\n",
       "      <td>0.115976</td>\n",
       "      <td>0.054153</td>\n",
       "      <td>1.000000</td>\n",
       "      <td>0.892164</td>\n",
       "      <td>0.724935</td>\n",
       "      <td>0.590610</td>\n",
       "      <td>0.464096</td>\n",
       "      <td>-0.615524</td>\n",
       "      <td>-0.620694</td>\n",
       "      <td>0.959286</td>\n",
       "      <td>0.886366</td>\n",
       "    </tr>\n",
       "    <tr>\n",
       "      <th>20+ YDS</th>\n",
       "      <td>-0.831602</td>\n",
       "      <td>0.368555</td>\n",
       "      <td>0.276051</td>\n",
       "      <td>0.276051</td>\n",
       "      <td>0.193350</td>\n",
       "      <td>0.089440</td>\n",
       "      <td>0.892164</td>\n",
       "      <td>1.000000</td>\n",
       "      <td>0.834700</td>\n",
       "      <td>0.686222</td>\n",
       "      <td>0.547840</td>\n",
       "      <td>-0.549939</td>\n",
       "      <td>-0.556228</td>\n",
       "      <td>0.893841</td>\n",
       "      <td>0.829782</td>\n",
       "    </tr>\n",
       "    <tr>\n",
       "      <th>30+ YDS</th>\n",
       "      <td>-0.707298</td>\n",
       "      <td>0.454461</td>\n",
       "      <td>0.333779</td>\n",
       "      <td>0.333779</td>\n",
       "      <td>0.251396</td>\n",
       "      <td>0.099211</td>\n",
       "      <td>0.724935</td>\n",
       "      <td>0.834700</td>\n",
       "      <td>1.000000</td>\n",
       "      <td>0.851521</td>\n",
       "      <td>0.690552</td>\n",
       "      <td>-0.457939</td>\n",
       "      <td>-0.464094</td>\n",
       "      <td>0.766346</td>\n",
       "      <td>0.706484</td>\n",
       "    </tr>\n",
       "    <tr>\n",
       "      <th>40+ YDS</th>\n",
       "      <td>-0.588712</td>\n",
       "      <td>0.457986</td>\n",
       "      <td>0.327824</td>\n",
       "      <td>0.327824</td>\n",
       "      <td>0.268602</td>\n",
       "      <td>0.082351</td>\n",
       "      <td>0.590610</td>\n",
       "      <td>0.686222</td>\n",
       "      <td>0.851521</td>\n",
       "      <td>1.000000</td>\n",
       "      <td>0.819605</td>\n",
       "      <td>-0.375009</td>\n",
       "      <td>-0.377723</td>\n",
       "      <td>0.643476</td>\n",
       "      <td>0.596133</td>\n",
       "    </tr>\n",
       "    <tr>\n",
       "      <th>50+ YDS</th>\n",
       "      <td>-0.474696</td>\n",
       "      <td>0.408264</td>\n",
       "      <td>0.255614</td>\n",
       "      <td>0.255614</td>\n",
       "      <td>0.307462</td>\n",
       "      <td>0.109269</td>\n",
       "      <td>0.464096</td>\n",
       "      <td>0.547840</td>\n",
       "      <td>0.690552</td>\n",
       "      <td>0.819605</td>\n",
       "      <td>1.000000</td>\n",
       "      <td>-0.311707</td>\n",
       "      <td>-0.317569</td>\n",
       "      <td>0.518427</td>\n",
       "      <td>0.487379</td>\n",
       "    </tr>\n",
       "    <tr>\n",
       "      <th>Preseason_rank</th>\n",
       "      <td>0.598468</td>\n",
       "      <td>-0.096476</td>\n",
       "      <td>-0.087981</td>\n",
       "      <td>-0.087981</td>\n",
       "      <td>-0.020852</td>\n",
       "      <td>-0.020855</td>\n",
       "      <td>-0.615524</td>\n",
       "      <td>-0.549939</td>\n",
       "      <td>-0.457939</td>\n",
       "      <td>-0.375009</td>\n",
       "      <td>-0.311707</td>\n",
       "      <td>1.000000</td>\n",
       "      <td>0.982247</td>\n",
       "      <td>-0.616857</td>\n",
       "      <td>-0.679952</td>\n",
       "    </tr>\n",
       "    <tr>\n",
       "      <th>ADP</th>\n",
       "      <td>0.598278</td>\n",
       "      <td>-0.082844</td>\n",
       "      <td>-0.072740</td>\n",
       "      <td>-0.072740</td>\n",
       "      <td>-0.022947</td>\n",
       "      <td>-0.042920</td>\n",
       "      <td>-0.620694</td>\n",
       "      <td>-0.556228</td>\n",
       "      <td>-0.464094</td>\n",
       "      <td>-0.377723</td>\n",
       "      <td>-0.317569</td>\n",
       "      <td>0.982247</td>\n",
       "      <td>1.000000</td>\n",
       "      <td>-0.624000</td>\n",
       "      <td>-0.686965</td>\n",
       "    </tr>\n",
       "    <tr>\n",
       "      <th>Points</th>\n",
       "      <td>-0.934208</td>\n",
       "      <td>0.159346</td>\n",
       "      <td>0.085554</td>\n",
       "      <td>0.085554</td>\n",
       "      <td>0.145408</td>\n",
       "      <td>0.082149</td>\n",
       "      <td>0.959286</td>\n",
       "      <td>0.893841</td>\n",
       "      <td>0.766346</td>\n",
       "      <td>0.643476</td>\n",
       "      <td>0.518427</td>\n",
       "      <td>-0.616857</td>\n",
       "      <td>-0.624000</td>\n",
       "      <td>1.000000</td>\n",
       "      <td>0.923877</td>\n",
       "    </tr>\n",
       "    <tr>\n",
       "      <th>PPG</th>\n",
       "      <td>-0.870723</td>\n",
       "      <td>0.179660</td>\n",
       "      <td>0.107633</td>\n",
       "      <td>0.107633</td>\n",
       "      <td>0.143533</td>\n",
       "      <td>0.071362</td>\n",
       "      <td>0.886366</td>\n",
       "      <td>0.829782</td>\n",
       "      <td>0.706484</td>\n",
       "      <td>0.596133</td>\n",
       "      <td>0.487379</td>\n",
       "      <td>-0.679952</td>\n",
       "      <td>-0.686965</td>\n",
       "      <td>0.923877</td>\n",
       "      <td>1.000000</td>\n",
       "    </tr>\n",
       "  </tbody>\n",
       "</table>\n",
       "</div>"
      ],
      "text/plain": [
       "                 Postseason_rank       Y/R     YBC/R     AIR/R     YAC/R  \\\n",
       "Postseason_rank         1.000000 -0.182824 -0.100926 -0.100926 -0.161795   \n",
       "Y/R                    -0.182824  1.000000  0.859476  0.859476  0.322265   \n",
       "YBC/R                  -0.100926  0.859476  1.000000  1.000000 -0.206704   \n",
       "AIR/R                  -0.100926  0.859476  1.000000  1.000000 -0.206704   \n",
       "YAC/R                  -0.161795  0.322265 -0.206704 -0.206704  1.000000   \n",
       "YACON/R                -0.086945  0.099462 -0.108381 -0.108381  0.391433   \n",
       "10+ YDS                -0.905115  0.207087  0.150853  0.150853  0.115976   \n",
       "20+ YDS                -0.831602  0.368555  0.276051  0.276051  0.193350   \n",
       "30+ YDS                -0.707298  0.454461  0.333779  0.333779  0.251396   \n",
       "40+ YDS                -0.588712  0.457986  0.327824  0.327824  0.268602   \n",
       "50+ YDS                -0.474696  0.408264  0.255614  0.255614  0.307462   \n",
       "Preseason_rank          0.598468 -0.096476 -0.087981 -0.087981 -0.020852   \n",
       "ADP                     0.598278 -0.082844 -0.072740 -0.072740 -0.022947   \n",
       "Points                 -0.934208  0.159346  0.085554  0.085554  0.145408   \n",
       "PPG                    -0.870723  0.179660  0.107633  0.107633  0.143533   \n",
       "\n",
       "                  YACON/R   10+ YDS   20+ YDS   30+ YDS   40+ YDS   50+ YDS  \\\n",
       "Postseason_rank -0.086945 -0.905115 -0.831602 -0.707298 -0.588712 -0.474696   \n",
       "Y/R              0.099462  0.207087  0.368555  0.454461  0.457986  0.408264   \n",
       "YBC/R           -0.108381  0.150853  0.276051  0.333779  0.327824  0.255614   \n",
       "AIR/R           -0.108381  0.150853  0.276051  0.333779  0.327824  0.255614   \n",
       "YAC/R            0.391433  0.115976  0.193350  0.251396  0.268602  0.307462   \n",
       "YACON/R          1.000000  0.054153  0.089440  0.099211  0.082351  0.109269   \n",
       "10+ YDS          0.054153  1.000000  0.892164  0.724935  0.590610  0.464096   \n",
       "20+ YDS          0.089440  0.892164  1.000000  0.834700  0.686222  0.547840   \n",
       "30+ YDS          0.099211  0.724935  0.834700  1.000000  0.851521  0.690552   \n",
       "40+ YDS          0.082351  0.590610  0.686222  0.851521  1.000000  0.819605   \n",
       "50+ YDS          0.109269  0.464096  0.547840  0.690552  0.819605  1.000000   \n",
       "Preseason_rank  -0.020855 -0.615524 -0.549939 -0.457939 -0.375009 -0.311707   \n",
       "ADP             -0.042920 -0.620694 -0.556228 -0.464094 -0.377723 -0.317569   \n",
       "Points           0.082149  0.959286  0.893841  0.766346  0.643476  0.518427   \n",
       "PPG              0.071362  0.886366  0.829782  0.706484  0.596133  0.487379   \n",
       "\n",
       "                 Preseason_rank       ADP    Points       PPG  \n",
       "Postseason_rank        0.598468  0.598278 -0.934208 -0.870723  \n",
       "Y/R                   -0.096476 -0.082844  0.159346  0.179660  \n",
       "YBC/R                 -0.087981 -0.072740  0.085554  0.107633  \n",
       "AIR/R                 -0.087981 -0.072740  0.085554  0.107633  \n",
       "YAC/R                 -0.020852 -0.022947  0.145408  0.143533  \n",
       "YACON/R               -0.020855 -0.042920  0.082149  0.071362  \n",
       "10+ YDS               -0.615524 -0.620694  0.959286  0.886366  \n",
       "20+ YDS               -0.549939 -0.556228  0.893841  0.829782  \n",
       "30+ YDS               -0.457939 -0.464094  0.766346  0.706484  \n",
       "40+ YDS               -0.375009 -0.377723  0.643476  0.596133  \n",
       "50+ YDS               -0.311707 -0.317569  0.518427  0.487379  \n",
       "Preseason_rank         1.000000  0.982247 -0.616857 -0.679952  \n",
       "ADP                    0.982247  1.000000 -0.624000 -0.686965  \n",
       "Points                -0.616857 -0.624000  1.000000  0.923877  \n",
       "PPG                   -0.679952 -0.686965  0.923877  1.000000  "
      ]
     },
     "execution_count": 9,
     "metadata": {},
     "output_type": "execute_result"
    }
   ],
   "source": [
    "wr_df[[\"Postseason_rank\", \"Y/R\",\"YBC/R\",\"AIR/R\", \"YAC/R\", \"YACON/R\", \"10+ YDS\", \"20+ YDS\", \"30+ YDS\", \"40+ YDS\", \"50+ YDS\", \"Preseason_rank\", \"ADP\", \"Points\", \"PPG\"]].corr()"
   ]
  },
  {
   "cell_type": "markdown",
   "id": "383c1730",
   "metadata": {},
   "source": [
    "From this chart it can be noted that certain parameters having significant correlation with Postseason Rank (< -0.5 or > 0.5 for preseason rank or ADP): Points, PPG (Points per Game), 10+ Yards, 20+ Yards, 30+ Yards, 40+ Yards, Preseason_rank, and ADP. However, 10+ YDS, 20+ YDS, 30+ YDS, and 40+ YDS all have a high covariance due to the nature of the statistic. Points and PPG also have a high covariance due to the nature of the statistic. To reduce, overfitting Points and 10+ YDS will be considered.\n",
    "\n",
    "A major difficulty with fitting parameters to fit a model off of is that many game parameters in football for wide recievers do have some sort of covariance, which makes creating a model difficult for the high possibility of overfitting."
   ]
  },
  {
   "cell_type": "code",
   "execution_count": 10,
   "id": "ec000ad8",
   "metadata": {},
   "outputs": [
    {
     "data": {
      "text/plain": [
       "<AxesSubplot:xlabel='Points', ylabel='Postseason_rank'>"
      ]
     },
     "execution_count": 10,
     "metadata": {},
     "output_type": "execute_result"
    },
    {
     "data": {
      "image/png": "[encoded data removed]",
      "text/plain": [
       "<Figure size 432x288 with 1 Axes>"
      ]
     },
     "metadata": {
      "needs_background": "light"
     },
     "output_type": "display_data"
    }
   ],
   "source": [
    "sns.scatterplot(data=wr_df, x=\"Points\", y=\"Postseason_rank\")"
   ]
  },
  {
   "cell_type": "markdown",
   "id": "63320a91",
   "metadata": {},
   "source": [
    "A very tight negative correlation between postseason rank and points can be seen from the above scatterplot. In interpretation, those of lower rank (meaning better performance) scored more points."
   ]
  },
  {
   "cell_type": "code",
   "execution_count": 11,
   "id": "6593031c",
   "metadata": {},
   "outputs": [
    {
     "data": {
      "text/plain": [
       "<AxesSubplot:xlabel='10+ YDS', ylabel='Postseason_rank'>"
      ]
     },
     "execution_count": 11,
     "metadata": {},
     "output_type": "execute_result"
    },
    {
     "data": {
      "image/png": "[encoded data removed]",
      "text/plain": [
       "<Figure size 432x288 with 1 Axes>"
      ]
     },
     "metadata": {
      "needs_background": "light"
     },
     "output_type": "display_data"
    }
   ],
   "source": [
    "sns.scatterplot(data=wr_df, x=\"10+ YDS\", y=\"Postseason_rank\")"
   ]
  },
  {
   "cell_type": "markdown",
   "id": "e14e3cd6",
   "metadata": {},
   "source": [
    "Correlation between postseason rank and points can be seen from the above scatterplot, though not as tight as with points."
   ]
  },
  {
   "cell_type": "markdown",
   "id": "0bbfed4b",
   "metadata": {},
   "source": [
    "### Scoring Points Over Time"
   ]
  },
  {
   "cell_type": "markdown",
   "id": "e472216b",
   "metadata": {},
   "source": [
    "# Models\n",
    "\n",
    "## Postseason Rank Model"
   ]
  },
  {
   "cell_type": "code",
   "execution_count": 12,
   "id": "4097302e",
   "metadata": {},
   "outputs": [
    {
     "ename": "NameError",
     "evalue": "name 'model_df' is not defined",
     "output_type": "error",
     "traceback": [
      "\u001b[0;31m---------------------------------------------------------------------------\u001b[0m",
      "\u001b[0;31mNameError\u001b[0m                                 Traceback (most recent call last)",
      "Input \u001b[0;32mIn [12]\u001b[0m, in \u001b[0;36m<cell line: 1>\u001b[0;34m()\u001b[0m\n\u001b[0;32m----> 1\u001b[0m multi_x \u001b[38;5;241m=\u001b[39m \u001b[43mmodel_df\u001b[49m[[\u001b[38;5;124m'\u001b[39m\u001b[38;5;124mPoints\u001b[39m\u001b[38;5;124m'\u001b[39m, \u001b[38;5;124m'\u001b[39m\u001b[38;5;124mTen_Yards\u001b[39m\u001b[38;5;124m'\u001b[39m]]\n\u001b[1;32m      2\u001b[0m multi_y \u001b[38;5;241m=\u001b[39m model_df[\u001b[38;5;124m'\u001b[39m\u001b[38;5;124mPostseason_rank\u001b[39m\u001b[38;5;124m'\u001b[39m]\n\u001b[1;32m      4\u001b[0m poly_model \u001b[38;5;241m=\u001b[39m PolynomialFeatures(degree\u001b[38;5;241m=\u001b[39m\u001b[38;5;241m1\u001b[39m)\n",
      "\u001b[0;31mNameError\u001b[0m: name 'model_df' is not defined"
     ]
    }
   ],
   "source": [
    "multi_x = model_df[['Points', 'Ten_Yards']]\n",
    "multi_y = model_df['Postseason_rank']\n",
    "\n",
    "poly_model = PolynomialFeatures(degree=1)\n",
    "poly_x_values = poly_model.fit_transform(multi_x)\n",
    "\n",
    "poly_reg_model = sm.OLS(multi_y, poly_x_values).fit()\n",
    "ypred = poly_reg_model.predict(poly_x_values)"
   ]
  },
  {
   "cell_type": "code",
   "execution_count": null,
   "id": "bbf2a715",
   "metadata": {
    "scrolled": true
   },
   "outputs": [],
   "source": [
    "plt.figure(figsize=(20,8))\n",
    "plt.scatter(wr_df['Postseason_rank'], ypred, c='crimson')\n",
    "\n",
    "p1 = max(max(ypred), max(wr_df['Postseason_rank']))\n",
    "p2 = min(min(ypred), min(wr_df['Postseason_rank']))\n",
    "plt.plot([p1, p2], [p1, p2], 'b-')\n",
    "plt.xlabel('True Values', fontsize=15)\n",
    "plt.ylabel('Predictions', fontsize=15)\n",
    "plt.axis('equal')\n",
    "plt.show()"
   ]
  },
  {
   "cell_type": "markdown",
   "id": "10030318",
   "metadata": {},
   "source": [
    "## Model (2)"
   ]
  },
  {
   "cell_type": "markdown",
   "id": "20d66a77",
   "metadata": {},
   "source": [
    "# Evaluation of Significance\n",
    "\n",
    "## Postseason Rank Model"
   ]
  },
  {
   "cell_type": "code",
   "execution_count": null,
   "id": "b46632e3",
   "metadata": {},
   "outputs": [],
   "source": [
    "multi_model.summary()"
   ]
  },
  {
   "cell_type": "markdown",
   "id": "9cb32ddd",
   "metadata": {},
   "source": [
    "From the summary of the model, it has an r-squared value of 0.874, meaning that the model does fit observations to a good degree, though as mentioned above, overfitting was a significant problem that could be addressed in the future with the model due to the high level of covariance between the two parameters used. The p-value of points and ten yards were both extremely low, with points being smaller than ten yards, meaning that it was more informative when creating predictions."
   ]
  },
  {
   "cell_type": "code",
   "execution_count": null,
   "id": "2fe10295",
   "metadata": {},
   "outputs": [],
   "source": [
    "fig = sm.graphics.plot_regress_exog(multi_model, 'Points')"
   ]
  },
  {
   "cell_type": "markdown",
   "id": "4557ec2e",
   "metadata": {},
   "source": [
    "A major concern was also the residual plot, which did not show scattered random points but was instead very fitted and showed shape. The curved pattern in the residual plot  indicates that the model captures the trend of some data points better than that of others for Points, particularly in this case with the lower and higher number of Points which show very high residual values."
   ]
  },
  {
   "cell_type": "code",
   "execution_count": null,
   "id": "79f5125d",
   "metadata": {},
   "outputs": [],
   "source": [
    "fig = sm.graphics.plot_regress_exog(multi_model, 'Ten_Yards')"
   ]
  },
  {
   "cell_type": "markdown",
   "id": "645ef670",
   "metadata": {},
   "source": [
    "The residual plot for 10+ Yard plays was also similar, though a little more scattered and less fitted than that of Points."
   ]
  },
  {
   "cell_type": "markdown",
   "id": "346c4a25",
   "metadata": {},
   "source": [
    "## Model (2)"
   ]
  },
  {
   "cell_type": "markdown",
   "id": "e02f89cf",
   "metadata": {},
   "source": [
    "# Interpretations and Conclusions\n",
    "\n",
    "## Postseason Rank Model"
   ]
  },
  {
   "cell_type": "markdown",
   "id": "cdf91dac",
   "metadata": {},
   "source": [
    "There appears to be a decently strong relationship between the variables of Points and number of 10+ Yard Plays, with high correlation. While it might be too quick to wholeheartedly agree with the hypothesis that these parameters can accurately predict the Postseason Rank a player might have, the model created can, to some degree of success, make a predicition with some similarity to real outcomes. The results of the model show that there is some validity in these two factors and their effect on Postseason Rank."
   ]
  },
  {
   "cell_type": "markdown",
   "id": "a1e36d5b",
   "metadata": {},
   "source": [
    "## Model (2)"
   ]
  },
  {
   "cell_type": "markdown",
   "id": "41646c0e",
   "metadata": {},
   "source": [
    "## Conclusions"
   ]
  },
  {
   "cell_type": "markdown",
   "id": "1b24b36f",
   "metadata": {},
   "source": [
    "# Limitations\n",
    "\n",
    "## General\n",
    "\n",
    "The major limitation to our data are the non-quantifiable factors that can affect a player’s performance. These include factors such as injury that can occur at any point in the season or off-season and vary in severity, the chemistry between the wide receiver and his quarterback as better chemistry would allow for better overall performance, that a breakout player could be in their rookie season and not have any prior data, and the personal factors that might affect the players’ ability in games. These are all subjective factors that cannot be put down as data, thus limiting the accuracy of our analysis and predictions. \n",
    "\n",
    "We only looked back to 2013, as more advanced statistics started to be measured then. These advanced statistics include yards per reception (Y/R), yards before contact with an opponent per reception (YBC/R), the distance the ball traveled in the air per reception (AIR/R), yards after catch per reception (YAC/R),  yards after contact per reception (YACON/R), number of plays that were greater than a certain distance (10+ YDS, 20+ YDS, 30+ YDS, 40+ YDS, 50+ YDS). We believe that these statistics will give us a better understanding of the similar performance on a per reception basis between different breakout players compared to using more basic statistics such as total yards. \n",
    "\n",
    "As a result of wanting to look into the more advanced statistics, we are limited to up to the year 2013. Breakout players are something that don’t occur often which means that we won’t find many players that fit both our breakout player criteria and broke out after 2013. This is why we limited our data to only wide receivers, who historically have the most breakout players compared to any other position. By having more breakout players we would have more data to compare between each other and against current players. There are breakout players in other positions and data on them but only a fraction of how many players that breakout in the wide receiver position. "
   ]
  },
  {
   "cell_type": "markdown",
   "id": "3e9e523d",
   "metadata": {},
   "source": [
    "## Postseason Rank Model\n",
    "\n",
    "The model was limited by the metrics used, which were only related to Games. As all of the metrics were related to Games, many had high levels of covariance that made fitting a model very difficult. If further kinds of metrics for players could be compared as well, such as physical (height, weight, etc.), team (number of teams' wins that season, etc.) the model could have been more accurate and had less problems with overfitting that could make it much more accurate."
   ]
  },
  {
   "cell_type": "markdown",
   "id": "fbe48196",
   "metadata": {},
   "source": [
    "## Model (2)"
   ]
  },
  {
   "cell_type": "code",
   "execution_count": null,
   "id": "c9c1b1f0",
   "metadata": {},
   "outputs": [],
   "source": []
  }
 ],
 "metadata": {
  "kernelspec": {
   "display_name": "Python 3 (ipykernel)",
   "language": "python",
   "name": "python3"
  },
  "language_info": {
   "codemirror_mode": {
    "name": "ipython",
    "version": 3
   },
   "file_extension": ".py",
   "mimetype": "text/x-python",
   "name": "python",
   "nbconvert_exporter": "python",
   "pygments_lexer": "ipython3",
   "version": "3.10.4"
  }
 },
 "nbformat": 4,
 "nbformat_minor": 5
}
