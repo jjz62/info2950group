{
 "cells": [
  {
   "cell_type": "markdown",
   "id": "759071a0",
   "metadata": {},
   "source": [
    "# The Key to A Better Wide Receiver\n",
    "By: Jenny Zhang, Marcus Kang, Joshua Chang, Daniel Lee"
   ]
  },
  {
   "cell_type": "markdown",
   "id": "a46d4301",
   "metadata": {},
   "source": [
    "# Introduction"
   ]
  },
  {
   "cell_type": "markdown",
   "id": "455a3c03",
   "metadata": {},
   "source": [
    "This project provides an analysis on the NFL and Fantasy Football rankings. The dataset we are using is public information that is kept by the NFL and Fantasy Football sites, including statistics on players and average draft positions by fantasy football league players. For those who are unfamiliar with Fantasy Football a short summary is that it is a game involving a league of players who draft NFL players to be a part of their own team that will compete based on a points system against other people who are in the league on a weekly basis. Many of these leagues involve sums of money, which is why players try their best to do their research and figure out which players will be the best. Furthermore, the satisfaction of creating a winning team and being able to compete with friends is a continous draw of the game that keeps users coming back. All Fantasy Football users hope to create the best teams, but deciding upon players is not a simple or straightforward task. \n",
    "\n",
    "When choosing fantasy football teams, a majority of people do not have unlimited time and resources to spend on building their team. Thus, it is important to focus time on the players that make the biggest difference in the a team's success. Understanding the large differences of different statistics and metrics recorded depending on different positions a player might play, our group decided to attempt to narrow down a specific position we could examine more deeply, causing us to first find which player position could have the biggest impact upon a Fantasy Football team in terms of points. While there are no definite conclusions that can be taken from our limited anaysis, it was found that Wide Receiver genearted more Fantasy Football points than other positions.\n",
    "\n",
    "Our second findings centered around what statistics in particular could best inform a user on the success of a wide receiver through the season, success that culminates as their Postseason Rank. A linear regression model was first created to predict postseason rank given all factors, where a signficant amount of error could be seen. Through this model it was seen that predicitng postseason rank based upon game metrics is quite difficult and leaves many errors. A second model was also created based on factors that had the greatest coefficient with postseason rank, number of 10+ Yard plays and Points. While it could not be concretely decided that these two variables had the most significant influence on Postseason Rank in comparison to other metrics, they did predict Postseason Rank to some accuracy and demonstrated a high level of effect on the outcome of Postseason Rank."
   ]
  },
  {
   "cell_type": "markdown",
   "id": "bd98ec69",
   "metadata": {},
   "source": [
    "# Data Description"
   ]
  },
  {
   "cell_type": "markdown",
   "id": "ebb1e87b",
   "metadata": {},
   "source": [
    "## We are primarily using two datasets for our data analysis: wr_df - contains data on performance of wide receivers and full_df - contains data on performance of all positions\n",
    "- Player: First and last name in string \n",
    "- Year: Year of the Football season \n",
    "- Y/R: Yards per reception \n",
    "- YBC/R: Yards before contact with an opponent per reception\n",
    "- AIR/R: Distance the ball traveled in the air per reception \n",
    "- YAC/R: Yards after catch per reception \n",
    "- YACON/R: yards after contact per reception \n",
    "- 10+YDS: Number of successful plays that were greater than 10 yards \n",
    "- 20+YDS: Number of successful plays that were greater than 20 yards \n",
    "- 30+YDS: Number of successful plays that were greater than 30 yards \n",
    "- 40+YDS: Number of successful plays that were greater than 40 yards \n",
    "- 50+YDS: Number of successful plays that were greater than 50 yards \n",
    "- Preseason rank - Ranking before the season started\n",
    "- ADP - Average draft position \n",
    "- PPG - average points per game \n",
    "- Points - Total points scored \n",
    "- Position - position the player is in \n",
    "\n",
    "- What are the observations (rows) and the attributes (columns)?\n",
    "- - full_df has 3,889 observations with 9 attributes. \n",
    "- - wr_df has 1,031 observations with 19 attributes. \n",
    "- Why was this dataset created?\n",
    "- - Fantasypros is a sports company that collects, aggregates, and organizes relevant information that can be useful when playing fantasy sports. The company created this dataset to easily display information about players, particularly for beginner fantasy players.\n",
    "- Who funded the creation of the dataset?\n",
    "- - The company (FantasyPros) funded the creation of the dataset. \n",
    "- What processes might have influenced what data was observed and recorded and what was not?\n",
    "- - The advanced video technology does a successful job in capturing the successful plays within a given metric. However, the NFL probably did not record data of plays that were not successful, in addition to many other metrics that are not tracked by the website.\n",
    "- What preprocessing was done, and how did the data come to be in the form that you are using?\n",
    "- - We first downloaded all the relevant data that included attributes such as the players’ performances - 10+/20+/30+/40+/50+ yards, Points, and etc. - and relevant statistics such as number of games played and ADP. We merged the data in the folder ‘pre-season data’, ‘post-season data’, and ‘data’ while deleting attributes that are irrelevant to our project (e.g. - RTSports, FFC, and TGT). We renamed ranks from pre-season data as Preseason_rank and ranks from post-season data as Postseason_rank.\n",
    "- If people are involved, were they aware of the data collection and if so, what purpose did they expect the data to be used for?\n",
    "- - The NFL players are aware of the data collection because their performance in the game demonstrates their net worth as a player. They expect that these data will be used as a guideline when they move team and negotiate with the team in signing contracts. Because of the rise in popularity of fantasy football, many NFL players are also conscious of the effects that their play has on fantasy football players.\n",
    "- Where can your raw source data be found, if applicable? Provide a link to the raw data (hosted in a Cornell Google Drive or Cornell Box)\n",
    "- -https://drive.google.com/drive/folders/1BM8YmaSp4y6gdVU7jdc3fsOGlTPcVsku?usp=share_link "
   ]
  },
  {
   "cell_type": "markdown",
   "id": "29463176",
   "metadata": {},
   "source": [
    "# Pre-registered Analyses\n",
    "\n",
    "## Hypothesis 1:\n",
    "### The Wide Receiver Position is the Most Important to Consider When Choosing a Fantasy Football Team\n",
    " \n",
    "We will analyze the change in the contribution of the Wide Receiver position to Fantasy Football\n",
    "- Given that in recent years there have been additional rules added to the NFL to protect quarterbacks when delivering a pass, wide receivers would be able to make a greater contribution to the team as they are more likely to make the catch because of this\n",
    "- We will determine whether wide receivers are the most important position to consider by comparing their total points in recent years compared to other positions\n",
    " \n",
    "By learning about the contribution of the Wide Receiver position and whether it has changed in recent years, fantasy football players can determine whether they should spend more time researching the best wide receivers to add to their team.\n",
    "\n",
    "## Hypothesis 2: \n",
    "### Points and 10+ Yards are the best predictors of post-season rank for a wide receiver.\n",
    "\n",
    "We will first model all variables, as well as the relationship between the different Wide Receiver statistics and their post-season ranks. \n",
    "- By analyzing the factors which indicate good post-season rank, I hope to learn about what statistics can be especially indicative of good performance. \n",
    "- A value greater than 0.5 would indicate there to be sign of correlation between that statistic and post-season rank.\n",
    "\n",
    "Due to all football positions having very different metrics through which their plays are evaluated, we are only focusing on wide receivers in particular. In this way, this sort of hypothesis and analysis is helpful for understanding why certain players end up being more successful through a season and thus ranking higher."
   ]
  },
  {
   "cell_type": "markdown",
   "id": "15ebfddd",
   "metadata": {},
   "source": [
    "# Data Analysis\n",
    "\n",
    "## Data Cleaning"
   ]
  },
  {
   "cell_type": "code",
   "execution_count": 19,
   "id": "1213c948",
   "metadata": {},
   "outputs": [],
   "source": [
    "import numpy as np\n",
    "import seaborn as sns\n",
    "import pandas as pd\n",
    "import matplotlib.pyplot as plt\n",
    "from sklearn.model_selection import train_test_split, KFold, cross_val_score\n",
    "from sklearn.linear_model import LinearRegression\n",
    "from sklearn.linear_model import LogisticRegression\n",
    "from sklearn.preprocessing import StandardScaler  \n",
    "from sklearn.model_selection import train_test_split, KFold, cross_val_score\n",
    "from sklearn import linear_model\n",
    "from sklearn import metrics\n",
    "from sklearn.metrics import r2_score\n",
    "import statsmodels.api as sm  \n",
    "from statsmodels.formula.api import ols\n",
    "from sklearn.preprocessing import PolynomialFeatures"
   ]
  },
  {
   "cell_type": "code",
   "execution_count": 2,
   "id": "70e184a1",
   "metadata": {},
   "outputs": [],
   "source": [
    "full_df = pd.read_csv(\"full_df.csv\")\n",
    "wr_df = pd.read_csv(\"wr_df.csv\")"
   ]
  },
  {
   "cell_type": "markdown",
   "id": "971a3a65",
   "metadata": {},
   "source": [
    "## Summary Statistics"
   ]
  },
  {
   "cell_type": "code",
   "execution_count": 3,
   "id": "50e1f398",
   "metadata": {},
   "outputs": [
    {
     "name": "stdout",
     "output_type": "stream",
     "text": [
      "Number of Positions: 6\n"
     ]
    },
    {
     "data": {
      "text/plain": [
       "Text(0.5, 0, 'Positions')"
      ]
     },
     "execution_count": 3,
     "metadata": {},
     "output_type": "execute_result"
    },
    {
     "data": {
      "image/png": "[encoded data removed]",
      "text/plain": [
       "<Figure size 432x288 with 1 Axes>"
      ]
     },
     "metadata": {
      "needs_background": "light"
     },
     "output_type": "display_data"
    }
   ],
   "source": [
    "user_categories = full_df.groupby(['Position'])['Points'].sum().sort_values(ascending=False)\n",
    "print(\"Number of Positions:\", len(user_categories))\n",
    "user_categories[:].plot.bar()\n",
    "plt.ylabel('Total Number of Points')\n",
    "plt.xlabel('Positions')"
   ]
  },
  {
   "cell_type": "markdown",
   "id": "4da755bf",
   "metadata": {},
   "source": [
    "The above bar chart shows the total points for the positions that have the highest scoring points from the year 2013 to 2021. Notably, the wide receiver position has had the most total points, followed by running back, quarterback, and tight end. Given that there are multiple wide recievers and running backs on the field at once it makes sense that they would end up totaling the most points. "
   ]
  },
  {
   "cell_type": "code",
   "execution_count": 4,
   "id": "470e2e26",
   "metadata": {},
   "outputs": [
    {
     "name": "stdout",
     "output_type": "stream",
     "text": [
      "Standard deviation of points per position: 37057.22937329128\n"
     ]
    }
   ],
   "source": [
    "print(\"Standard deviation of points per position:\", np.std(user_categories))"
   ]
  },
  {
   "cell_type": "markdown",
   "id": "7672345b",
   "metadata": {},
   "source": [
    "There is a considerable standard deviation of approximately 37057 points between different positions. This demonstrates that the positions differ greatly in point contribution, thus, differing importance on the part of a team."
   ]
  },
  {
   "cell_type": "markdown",
   "id": "f90ead44",
   "metadata": {},
   "source": [
    "## Wide Receivers"
   ]
  },
  {
   "cell_type": "markdown",
   "id": "238c854b",
   "metadata": {},
   "source": [
    "It is difficult to determine what sets a certain player amongst the others, but we limited the data to just wide receivers in order to compare them between each other. Different positions have different statistics that are kept for each so we are specifically focusing on the Wide Receivers. "
   ]
  },
  {
   "cell_type": "code",
   "execution_count": 5,
   "id": "1c363e61",
   "metadata": {},
   "outputs": [
    {
     "data": {
      "text/plain": [
       "Text(0, 0.5, 'Points Per Game')"
      ]
     },
     "execution_count": 5,
     "metadata": {},
     "output_type": "execute_result"
    },
    {
     "data": {
      "image/png": "[encoded data removed]",
      "text/plain": [
       "<Figure size 432x288 with 1 Axes>"
      ]
     },
     "metadata": {
      "needs_background": "light"
     },
     "output_type": "display_data"
    }
   ],
   "source": [
    "wr_df.boxplot(column ='PPG')\n",
    "plt.ylabel('Points Per Game')"
   ]
  },
  {
   "cell_type": "markdown",
   "id": "c393a26c",
   "metadata": {},
   "source": [
    "This boxplot shows the distribution of ppg within the range of 0 to 30 ppg, with the median ppg being about 9 ppg. There are multiple outliers that go beyond the max indicating that there are opportunities for fantasy players to find outliers that perform beyond the expected. "
   ]
  },
  {
   "cell_type": "markdown",
   "id": "adbd67f0",
   "metadata": {},
   "source": [
    "# Wide Receiver Points Growth Model"
   ]
  },
  {
   "cell_type": "code",
   "execution_count": 6,
   "id": "8d50c974",
   "metadata": {},
   "outputs": [
    {
     "name": "stdout",
     "output_type": "stream",
     "text": [
      "Slope for regression line is:  588.1783333333009\n"
     ]
    },
    {
     "data": {
      "image/png": "[encoded data removed]",
      "text/plain": [
       "<Figure size 432x288 with 1 Axes>"
      ]
     },
     "metadata": {
      "needs_background": "light"
     },
     "output_type": "display_data"
    }
   ],
   "source": [
    "# sort the dataframe by year\n",
    "by_year = full_df.groupby(['Year'])['Points'].sum()\n",
    "by_year_df = by_year.to_frame()\n",
    "points = by_year_df['Points'].tolist()\n",
    "years = [2013, 2014, 2015, 2016, 2017, 2018, 2019, 2020, 2021]\n",
    " \n",
    "p_by_year_df = pd.DataFrame()\n",
    "p_by_year_df['Year'] = years\n",
    "p_by_year_df['Points'] = points\n",
    " \n",
    "# plot real data\n",
    "plt.plot(p_by_year_df['Year'], p_by_year_df['Points'], 'o')\n",
    "\n",
    "#obtain m (slope) and b(intercept) of linear regression line\n",
    "m, b = np.polyfit(p_by_year_df['Year'], p_by_year_df['Points'], 1)\n",
    "\n",
    "#add linear regression line to scatterplot\n",
    "plt.plot(p_by_year_df['Year'], m*p_by_year_df['Year']+b)\n",
    "\n",
    "print(\"Slope for regression line is: \", m)"
   ]
  },
  {
   "cell_type": "markdown",
   "id": "9a764b4a",
   "metadata": {},
   "source": [
    "In the above graph, I modelled the relationship between number of points scored by Wide Receivers over time. Given that every player has statistics kept on them each year the point over time can be aggregated and plotted. After getting the data points for past users, I used linear regression to analyze user trends over time and predict future behavior. In the linear regression model for points growth, this subset of around 2000 wide recievers grows at a rate of about 600 points per year. "
   ]
  },
  {
   "cell_type": "markdown",
   "id": "b116028a",
   "metadata": {},
   "source": [
    "\n",
    "### Changes in Rank"
   ]
  },
  {
   "cell_type": "code",
   "execution_count": 7,
   "id": "57dc961f",
   "metadata": {},
   "outputs": [
    {
     "data": {
      "text/plain": [
       "<AxesSubplot:ylabel='Count'>"
      ]
     },
     "execution_count": 7,
     "metadata": {},
     "output_type": "execute_result"
    },
    {
     "data": {
      "image/png": "[encoded data removed]",
      "text/plain": [
       "<Figure size 1440x576 with 1 Axes>"
      ]
     },
     "metadata": {},
     "output_type": "display_data"
    }
   ],
   "source": [
    "change_in_rank = wr_df['ADP'] - wr_df['Postseason_rank']\n",
    "\n",
    "sns.set(rc={\"figure.figsize\":(20, 8)})\n",
    "sns.histplot(data=change_in_rank)"
   ]
  },
  {
   "cell_type": "markdown",
   "id": "b5fa7905",
   "metadata": {},
   "source": [
    "Change in rank is distributed very normally with a mean slightly below 0 and a large standard deviation."
   ]
  },
  {
   "cell_type": "code",
   "execution_count": 8,
   "id": "c8ac6304",
   "metadata": {},
   "outputs": [
    {
     "data": {
      "text/plain": [
       "<AxesSubplot:>"
      ]
     },
     "execution_count": 8,
     "metadata": {},
     "output_type": "execute_result"
    },
    {
     "data": {
      "image/png": "[encoded data removed]",
      "text/plain": [
       "<Figure size 1440x576 with 1 Axes>"
      ]
     },
     "metadata": {},
     "output_type": "display_data"
    }
   ],
   "source": [
    "sns.boxplot(x=change_in_rank)"
   ]
  },
  {
   "cell_type": "markdown",
   "id": "5b777abe",
   "metadata": {},
   "source": [
    "It can be noted in this boxplot that, on both ends (having a rank much better than preseason and the opposite), there are numerous outliers."
   ]
  },
  {
   "cell_type": "code",
   "execution_count": 9,
   "id": "43136287",
   "metadata": {},
   "outputs": [
    {
     "data": {
      "text/plain": [
       "count    976.000000\n",
       "mean     -17.476434\n",
       "std       99.339654\n",
       "min     -264.800000\n",
       "25%      -80.400000\n",
       "50%       -8.550000\n",
       "75%       47.000000\n",
       "max      216.000000\n",
       "dtype: float64"
      ]
     },
     "execution_count": 9,
     "metadata": {},
     "output_type": "execute_result"
    }
   ],
   "source": [
    "def remove_outliers(data, m=2):\n",
    "    return data[abs(data - np.mean(data)) < m * np.std(data)]\n",
    "\n",
    "remove_outliers(change_in_rank).describe()"
   ]
  },
  {
   "cell_type": "markdown",
   "id": "5c3d5129",
   "metadata": {},
   "source": [
    "The outliers were removed for cleaner summary statistics. Change in rank from Post-season rank in comparison to ADP shows a relatively normal distribution with a large standard deviation of about 121 and a mean less than 0 of -17.476434, which indicates that on average, from the beginning of the season to the end of the season, a players' rank would drop around 17 places, for example they could start with better rank of 10, as lower is better, but end aroudn 27, which would mean a lower performance in comparison to expectation.\n",
    "\n",
    "Furthermore, the large standard deviation of around 100 even after outliers were removed shows that there is not necessarily a clear trend for players when comparing ADP with Postseason_rank."
   ]
  },
  {
   "cell_type": "markdown",
   "id": "0555b430",
   "metadata": {},
   "source": [
    "### Influencing Postseason Rank"
   ]
  },
  {
   "cell_type": "code",
   "execution_count": 10,
   "id": "db541f44",
   "metadata": {},
   "outputs": [
    {
     "data": {
      "text/html": [
       "<div>\n",
       "<style scoped>\n",
       "    .dataframe tbody tr th:only-of-type {\n",
       "        vertical-align: middle;\n",
       "    }\n",
       "\n",
       "    .dataframe tbody tr th {\n",
       "        vertical-align: top;\n",
       "    }\n",
       "\n",
       "    .dataframe thead th {\n",
       "        text-align: right;\n",
       "    }\n",
       "</style>\n",
       "<table border=\"1\" class=\"dataframe\">\n",
       "  <thead>\n",
       "    <tr style=\"text-align: right;\">\n",
       "      <th></th>\n",
       "      <th>Postseason_rank</th>\n",
       "      <th>Y/R</th>\n",
       "      <th>YBC/R</th>\n",
       "      <th>AIR/R</th>\n",
       "      <th>YAC/R</th>\n",
       "      <th>YACON/R</th>\n",
       "      <th>10+ YDS</th>\n",
       "      <th>20+ YDS</th>\n",
       "      <th>30+ YDS</th>\n",
       "      <th>40+ YDS</th>\n",
       "      <th>50+ YDS</th>\n",
       "      <th>Preseason_rank</th>\n",
       "      <th>ADP</th>\n",
       "      <th>Points</th>\n",
       "      <th>PPG</th>\n",
       "    </tr>\n",
       "  </thead>\n",
       "  <tbody>\n",
       "    <tr>\n",
       "      <th>Postseason_rank</th>\n",
       "      <td>1.000000</td>\n",
       "      <td>-0.182824</td>\n",
       "      <td>-0.100926</td>\n",
       "      <td>-0.100926</td>\n",
       "      <td>-0.161795</td>\n",
       "      <td>-0.086945</td>\n",
       "      <td>-0.905115</td>\n",
       "      <td>-0.831602</td>\n",
       "      <td>-0.707298</td>\n",
       "      <td>-0.588712</td>\n",
       "      <td>-0.474696</td>\n",
       "      <td>0.598468</td>\n",
       "      <td>0.598278</td>\n",
       "      <td>-0.934208</td>\n",
       "      <td>-0.870723</td>\n",
       "    </tr>\n",
       "    <tr>\n",
       "      <th>Y/R</th>\n",
       "      <td>-0.182824</td>\n",
       "      <td>1.000000</td>\n",
       "      <td>0.859476</td>\n",
       "      <td>0.859476</td>\n",
       "      <td>0.322265</td>\n",
       "      <td>0.099462</td>\n",
       "      <td>0.207087</td>\n",
       "      <td>0.368555</td>\n",
       "      <td>0.454461</td>\n",
       "      <td>0.457986</td>\n",
       "      <td>0.408264</td>\n",
       "      <td>-0.096476</td>\n",
       "      <td>-0.082844</td>\n",
       "      <td>0.159346</td>\n",
       "      <td>0.179660</td>\n",
       "    </tr>\n",
       "    <tr>\n",
       "      <th>YBC/R</th>\n",
       "      <td>-0.100926</td>\n",
       "      <td>0.859476</td>\n",
       "      <td>1.000000</td>\n",
       "      <td>1.000000</td>\n",
       "      <td>-0.206704</td>\n",
       "      <td>-0.108381</td>\n",
       "      <td>0.150853</td>\n",
       "      <td>0.276051</td>\n",
       "      <td>0.333779</td>\n",
       "      <td>0.327824</td>\n",
       "      <td>0.255614</td>\n",
       "      <td>-0.087981</td>\n",
       "      <td>-0.072740</td>\n",
       "      <td>0.085554</td>\n",
       "      <td>0.107633</td>\n",
       "    </tr>\n",
       "    <tr>\n",
       "      <th>AIR/R</th>\n",
       "      <td>-0.100926</td>\n",
       "      <td>0.859476</td>\n",
       "      <td>1.000000</td>\n",
       "      <td>1.000000</td>\n",
       "      <td>-0.206704</td>\n",
       "      <td>-0.108381</td>\n",
       "      <td>0.150853</td>\n",
       "      <td>0.276051</td>\n",
       "      <td>0.333779</td>\n",
       "      <td>0.327824</td>\n",
       "      <td>0.255614</td>\n",
       "      <td>-0.087981</td>\n",
       "      <td>-0.072740</td>\n",
       "      <td>0.085554</td>\n",
       "      <td>0.107633</td>\n",
       "    </tr>\n",
       "    <tr>\n",
       "      <th>YAC/R</th>\n",
       "      <td>-0.161795</td>\n",
       "      <td>0.322265</td>\n",
       "      <td>-0.206704</td>\n",
       "      <td>-0.206704</td>\n",
       "      <td>1.000000</td>\n",
       "      <td>0.391433</td>\n",
       "      <td>0.115976</td>\n",
       "      <td>0.193350</td>\n",
       "      <td>0.251396</td>\n",
       "      <td>0.268602</td>\n",
       "      <td>0.307462</td>\n",
       "      <td>-0.020852</td>\n",
       "      <td>-0.022947</td>\n",
       "      <td>0.145408</td>\n",
       "      <td>0.143533</td>\n",
       "    </tr>\n",
       "    <tr>\n",
       "      <th>YACON/R</th>\n",
       "      <td>-0.086945</td>\n",
       "      <td>0.099462</td>\n",
       "      <td>-0.108381</td>\n",
       "      <td>-0.108381</td>\n",
       "      <td>0.391433</td>\n",
       "      <td>1.000000</td>\n",
       "      <td>0.054153</td>\n",
       "      <td>0.089440</td>\n",
       "      <td>0.099211</td>\n",
       "      <td>0.082351</td>\n",
       "      <td>0.109269</td>\n",
       "      <td>-0.020855</td>\n",
       "      <td>-0.042920</td>\n",
       "      <td>0.082149</td>\n",
       "      <td>0.071362</td>\n",
       "    </tr>\n",
       "    <tr>\n",
       "      <th>10+ YDS</th>\n",
       "      <td>-0.905115</td>\n",
       "      <td>0.207087</td>\n",
       "      <td>0.150853</td>\n",
       "      <td>0.150853</td>\n",
       "      <td>0.115976</td>\n",
       "      <td>0.054153</td>\n",
       "      <td>1.000000</td>\n",
       "      <td>0.892164</td>\n",
       "      <td>0.724935</td>\n",
       "      <td>0.590610</td>\n",
       "      <td>0.464096</td>\n",
       "      <td>-0.615524</td>\n",
       "      <td>-0.620694</td>\n",
       "      <td>0.959286</td>\n",
       "      <td>0.886366</td>\n",
       "    </tr>\n",
       "    <tr>\n",
       "      <th>20+ YDS</th>\n",
       "      <td>-0.831602</td>\n",
       "      <td>0.368555</td>\n",
       "      <td>0.276051</td>\n",
       "      <td>0.276051</td>\n",
       "      <td>0.193350</td>\n",
       "      <td>0.089440</td>\n",
       "      <td>0.892164</td>\n",
       "      <td>1.000000</td>\n",
       "      <td>0.834700</td>\n",
       "      <td>0.686222</td>\n",
       "      <td>0.547840</td>\n",
       "      <td>-0.549939</td>\n",
       "      <td>-0.556228</td>\n",
       "      <td>0.893841</td>\n",
       "      <td>0.829782</td>\n",
       "    </tr>\n",
       "    <tr>\n",
       "      <th>30+ YDS</th>\n",
       "      <td>-0.707298</td>\n",
       "      <td>0.454461</td>\n",
       "      <td>0.333779</td>\n",
       "      <td>0.333779</td>\n",
       "      <td>0.251396</td>\n",
       "      <td>0.099211</td>\n",
       "      <td>0.724935</td>\n",
       "      <td>0.834700</td>\n",
       "      <td>1.000000</td>\n",
       "      <td>0.851521</td>\n",
       "      <td>0.690552</td>\n",
       "      <td>-0.457939</td>\n",
       "      <td>-0.464094</td>\n",
       "      <td>0.766346</td>\n",
       "      <td>0.706484</td>\n",
       "    </tr>\n",
       "    <tr>\n",
       "      <th>40+ YDS</th>\n",
       "      <td>-0.588712</td>\n",
       "      <td>0.457986</td>\n",
       "      <td>0.327824</td>\n",
       "      <td>0.327824</td>\n",
       "      <td>0.268602</td>\n",
       "      <td>0.082351</td>\n",
       "      <td>0.590610</td>\n",
       "      <td>0.686222</td>\n",
       "      <td>0.851521</td>\n",
       "      <td>1.000000</td>\n",
       "      <td>0.819605</td>\n",
       "      <td>-0.375009</td>\n",
       "      <td>-0.377723</td>\n",
       "      <td>0.643476</td>\n",
       "      <td>0.596133</td>\n",
       "    </tr>\n",
       "    <tr>\n",
       "      <th>50+ YDS</th>\n",
       "      <td>-0.474696</td>\n",
       "      <td>0.408264</td>\n",
       "      <td>0.255614</td>\n",
       "      <td>0.255614</td>\n",
       "      <td>0.307462</td>\n",
       "      <td>0.109269</td>\n",
       "      <td>0.464096</td>\n",
       "      <td>0.547840</td>\n",
       "      <td>0.690552</td>\n",
       "      <td>0.819605</td>\n",
       "      <td>1.000000</td>\n",
       "      <td>-0.311707</td>\n",
       "      <td>-0.317569</td>\n",
       "      <td>0.518427</td>\n",
       "      <td>0.487379</td>\n",
       "    </tr>\n",
       "    <tr>\n",
       "      <th>Preseason_rank</th>\n",
       "      <td>0.598468</td>\n",
       "      <td>-0.096476</td>\n",
       "      <td>-0.087981</td>\n",
       "      <td>-0.087981</td>\n",
       "      <td>-0.020852</td>\n",
       "      <td>-0.020855</td>\n",
       "      <td>-0.615524</td>\n",
       "      <td>-0.549939</td>\n",
       "      <td>-0.457939</td>\n",
       "      <td>-0.375009</td>\n",
       "      <td>-0.311707</td>\n",
       "      <td>1.000000</td>\n",
       "      <td>0.982247</td>\n",
       "      <td>-0.616857</td>\n",
       "      <td>-0.679952</td>\n",
       "    </tr>\n",
       "    <tr>\n",
       "      <th>ADP</th>\n",
       "      <td>0.598278</td>\n",
       "      <td>-0.082844</td>\n",
       "      <td>-0.072740</td>\n",
       "      <td>-0.072740</td>\n",
       "      <td>-0.022947</td>\n",
       "      <td>-0.042920</td>\n",
       "      <td>-0.620694</td>\n",
       "      <td>-0.556228</td>\n",
       "      <td>-0.464094</td>\n",
       "      <td>-0.377723</td>\n",
       "      <td>-0.317569</td>\n",
       "      <td>0.982247</td>\n",
       "      <td>1.000000</td>\n",
       "      <td>-0.624000</td>\n",
       "      <td>-0.686965</td>\n",
       "    </tr>\n",
       "    <tr>\n",
       "      <th>Points</th>\n",
       "      <td>-0.934208</td>\n",
       "      <td>0.159346</td>\n",
       "      <td>0.085554</td>\n",
       "      <td>0.085554</td>\n",
       "      <td>0.145408</td>\n",
       "      <td>0.082149</td>\n",
       "      <td>0.959286</td>\n",
       "      <td>0.893841</td>\n",
       "      <td>0.766346</td>\n",
       "      <td>0.643476</td>\n",
       "      <td>0.518427</td>\n",
       "      <td>-0.616857</td>\n",
       "      <td>-0.624000</td>\n",
       "      <td>1.000000</td>\n",
       "      <td>0.923877</td>\n",
       "    </tr>\n",
       "    <tr>\n",
       "      <th>PPG</th>\n",
       "      <td>-0.870723</td>\n",
       "      <td>0.179660</td>\n",
       "      <td>0.107633</td>\n",
       "      <td>0.107633</td>\n",
       "      <td>0.143533</td>\n",
       "      <td>0.071362</td>\n",
       "      <td>0.886366</td>\n",
       "      <td>0.829782</td>\n",
       "      <td>0.706484</td>\n",
       "      <td>0.596133</td>\n",
       "      <td>0.487379</td>\n",
       "      <td>-0.679952</td>\n",
       "      <td>-0.686965</td>\n",
       "      <td>0.923877</td>\n",
       "      <td>1.000000</td>\n",
       "    </tr>\n",
       "  </tbody>\n",
       "</table>\n",
       "</div>"
      ],
      "text/plain": [
       "                 Postseason_rank       Y/R     YBC/R     AIR/R     YAC/R  \\\n",
       "Postseason_rank         1.000000 -0.182824 -0.100926 -0.100926 -0.161795   \n",
       "Y/R                    -0.182824  1.000000  0.859476  0.859476  0.322265   \n",
       "YBC/R                  -0.100926  0.859476  1.000000  1.000000 -0.206704   \n",
       "AIR/R                  -0.100926  0.859476  1.000000  1.000000 -0.206704   \n",
       "YAC/R                  -0.161795  0.322265 -0.206704 -0.206704  1.000000   \n",
       "YACON/R                -0.086945  0.099462 -0.108381 -0.108381  0.391433   \n",
       "10+ YDS                -0.905115  0.207087  0.150853  0.150853  0.115976   \n",
       "20+ YDS                -0.831602  0.368555  0.276051  0.276051  0.193350   \n",
       "30+ YDS                -0.707298  0.454461  0.333779  0.333779  0.251396   \n",
       "40+ YDS                -0.588712  0.457986  0.327824  0.327824  0.268602   \n",
       "50+ YDS                -0.474696  0.408264  0.255614  0.255614  0.307462   \n",
       "Preseason_rank          0.598468 -0.096476 -0.087981 -0.087981 -0.020852   \n",
       "ADP                     0.598278 -0.082844 -0.072740 -0.072740 -0.022947   \n",
       "Points                 -0.934208  0.159346  0.085554  0.085554  0.145408   \n",
       "PPG                    -0.870723  0.179660  0.107633  0.107633  0.143533   \n",
       "\n",
       "                  YACON/R   10+ YDS   20+ YDS   30+ YDS   40+ YDS   50+ YDS  \\\n",
       "Postseason_rank -0.086945 -0.905115 -0.831602 -0.707298 -0.588712 -0.474696   \n",
       "Y/R              0.099462  0.207087  0.368555  0.454461  0.457986  0.408264   \n",
       "YBC/R           -0.108381  0.150853  0.276051  0.333779  0.327824  0.255614   \n",
       "AIR/R           -0.108381  0.150853  0.276051  0.333779  0.327824  0.255614   \n",
       "YAC/R            0.391433  0.115976  0.193350  0.251396  0.268602  0.307462   \n",
       "YACON/R          1.000000  0.054153  0.089440  0.099211  0.082351  0.109269   \n",
       "10+ YDS          0.054153  1.000000  0.892164  0.724935  0.590610  0.464096   \n",
       "20+ YDS          0.089440  0.892164  1.000000  0.834700  0.686222  0.547840   \n",
       "30+ YDS          0.099211  0.724935  0.834700  1.000000  0.851521  0.690552   \n",
       "40+ YDS          0.082351  0.590610  0.686222  0.851521  1.000000  0.819605   \n",
       "50+ YDS          0.109269  0.464096  0.547840  0.690552  0.819605  1.000000   \n",
       "Preseason_rank  -0.020855 -0.615524 -0.549939 -0.457939 -0.375009 -0.311707   \n",
       "ADP             -0.042920 -0.620694 -0.556228 -0.464094 -0.377723 -0.317569   \n",
       "Points           0.082149  0.959286  0.893841  0.766346  0.643476  0.518427   \n",
       "PPG              0.071362  0.886366  0.829782  0.706484  0.596133  0.487379   \n",
       "\n",
       "                 Preseason_rank       ADP    Points       PPG  \n",
       "Postseason_rank        0.598468  0.598278 -0.934208 -0.870723  \n",
       "Y/R                   -0.096476 -0.082844  0.159346  0.179660  \n",
       "YBC/R                 -0.087981 -0.072740  0.085554  0.107633  \n",
       "AIR/R                 -0.087981 -0.072740  0.085554  0.107633  \n",
       "YAC/R                 -0.020852 -0.022947  0.145408  0.143533  \n",
       "YACON/R               -0.020855 -0.042920  0.082149  0.071362  \n",
       "10+ YDS               -0.615524 -0.620694  0.959286  0.886366  \n",
       "20+ YDS               -0.549939 -0.556228  0.893841  0.829782  \n",
       "30+ YDS               -0.457939 -0.464094  0.766346  0.706484  \n",
       "40+ YDS               -0.375009 -0.377723  0.643476  0.596133  \n",
       "50+ YDS               -0.311707 -0.317569  0.518427  0.487379  \n",
       "Preseason_rank         1.000000  0.982247 -0.616857 -0.679952  \n",
       "ADP                    0.982247  1.000000 -0.624000 -0.686965  \n",
       "Points                -0.616857 -0.624000  1.000000  0.923877  \n",
       "PPG                   -0.679952 -0.686965  0.923877  1.000000  "
      ]
     },
     "execution_count": 10,
     "metadata": {},
     "output_type": "execute_result"
    }
   ],
   "source": [
    "wr_df[[\"Postseason_rank\", \"Y/R\",\"YBC/R\",\"AIR/R\", \"YAC/R\", \"YACON/R\", \"10+ YDS\", \"20+ YDS\", \"30+ YDS\", \"40+ YDS\", \"50+ YDS\", \"Preseason_rank\", \"ADP\", \"Points\", \"PPG\"]].corr()"
   ]
  },
  {
   "cell_type": "markdown",
   "id": "383c1730",
   "metadata": {},
   "source": [
    "From this chart it can be noted that certain parameters having significant correlation with Postseason Rank (< -0.5 or > 0.5 for preseason rank or ADP): Points, PPG (Points per Game), 10+ Yards, 20+ Yards, 30+ Yards, 40+ Yards, Preseason_rank, and ADP. However, 10+ YDS, 20+ YDS, 30+ YDS, and 40+ YDS all have a high covariance due to the nature of the statistic. Points and PPG also have a high covariance due to the nature of the statistic. To reduce, overfitting Points and 10+ YDS will be considered.\n",
    "\n",
    "A major difficulty with fitting parameters to fit a model off of is that many game parameters in football for wide recievers do have some sort of covariance, which makes creating a model difficult for the high possibility of overfitting."
   ]
  },
  {
   "cell_type": "code",
   "execution_count": 11,
   "id": "ec000ad8",
   "metadata": {},
   "outputs": [
    {
     "data": {
      "text/plain": [
       "<AxesSubplot:xlabel='Points', ylabel='Postseason_rank'>"
      ]
     },
     "execution_count": 11,
     "metadata": {},
     "output_type": "execute_result"
    },
    {
     "data": {
      "image/png": "[encoded data removed]",
      "text/plain": [
       "<Figure size 1440x576 with 1 Axes>"
      ]
     },
     "metadata": {},
     "output_type": "display_data"
    }
   ],
   "source": [
    "sns.scatterplot(data=wr_df, x=\"Points\", y=\"Postseason_rank\")"
   ]
  },
  {
   "cell_type": "markdown",
   "id": "63320a91",
   "metadata": {},
   "source": [
    "We ran a scatterplot to test the correlation between postseason rank and points. A very tight negative correlation between postseason rank and points can be seen from the above scatterplot. In interpretation, those of lower rank (meaning better performance) scored more points."
   ]
  },
  {
   "cell_type": "code",
   "execution_count": 12,
   "id": "6593031c",
   "metadata": {},
   "outputs": [
    {
     "data": {
      "text/plain": [
       "<AxesSubplot:xlabel='10+ YDS', ylabel='Postseason_rank'>"
      ]
     },
     "execution_count": 12,
     "metadata": {},
     "output_type": "execute_result"
    },
    {
     "data": {
      "image/png": "[encoded data removed]",
      "text/plain": [
       "<Figure size 1440x576 with 1 Axes>"
      ]
     },
     "metadata": {},
     "output_type": "display_data"
    }
   ],
   "source": [
    "sns.scatterplot(data=wr_df, x=\"10+ YDS\", y=\"Postseason_rank\")"
   ]
  },
  {
   "cell_type": "markdown",
   "id": "e14e3cd6",
   "metadata": {},
   "source": [
    "Correlation between postseason rank and points can be seen from the above scatterplot, though not as tight as with points."
   ]
  },
  {
   "cell_type": "markdown",
   "id": "89b5455a",
   "metadata": {},
   "source": [
    "# Predictor Model"
   ]
  },
  {
   "cell_type": "markdown",
   "id": "c4eddf36",
   "metadata": {},
   "source": [
    "Using the statsmodels Python library, I performed a multivariate ordinary least squares regression analysis use all the different variables from our data to attempt and accurately predict Postseason Rank."
   ]
  },
  {
   "cell_type": "code",
   "execution_count": 13,
   "id": "c9f5ffa3",
   "metadata": {},
   "outputs": [],
   "source": [
    "player_train, player_test = train_test_split(wr_df, test_size = 0.3, random_state = 2950) \n",
    "variable_list = ['Y/R', 'YBC/R', 'AIR/R', 'YAC/R', 'YACON/R', '10+ YDS', '20+ YDS', '30+ YDS', '40+ YDS', '50+ YDS', 'Preseason_rank', 'ADP', 'Games', 'PPG', 'Points']\n",
    "model = sm.OLS(player_train['Postseason_rank'], player_train[variable_list]).fit()"
   ]
  },
  {
   "cell_type": "markdown",
   "id": "e3661436",
   "metadata": {},
   "source": [
    "An important distinguisher that causes there to be inconsistency and error is the fact that the output predicted values for the regression includes negatives values, which indicates a really good player since a smaller rank is better, however, such values aren't physically possible in the real world, causing the results to be skewed."
   ]
  },
  {
   "cell_type": "markdown",
   "id": "da485d0e",
   "metadata": {},
   "source": [
    "## 10+ Yard Plays and Points"
   ]
  },
  {
   "cell_type": "markdown",
   "id": "d553bcf6",
   "metadata": {},
   "source": [
    "A multivariable regression model with a degree of 3 was created for the two independent variables of 10+ Yard Plays and Points."
   ]
  },
  {
   "cell_type": "code",
   "execution_count": 14,
   "id": "4097302e",
   "metadata": {},
   "outputs": [],
   "source": [
    "multi_x = wr_df[['Points', '10+ YDS']]\n",
    "multi_y = wr_df['Postseason_rank']\n",
    "\n",
    "poly_model = PolynomialFeatures(degree=3)\n",
    "poly_x_values = poly_model.fit_transform(multi_x)\n",
    "\n",
    "poly_reg_model = sm.GLS(multi_y, poly_x_values).fit()\n",
    "ypred = poly_reg_model.predict(poly_x_values)"
   ]
  },
  {
   "cell_type": "code",
   "execution_count": 15,
   "id": "bbf2a715",
   "metadata": {
    "scrolled": true
   },
   "outputs": [
    {
     "data": {
      "image/png": "[encoded data removed]",
      "text/plain": [
       "<Figure size 1440x576 with 1 Axes>"
      ]
     },
     "metadata": {},
     "output_type": "display_data"
    }
   ],
   "source": [
    "plt.figure(figsize=(20,8))\n",
    "plt.scatter(wr_df['Postseason_rank'], ypred, c='crimson')\n",
    "\n",
    "p1 = max(max(ypred), max(wr_df['Postseason_rank']))\n",
    "p2 = min(min(ypred), min(wr_df['Postseason_rank']))\n",
    "plt.plot([p1, p2], [p1, p2], 'b-')\n",
    "plt.xlabel('True Values', fontsize=15)\n",
    "plt.ylabel('Predictions', fontsize=15)\n",
    "plt.axis('equal')\n",
    "plt.show()"
   ]
  },
  {
   "cell_type": "markdown",
   "id": "aafb5e93",
   "metadata": {},
   "source": [
    "The model has a linear relationship, though the actual data points themselves have more of a curved, nonlinear shape. While the data becomes more fitting when the model's degree increases beyond 1, reflecting its less linear shape, the trade off comes in terms of the effect of multicollinearity, which due to the often intertwined nature of WR statistics would significantly increase with a degree of 2 or above. While the use of fit_transform to standardize the two variables so that scaling can be normalized helped, multicollinearity issues still should be considered."
   ]
  },
  {
   "cell_type": "markdown",
   "id": "20d66a77",
   "metadata": {},
   "source": [
    "# Evaluation of Significance"
   ]
  },
  {
   "cell_type": "markdown",
   "id": "b5e02858",
   "metadata": {},
   "source": [
    "## Wide Receiver Points Growth Model"
   ]
  },
  {
   "cell_type": "code",
   "execution_count": 23,
   "id": "04a66dc7",
   "metadata": {},
   "outputs": [
    {
     "name": "stdout",
     "output_type": "stream",
     "text": [
      "The R-squared value is:  0.22148335224441296\n"
     ]
    }
   ],
   "source": [
    "# true values of the target variable (points earned by a team in a particular year)\n",
    "y_true = p_by_year_df['Points']\n",
    "\n",
    "# predicted values of the target variable (values of the regression line at the corresponding years)\n",
    "y_pred = m*p_by_year_df['Year'] + b\n",
    "\n",
    "# compute the R-squared value\n",
    "r2 = r2_score(y_true, y_pred)\n",
    "\n",
    "# print the R-squared value\n",
    "print(\"The R-squared value is: \", r2)"
   ]
  },
  {
   "cell_type": "markdown",
   "id": "5f97e97c",
   "metadata": {},
   "source": [
    "Judging by the low R-squared value between years and the points, there is a weak relationship between the year and the number of points that the Wide Receivers scored. This indicates that the years increasing has not been a direct reason that the number of points that players are scoring has increased. For example, the amount of points could increase and decrease depending on the skill level of the players currently in the league as well as the performance of the defense of teams. "
   ]
  },
  {
   "cell_type": "markdown",
   "id": "21900f4c",
   "metadata": {},
   "source": [
    "## Postseason Rank Model"
   ]
  },
  {
   "cell_type": "code",
   "execution_count": 16,
   "id": "2983b6aa",
   "metadata": {},
   "outputs": [
    {
     "data": {
      "text/html": [
       "<table class=\"simpletable\">\n",
       "<caption>OLS Regression Results</caption>\n",
       "<tr>\n",
       "  <th>Dep. Variable:</th>     <td>Postseason_rank</td> <th>  R-squared (uncentered):</th>      <td>   0.884</td> \n",
       "</tr>\n",
       "<tr>\n",
       "  <th>Model:</th>                   <td>OLS</td>       <th>  Adj. R-squared (uncentered):</th> <td>   0.882</td> \n",
       "</tr>\n",
       "<tr>\n",
       "  <th>Method:</th>             <td>Least Squares</td>  <th>  F-statistic:       </th>          <td>   386.0</td> \n",
       "</tr>\n",
       "<tr>\n",
       "  <th>Date:</th>             <td>Fri, 09 Dec 2022</td> <th>  Prob (F-statistic):</th>          <td>1.05e-319</td>\n",
       "</tr>\n",
       "<tr>\n",
       "  <th>Time:</th>                 <td>21:30:06</td>     <th>  Log-Likelihood:    </th>          <td> -4220.3</td> \n",
       "</tr>\n",
       "<tr>\n",
       "  <th>No. Observations:</th>      <td>   721</td>      <th>  AIC:               </th>          <td>   8469.</td> \n",
       "</tr>\n",
       "<tr>\n",
       "  <th>Df Residuals:</th>          <td>   707</td>      <th>  BIC:               </th>          <td>   8533.</td> \n",
       "</tr>\n",
       "<tr>\n",
       "  <th>Df Model:</th>              <td>    14</td>      <th>                     </th>              <td> </td>    \n",
       "</tr>\n",
       "<tr>\n",
       "  <th>Covariance Type:</th>      <td>nonrobust</td>    <th>                     </th>              <td> </td>    \n",
       "</tr>\n",
       "</table>\n",
       "<table class=\"simpletable\">\n",
       "<tr>\n",
       "         <td></td>           <th>coef</th>     <th>std err</th>      <th>t</th>      <th>P>|t|</th>  <th>[0.025</th>    <th>0.975]</th>  \n",
       "</tr>\n",
       "<tr>\n",
       "  <th>Y/R</th>            <td>  -12.6835</td> <td>   65.635</td> <td>   -0.193</td> <td> 0.847</td> <td> -141.547</td> <td>  116.180</td>\n",
       "</tr>\n",
       "<tr>\n",
       "  <th>YBC/R</th>          <td>   12.3161</td> <td>   32.815</td> <td>    0.375</td> <td> 0.708</td> <td>  -52.109</td> <td>   76.742</td>\n",
       "</tr>\n",
       "<tr>\n",
       "  <th>AIR/R</th>          <td>   12.3161</td> <td>   32.815</td> <td>    0.375</td> <td> 0.708</td> <td>  -52.109</td> <td>   76.742</td>\n",
       "</tr>\n",
       "<tr>\n",
       "  <th>YAC/R</th>          <td>   28.6325</td> <td>   65.494</td> <td>    0.437</td> <td> 0.662</td> <td>  -99.953</td> <td>  157.219</td>\n",
       "</tr>\n",
       "<tr>\n",
       "  <th>YACON/R</th>        <td>    0.0184</td> <td>    4.176</td> <td>    0.004</td> <td> 0.996</td> <td>   -8.179</td> <td>    8.216</td>\n",
       "</tr>\n",
       "<tr>\n",
       "  <th>10+ YDS</th>        <td>   -1.3931</td> <td>    0.765</td> <td>   -1.820</td> <td> 0.069</td> <td>   -2.896</td> <td>    0.110</td>\n",
       "</tr>\n",
       "<tr>\n",
       "  <th>20+ YDS</th>        <td>   -4.9696</td> <td>    1.461</td> <td>   -3.401</td> <td> 0.001</td> <td>   -7.838</td> <td>   -2.101</td>\n",
       "</tr>\n",
       "<tr>\n",
       "  <th>30+ YDS</th>        <td>   -4.9666</td> <td>    2.826</td> <td>   -1.757</td> <td> 0.079</td> <td>  -10.516</td> <td>    0.583</td>\n",
       "</tr>\n",
       "<tr>\n",
       "  <th>40+ YDS</th>        <td>   -3.0462</td> <td>    4.003</td> <td>   -0.761</td> <td> 0.447</td> <td>  -10.906</td> <td>    4.814</td>\n",
       "</tr>\n",
       "<tr>\n",
       "  <th>50+ YDS</th>        <td>   -5.8543</td> <td>    5.160</td> <td>   -1.135</td> <td> 0.257</td> <td>  -15.985</td> <td>    4.276</td>\n",
       "</tr>\n",
       "<tr>\n",
       "  <th>Preseason_rank</th> <td>    0.2210</td> <td>    0.129</td> <td>    1.718</td> <td> 0.086</td> <td>   -0.032</td> <td>    0.474</td>\n",
       "</tr>\n",
       "<tr>\n",
       "  <th>ADP</th>            <td>    0.0892</td> <td>    0.148</td> <td>    0.603</td> <td> 0.547</td> <td>   -0.201</td> <td>    0.380</td>\n",
       "</tr>\n",
       "<tr>\n",
       "  <th>Games</th>          <td>    8.8718</td> <td>    1.409</td> <td>    6.297</td> <td> 0.000</td> <td>    6.106</td> <td>   11.638</td>\n",
       "</tr>\n",
       "<tr>\n",
       "  <th>PPG</th>            <td>   16.4696</td> <td>    2.084</td> <td>    7.902</td> <td> 0.000</td> <td>   12.378</td> <td>   20.562</td>\n",
       "</tr>\n",
       "<tr>\n",
       "  <th>Points</th>         <td>   -1.5954</td> <td>    0.240</td> <td>   -6.657</td> <td> 0.000</td> <td>   -2.066</td> <td>   -1.125</td>\n",
       "</tr>\n",
       "</table>\n",
       "<table class=\"simpletable\">\n",
       "<tr>\n",
       "  <th>Omnibus:</th>       <td>229.827</td> <th>  Durbin-Watson:     </th> <td>   1.988</td> \n",
       "</tr>\n",
       "<tr>\n",
       "  <th>Prob(Omnibus):</th> <td> 0.000</td>  <th>  Jarque-Bera (JB):  </th> <td> 749.033</td> \n",
       "</tr>\n",
       "<tr>\n",
       "  <th>Skew:</th>          <td> 1.525</td>  <th>  Prob(JB):          </th> <td>2.24e-163</td>\n",
       "</tr>\n",
       "<tr>\n",
       "  <th>Kurtosis:</th>      <td> 6.954</td>  <th>  Cond. No.          </th> <td>3.97e+17</td> \n",
       "</tr>\n",
       "</table><br/><br/>Notes:<br/>[1] R² is computed without centering (uncentered) since the model does not contain a constant.<br/>[2] Standard Errors assume that the covariance matrix of the errors is correctly specified.<br/>[3] The smallest eigenvalue is 4.97e-28. This might indicate that there are<br/>strong multicollinearity problems or that the design matrix is singular."
      ],
      "text/plain": [
       "<class 'statsmodels.iolib.summary.Summary'>\n",
       "\"\"\"\n",
       "                                 OLS Regression Results                                \n",
       "=======================================================================================\n",
       "Dep. Variable:        Postseason_rank   R-squared (uncentered):                   0.884\n",
       "Model:                            OLS   Adj. R-squared (uncentered):              0.882\n",
       "Method:                 Least Squares   F-statistic:                              386.0\n",
       "Date:                Fri, 09 Dec 2022   Prob (F-statistic):                   1.05e-319\n",
       "Time:                        21:30:06   Log-Likelihood:                         -4220.3\n",
       "No. Observations:                 721   AIC:                                      8469.\n",
       "Df Residuals:                     707   BIC:                                      8533.\n",
       "Df Model:                          14                                                  \n",
       "Covariance Type:            nonrobust                                                  \n",
       "==================================================================================\n",
       "                     coef    std err          t      P>|t|      [0.025      0.975]\n",
       "----------------------------------------------------------------------------------\n",
       "Y/R              -12.6835     65.635     -0.193      0.847    -141.547     116.180\n",
       "YBC/R             12.3161     32.815      0.375      0.708     -52.109      76.742\n",
       "AIR/R             12.3161     32.815      0.375      0.708     -52.109      76.742\n",
       "YAC/R             28.6325     65.494      0.437      0.662     -99.953     157.219\n",
       "YACON/R            0.0184      4.176      0.004      0.996      -8.179       8.216\n",
       "10+ YDS           -1.3931      0.765     -1.820      0.069      -2.896       0.110\n",
       "20+ YDS           -4.9696      1.461     -3.401      0.001      -7.838      -2.101\n",
       "30+ YDS           -4.9666      2.826     -1.757      0.079     -10.516       0.583\n",
       "40+ YDS           -3.0462      4.003     -0.761      0.447     -10.906       4.814\n",
       "50+ YDS           -5.8543      5.160     -1.135      0.257     -15.985       4.276\n",
       "Preseason_rank     0.2210      0.129      1.718      0.086      -0.032       0.474\n",
       "ADP                0.0892      0.148      0.603      0.547      -0.201       0.380\n",
       "Games              8.8718      1.409      6.297      0.000       6.106      11.638\n",
       "PPG               16.4696      2.084      7.902      0.000      12.378      20.562\n",
       "Points            -1.5954      0.240     -6.657      0.000      -2.066      -1.125\n",
       "==============================================================================\n",
       "Omnibus:                      229.827   Durbin-Watson:                   1.988\n",
       "Prob(Omnibus):                  0.000   Jarque-Bera (JB):              749.033\n",
       "Skew:                           1.525   Prob(JB):                    2.24e-163\n",
       "Kurtosis:                       6.954   Cond. No.                     3.97e+17\n",
       "==============================================================================\n",
       "\n",
       "Notes:\n",
       "[1] R² is computed without centering (uncentered) since the model does not contain a constant.\n",
       "[2] Standard Errors assume that the covariance matrix of the errors is correctly specified.\n",
       "[3] The smallest eigenvalue is 4.97e-28. This might indicate that there are\n",
       "strong multicollinearity problems or that the design matrix is singular.\n",
       "\"\"\""
      ]
     },
     "execution_count": 16,
     "metadata": {},
     "output_type": "execute_result"
    }
   ],
   "source": [
    "model.summary()"
   ]
  },
  {
   "cell_type": "markdown",
   "id": "82f5de76",
   "metadata": {},
   "source": [
    "From this regression model, certain variables such as Yards per Receieve (Y/R) and Points per Game (PPG) have the largest coefficients, meaning that changes in these variables end up correlating to the highest change in Postseason Rank. One reason for this is likely scale- Y/R and YAC/R are both variables with numbers that have a much smaller scale in comparison to the variables with the smallest coefficients such as Points, which has a large scale, despite the fact that the data has been standardized.\n",
    "\n",
    "It can also be seen that the log-likelihood of the model is fairly high, indicating some level of correct fit of the model.\n",
    "\n",
    "However, in using all the variables from our data, the overarching problem once again lies in overfitting due to the high covariance of the variables. Too many variables would be removed if all those with high covariance were removed when fitting this multivariable regression due to the interlocked nature of game statistics for football players, but this still causes significant concerns when considering how postseason rank is effected by these variables in terms of making any definite, generalizable conclusions.\n",
    "\n",
    "Also of note is how high some p-values are: certain variables such as games, points, and preseason rank have low p-values, meaning they are statistically significant, whereas certain variables such as number of 0+ Yard Plays have an extremely high p-value that indicates that they cannot be taken as statistically significant."
   ]
  },
  {
   "cell_type": "markdown",
   "id": "5a6f7e86",
   "metadata": {},
   "source": [
    "## Role of 10+ Yard Plays and Points"
   ]
  },
  {
   "cell_type": "code",
   "execution_count": 17,
   "id": "b46632e3",
   "metadata": {},
   "outputs": [
    {
     "data": {
      "text/html": [
       "<table class=\"simpletable\">\n",
       "<caption>GLS Regression Results</caption>\n",
       "<tr>\n",
       "  <th>Dep. Variable:</th>     <td>Postseason_rank</td> <th>  R-squared:         </th> <td>   0.993</td> \n",
       "</tr>\n",
       "<tr>\n",
       "  <th>Model:</th>                   <td>GLS</td>       <th>  Adj. R-squared:    </th> <td>   0.993</td> \n",
       "</tr>\n",
       "<tr>\n",
       "  <th>Method:</th>             <td>Least Squares</td>  <th>  F-statistic:       </th> <td>1.572e+04</td>\n",
       "</tr>\n",
       "<tr>\n",
       "  <th>Date:</th>             <td>Fri, 09 Dec 2022</td> <th>  Prob (F-statistic):</th>  <td>  0.00</td>  \n",
       "</tr>\n",
       "<tr>\n",
       "  <th>Time:</th>                 <td>21:30:06</td>     <th>  Log-Likelihood:    </th> <td> -4056.4</td> \n",
       "</tr>\n",
       "<tr>\n",
       "  <th>No. Observations:</th>      <td>  1031</td>      <th>  AIC:               </th> <td>   8133.</td> \n",
       "</tr>\n",
       "<tr>\n",
       "  <th>Df Residuals:</th>          <td>  1021</td>      <th>  BIC:               </th> <td>   8182.</td> \n",
       "</tr>\n",
       "<tr>\n",
       "  <th>Df Model:</th>              <td>     9</td>      <th>                     </th>     <td> </td>    \n",
       "</tr>\n",
       "<tr>\n",
       "  <th>Covariance Type:</th>      <td>nonrobust</td>    <th>                     </th>     <td> </td>    \n",
       "</tr>\n",
       "</table>\n",
       "<table class=\"simpletable\">\n",
       "<tr>\n",
       "    <td></td>       <th>coef</th>     <th>std err</th>      <th>t</th>      <th>P>|t|</th>  <th>[0.025</th>    <th>0.975]</th>  \n",
       "</tr>\n",
       "<tr>\n",
       "  <th>const</th> <td>  532.1150</td> <td>    1.323</td> <td>  402.193</td> <td> 0.000</td> <td>  529.519</td> <td>  534.711</td>\n",
       "</tr>\n",
       "<tr>\n",
       "  <th>x1</th>    <td>   -4.2886</td> <td>    0.081</td> <td>  -52.907</td> <td> 0.000</td> <td>   -4.448</td> <td>   -4.130</td>\n",
       "</tr>\n",
       "<tr>\n",
       "  <th>x2</th>    <td>   -0.0613</td> <td>    0.411</td> <td>   -0.149</td> <td> 0.881</td> <td>   -0.868</td> <td>    0.745</td>\n",
       "</tr>\n",
       "<tr>\n",
       "  <th>x3</th>    <td>    0.0115</td> <td>    0.001</td> <td>    8.972</td> <td> 0.000</td> <td>    0.009</td> <td>    0.014</td>\n",
       "</tr>\n",
       "<tr>\n",
       "  <th>x4</th>    <td>    0.0073</td> <td>    0.012</td> <td>    0.587</td> <td> 0.558</td> <td>   -0.017</td> <td>    0.032</td>\n",
       "</tr>\n",
       "<tr>\n",
       "  <th>x5</th>    <td>   -0.0159</td> <td>    0.033</td> <td>   -0.477</td> <td> 0.633</td> <td>   -0.081</td> <td>    0.050</td>\n",
       "</tr>\n",
       "<tr>\n",
       "  <th>x6</th>    <td>-7.321e-06</td> <td>    9e-06</td> <td>   -0.813</td> <td> 0.416</td> <td> -2.5e-05</td> <td> 1.03e-05</td>\n",
       "</tr>\n",
       "<tr>\n",
       "  <th>x7</th>    <td>-5.692e-05</td> <td>    0.000</td> <td>   -0.428</td> <td> 0.669</td> <td>   -0.000</td> <td>    0.000</td>\n",
       "</tr>\n",
       "<tr>\n",
       "  <th>x8</th>    <td>    0.0002</td> <td>    0.001</td> <td>    0.308</td> <td> 0.758</td> <td>   -0.001</td> <td>    0.002</td>\n",
       "</tr>\n",
       "<tr>\n",
       "  <th>x9</th>    <td>   -0.0002</td> <td>    0.001</td> <td>   -0.218</td> <td> 0.828</td> <td>   -0.002</td> <td>    0.002</td>\n",
       "</tr>\n",
       "</table>\n",
       "<table class=\"simpletable\">\n",
       "<tr>\n",
       "  <th>Omnibus:</th>       <td>158.882</td> <th>  Durbin-Watson:     </th> <td>   0.417</td> \n",
       "</tr>\n",
       "<tr>\n",
       "  <th>Prob(Omnibus):</th> <td> 0.000</td>  <th>  Jarque-Bera (JB):  </th> <td>1312.385</td> \n",
       "</tr>\n",
       "<tr>\n",
       "  <th>Skew:</th>          <td> 0.430</td>  <th>  Prob(JB):          </th> <td>1.05e-285</td>\n",
       "</tr>\n",
       "<tr>\n",
       "  <th>Kurtosis:</th>      <td> 8.460</td>  <th>  Cond. No.          </th> <td>3.40e+07</td> \n",
       "</tr>\n",
       "</table><br/><br/>Notes:<br/>[1] Standard Errors assume that the covariance matrix of the errors is correctly specified.<br/>[2] The condition number is large, 3.4e+07. This might indicate that there are<br/>strong multicollinearity or other numerical problems."
      ],
      "text/plain": [
       "<class 'statsmodels.iolib.summary.Summary'>\n",
       "\"\"\"\n",
       "                            GLS Regression Results                            \n",
       "==============================================================================\n",
       "Dep. Variable:        Postseason_rank   R-squared:                       0.993\n",
       "Model:                            GLS   Adj. R-squared:                  0.993\n",
       "Method:                 Least Squares   F-statistic:                 1.572e+04\n",
       "Date:                Fri, 09 Dec 2022   Prob (F-statistic):               0.00\n",
       "Time:                        21:30:06   Log-Likelihood:                -4056.4\n",
       "No. Observations:                1031   AIC:                             8133.\n",
       "Df Residuals:                    1021   BIC:                             8182.\n",
       "Df Model:                           9                                         \n",
       "Covariance Type:            nonrobust                                         \n",
       "==============================================================================\n",
       "                 coef    std err          t      P>|t|      [0.025      0.975]\n",
       "------------------------------------------------------------------------------\n",
       "const        532.1150      1.323    402.193      0.000     529.519     534.711\n",
       "x1            -4.2886      0.081    -52.907      0.000      -4.448      -4.130\n",
       "x2            -0.0613      0.411     -0.149      0.881      -0.868       0.745\n",
       "x3             0.0115      0.001      8.972      0.000       0.009       0.014\n",
       "x4             0.0073      0.012      0.587      0.558      -0.017       0.032\n",
       "x5            -0.0159      0.033     -0.477      0.633      -0.081       0.050\n",
       "x6         -7.321e-06      9e-06     -0.813      0.416    -2.5e-05    1.03e-05\n",
       "x7         -5.692e-05      0.000     -0.428      0.669      -0.000       0.000\n",
       "x8             0.0002      0.001      0.308      0.758      -0.001       0.002\n",
       "x9            -0.0002      0.001     -0.218      0.828      -0.002       0.002\n",
       "==============================================================================\n",
       "Omnibus:                      158.882   Durbin-Watson:                   0.417\n",
       "Prob(Omnibus):                  0.000   Jarque-Bera (JB):             1312.385\n",
       "Skew:                           0.430   Prob(JB):                    1.05e-285\n",
       "Kurtosis:                       8.460   Cond. No.                     3.40e+07\n",
       "==============================================================================\n",
       "\n",
       "Notes:\n",
       "[1] Standard Errors assume that the covariance matrix of the errors is correctly specified.\n",
       "[2] The condition number is large, 3.4e+07. This might indicate that there are\n",
       "strong multicollinearity or other numerical problems.\n",
       "\"\"\""
      ]
     },
     "execution_count": 17,
     "metadata": {},
     "output_type": "execute_result"
    }
   ],
   "source": [
    "poly_reg_model.summary()"
   ]
  },
  {
   "cell_type": "markdown",
   "id": "9cb32ddd",
   "metadata": {},
   "source": [
    "From the summary of the model, it has an r-squared value of 09934, meaning that the model does fit observations to a good degree, though as mentioned above, overfitting was a significant problem that could be addressed in the future with the model due to the high level of covariance between the two parameters used. The p-value of points and ten yards were both extremely low, with points being smaller than ten yards, meaning that it was more informative when creating predictions. R-squared value thus shows us that the independent variables have a strong effect on the dependent variable.\n",
    "\n",
    "Another concern with the analysis is the possiblity of multicollinearity problems as seen through the large condition number. A major limitation in evaluating these different factors is that almost all have high levels of covariance with each other, which makes mulitcollinearity issues very prevalent. While a definite correlation can be seen with these variables and Postseason_rank, overfitting is a major concern the model must be evaluated with in mind.\n",
    "\n",
    "The condition number, which can help indicate multicollinearity problems, increases when the degree of the model increases, but there is also tradeoff in that log-likelihood of greater degrees is higher than when the degree is 1, meaning that the model is more properly fitted."
   ]
  },
  {
   "cell_type": "code",
   "execution_count": 18,
   "id": "2fe10295",
   "metadata": {},
   "outputs": [
    {
     "ename": "AttributeError",
     "evalue": "'GLS' object has no attribute 'weights'",
     "output_type": "error",
     "traceback": [
      "\u001b[0;31m---------------------------------------------------------------------------\u001b[0m",
      "\u001b[0;31mAttributeError\u001b[0m                            Traceback (most recent call last)",
      "Input \u001b[0;32mIn [18]\u001b[0m, in \u001b[0;36m<cell line: 1>\u001b[0;34m()\u001b[0m\n\u001b[0;32m----> 1\u001b[0m \u001b[43msm\u001b[49m\u001b[38;5;241;43m.\u001b[39;49m\u001b[43mgraphics\u001b[49m\u001b[38;5;241;43m.\u001b[39;49m\u001b[43mplot_regress_exog\u001b[49m\u001b[43m(\u001b[49m\u001b[43mpoly_reg_model\u001b[49m\u001b[43m,\u001b[49m\u001b[43m \u001b[49m\u001b[43mexog_idx\u001b[49m\u001b[38;5;241;43m=\u001b[39;49m\u001b[38;5;241;43m1\u001b[39;49m\u001b[43m)\u001b[49m\n\u001b[1;32m      2\u001b[0m plt\u001b[38;5;241m.\u001b[39mshow()\n",
      "File \u001b[0;32m~/opt/anaconda3/envs/info2950/lib/python3.10/site-packages/statsmodels/graphics/regressionplots.py:227\u001b[0m, in \u001b[0;36mplot_regress_exog\u001b[0;34m(results, exog_idx, fig)\u001b[0m\n\u001b[1;32m    225\u001b[0m y_name \u001b[38;5;241m=\u001b[39m results\u001b[38;5;241m.\u001b[39mmodel\u001b[38;5;241m.\u001b[39mendog_names\n\u001b[1;32m    226\u001b[0m x1 \u001b[38;5;241m=\u001b[39m results\u001b[38;5;241m.\u001b[39mmodel\u001b[38;5;241m.\u001b[39mexog[:, exog_idx]\n\u001b[0;32m--> 227\u001b[0m prstd, iv_l, iv_u \u001b[38;5;241m=\u001b[39m \u001b[43mwls_prediction_std\u001b[49m\u001b[43m(\u001b[49m\u001b[43mresults\u001b[49m\u001b[43m)\u001b[49m\n\u001b[1;32m    229\u001b[0m ax \u001b[38;5;241m=\u001b[39m fig\u001b[38;5;241m.\u001b[39madd_subplot(\u001b[38;5;241m2\u001b[39m, \u001b[38;5;241m2\u001b[39m, \u001b[38;5;241m1\u001b[39m)\n\u001b[1;32m    230\u001b[0m ax\u001b[38;5;241m.\u001b[39mplot(x1, results\u001b[38;5;241m.\u001b[39mmodel\u001b[38;5;241m.\u001b[39mendog, \u001b[38;5;124m'\u001b[39m\u001b[38;5;124mo\u001b[39m\u001b[38;5;124m'\u001b[39m, color\u001b[38;5;241m=\u001b[39m\u001b[38;5;124m'\u001b[39m\u001b[38;5;124mb\u001b[39m\u001b[38;5;124m'\u001b[39m, alpha\u001b[38;5;241m=\u001b[39m\u001b[38;5;241m0.9\u001b[39m, label\u001b[38;5;241m=\u001b[39my_name)\n",
      "File \u001b[0;32m~/opt/anaconda3/envs/info2950/lib/python3.10/site-packages/statsmodels/sandbox/regression/predstd.py:79\u001b[0m, in \u001b[0;36mwls_prediction_std\u001b[0;34m(res, exog, weights, alpha)\u001b[0m\n\u001b[1;32m     77\u001b[0m     predicted \u001b[38;5;241m=\u001b[39m res\u001b[38;5;241m.\u001b[39mfittedvalues\n\u001b[1;32m     78\u001b[0m     \u001b[38;5;28;01mif\u001b[39;00m weights \u001b[38;5;129;01mis\u001b[39;00m \u001b[38;5;28;01mNone\u001b[39;00m:\n\u001b[0;32m---> 79\u001b[0m         weights \u001b[38;5;241m=\u001b[39m \u001b[43mres\u001b[49m\u001b[38;5;241;43m.\u001b[39;49m\u001b[43mmodel\u001b[49m\u001b[38;5;241;43m.\u001b[39;49m\u001b[43mweights\u001b[49m\n\u001b[1;32m     80\u001b[0m \u001b[38;5;28;01melse\u001b[39;00m:\n\u001b[1;32m     81\u001b[0m     exog \u001b[38;5;241m=\u001b[39m np\u001b[38;5;241m.\u001b[39matleast_2d(exog)\n",
      "\u001b[0;31mAttributeError\u001b[0m: 'GLS' object has no attribute 'weights'"
     ]
    },
    {
     "data": {
      "text/plain": [
       "<Figure size 1440x576 with 0 Axes>"
      ]
     },
     "metadata": {},
     "output_type": "display_data"
    }
   ],
   "source": [
    "sm.graphics.plot_regress_exog(poly_reg_model, exog_idx=1)\n",
    "plt.show()"
   ]
  },
  {
   "cell_type": "markdown",
   "id": "4557ec2e",
   "metadata": {},
   "source": [
    "A major concern was also the residual plot, which did not show scattered random points but was instead very fitted and showed shape. The curved pattern in the residual plot  indicates that the model captures the trend of some data points better than that of others for Points, particularly in this case with the lower and higher number of Points which show very high residual values."
   ]
  },
  {
   "cell_type": "code",
   "execution_count": null,
   "id": "79f5125d",
   "metadata": {},
   "outputs": [],
   "source": [
    "sm.graphics.plot_regress_exog(poly_reg_model, exog_idx=2)\n",
    "plt.show()"
   ]
  },
  {
   "cell_type": "markdown",
   "id": "645ef670",
   "metadata": {},
   "source": [
    "The residual plot for 10+ Yard plays was also similar, though a little more scattered and less fitted than that of Points. Once again, the lack of variability of the residuals indicates that the two predictor values are not capturing some sort of other exploratory information that is also playing a large effect on Postseason Rank."
   ]
  },
  {
   "cell_type": "markdown",
   "id": "e02f89cf",
   "metadata": {},
   "source": [
    "# Interpretations and Conclusions"
   ]
  },
  {
   "cell_type": "markdown",
   "id": "fe55fefe",
   "metadata": {},
   "source": [
    "## Predicting the Value of Wide Receivers on a Fantasy Football Team\n",
    "\n",
    "From the regression model and statistical test, there is not a statistically significant positive relationship between years and the number of points scored by wide receivers. It seems to be that although rules and culture has changed recently in the NFL where quarterbacks have gotten more protection thus allowing for more passes to be received by wide receivers there has not been a strong correlation between points increased and years. \n",
    "\n",
    "My original hypothesis that Wide Recievers are the most important position to consider is supported by the model that presented wide receivers contributing the most. However, there is weak support that the value of the wide receiver position has increased in recent years because in our model there is low significance in their correlation. Next steps we can look into the significance of quarterbacks in recent years, as the change in NFL culture and rules also directly supports the performance of the quarterback position. "
   ]
  },
  {
   "cell_type": "markdown",
   "id": "0ff9b03c",
   "metadata": {},
   "source": [
    "## Predicting Postseason Rank"
   ]
  },
  {
   "cell_type": "markdown",
   "id": "98de1aa7",
   "metadata": {},
   "source": [
    "As can be concluded from the models and analysis, predicting postseason rank from common game metrics can be extremely difficult and hard to gauge due to the high covariance and interconnectedness of many different metrics that are recorded, as well as the many intangibles that end up factoring into a player's high performance. \n",
    "\n",
    "While many users will hope to find ways to select the players who will end up performing the best to increase the success of their fantasy team, utilizing all the different statistics which Wide Receivers have recorded still leaves a large chance for error when it comes to accurately predicting the postseason rank said player might turn out with. Fantasy Football users can utilize game statistics to some success when prediciting a player's postseason rank, but it cannot be stated as fully successful."
   ]
  },
  {
   "cell_type": "markdown",
   "id": "fb09441d",
   "metadata": {},
   "source": [
    "## Analyzing 10+ Yard Plays and Points as factors of Postseason Rank"
   ]
  },
  {
   "cell_type": "markdown",
   "id": "cdf91dac",
   "metadata": {},
   "source": [
    "There appears to be a decently strong relationship between the variables of Points and number of 10+ Yard Plays, with high correlation. While it might be too quick to wholeheartedly agree with the hypothesis that these parameters can accurately predict the Postseason Rank a player might have, the model created can, to some degree of success, make a predicition with some similarity to real outcomes. The results of the model show that there is some validity in these two factors and their effect on Postseason Rank.\n",
    "\n",
    "As mentioned above and seen through the residual plots, however, a major concern when evaluating these two metrics is their high level of covariance which leads to multicollinearity issues when fitting the model. This isssue was unavoidable due to the high level of covariance in many of the factors influencing Postseason Rank. While the accuracy of only fitting with one of these factors was much lower than with both combined, the tradeoff in the possibility of overfitting is something that should be acknowledged when interpreting this analysis and prevents us from entireley generalizing some sort of conclusions for in general."
   ]
  },
  {
   "cell_type": "markdown",
   "id": "1b24b36f",
   "metadata": {},
   "source": [
    "# Limitations\n",
    "\n",
    "## General\n",
    "\n",
    "The major limitation to our data are the non-quantifiable factors that can affect a player’s performance. These include factors such as injury that can occur at any point in the season or off-season and vary in severity, the chemistry between the wide receiver and his quarterback as better chemistry would allow for better overall performance, that a breakout player could be in their rookie season and not have any prior data, and the personal factors that might affect the players’ ability in games. These are all subjective factors that cannot be put down as data, thus limiting the accuracy of our analysis and predictions. \n",
    "\n",
    "A major factor that does not show up in the data is quarterback performance. Having a good quarterback is essential for high-level wide receiver performance. There have been many cases of a wide receiver being traded to a team with a high-caliber quarterback and his performance sky-rocketing, for example when Stefon Diggs was traded from the Minnesota Vikings to the Buffalo Bills. Diggs was playing with a mediocre  quarterback in Minnesota, but he is now playing with a top three quarterback in Buffalo in Josh Allen. He averaged 925 yards per season in Minnesota, yet in Buffalo he has averaged 1380 yards per season. There was no quantifiable reasoning for his improvement from the 2019 season to the 2020 season other than him being traded. It is also undeniable that Josh Allen and Stefon Diggs have incredible chemistry together. They are constantly on the same page, and this naturally helps Diggs to perform even better than with another great quarterback.\n",
    "\n",
    "Another limitation is the team’s schedule. Naturally, a wide receiver is more likely to perform better against a worse defense. However, there is no quantifiable metric to compare when analyzing strength of schedule. This also includes the matter of game script. Game script essentially details how the game goes and how each team will respond to the current state of the game. If one team has taken a big lead, they will most likely try to run the ball instead of throw in order to wind the clock down faster. On the other hand, the losing team will try to throw more, as they need to catch up and score quickly. By that logic, a wide receiver on a team with a bad defense should perform better, as they will need to throw more in order to catch up. However, this tends not to hold true, as sometimes a large reason why they are down includes poor quarterback play. Regardless, a team’s strength of schedule is another unquantifiable factor that adds to the murkiness of analyzing a wide receiver’s performance.\n",
    "\n",
    "We only looked back to 2013, as more advanced statistics started to be measured then. These advanced statistics include yards per reception (Y/R), yards before contact with an opponent per reception (YBC/R), the distance the ball traveled in the air per reception (AIR/R), yards after catch per reception (YAC/R),  yards after contact per reception (YACON/R), number of plays that were greater than a certain distance (10+ YDS, 20+ YDS, 30+ YDS, 40+ YDS, 50+ YDS). We believe that these statistics will give us a better understanding of the similar performance on a per reception basis between different breakout players compared to using more basic statistics such as total yards. "
   ]
  },
  {
   "cell_type": "markdown",
   "id": "3e9e523d",
   "metadata": {},
   "source": [
    "## Wide Receiver Points Growth Model\n",
    "As a result of wanting to look into the more advanced statistics, we are limited to up to the year 2013. This limits the accuracy that we can say about the data in the model. As a result the model performance may be skewed from the small sample size. In particular, points could change drastically just based on a single dominating player.\n",
    "\n",
    "## Postseason Rank Model\n",
    "\n",
    "The model was limited by the metrics used, which were only related to Games. As all of the metrics were related to Games, many had high levels of covariance that made fitting a model very difficult. If further kinds of metrics for players could be compared as well, such as physical (height, weight, etc.), team (number of teams' wins that season, etc.) the model could have been more accurate and had less problems with overfitting that could make it much more accurate."
   ]
  },
  {
   "cell_type": "markdown",
   "id": "07cd1385",
   "metadata": {},
   "source": [
    "## Source Code\n",
    "The complete source code can be found in https://github.com/jjz62/info2950group."
   ]
  },
  {
   "cell_type": "markdown",
   "id": "f8fd2580",
   "metadata": {},
   "source": [
    "## Acknowledgements\n",
    "This project was made possible using several Python libraries, including numpy, pandas, matplotlib, sklearn, seaborn, scipy, and statsmodels. I'd also like to give a big thanks to FantasyPros for supplying the data, my peers who helped review my work, and the INFO 2950 course staff for all their help."
   ]
  },
  {
   "cell_type": "code",
   "execution_count": null,
   "id": "ccbe472e",
   "metadata": {},
   "outputs": [],
   "source": []
  }
 ],
 "metadata": {
  "kernelspec": {
   "display_name": "Python 3 (ipykernel)",
   "language": "python",
   "name": "python3"
  },
  "language_info": {
   "codemirror_mode": {
    "name": "ipython",
    "version": 3
   },
   "file_extension": ".py",
   "mimetype": "text/x-python",
   "name": "python",
   "nbconvert_exporter": "python",
   "pygments_lexer": "ipython3",
   "version": "3.10.4"
  }
 },
 "nbformat": 4,
 "nbformat_minor": 5
}
