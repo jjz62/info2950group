{
 "cells": [
  {
   "cell_type": "markdown",
   "id": "759071a0",
   "metadata": {},
   "source": [
    "# The Key to A Better Wide Receiver\n",
    "By: Jenny Zhang, Marcus Kang, Joshua Chang, Daniel Lee"
   ]
  },
  {
   "cell_type": "markdown",
   "id": "a46d4301",
   "metadata": {},
   "source": [
    "# Introduction"
   ]
  },
  {
   "cell_type": "markdown",
   "id": "455a3c03",
   "metadata": {},
   "source": [
    "This project provides an analysis on the NFL and Fantasy Football rankings. The dataset we are using is public information that is kept by the NFL and Fantasy Football sites, including statistics on players and average draft positions by fantasy football league players. For those who are unfamiliar with Fantasy Football a short summary is that it is a game involving a league of players who draft NFL players to be a part of their own team that will compete based on a points system against other people who are in the league on a weekly basis. Many of these leagues involve sums of money, which is why players try their best to do their research and figure out which players will be the best. This includes \"breakout players\" who are players that the majority of fantasy players did not expect to do as well as they did and ended up with a much higher rank than they were drafted on average. \n",
    "\n",
    "My first findings on the relationship between the average draft position and postseason rankings are being used to determine whether the ADP is a trusted influence when choosing draft picks. From our regression fit, there is an estimated 1 change of Postseason ranking per ADP which is ideally expected but the intercept of the line is 64. There seems to be a linear correlation but the values are off by 64 positions. This indicates that players can use the ADP as a value to be considered but won't give precise information on when a player should be drafted. \n",
    "\n",
    "My second finding looked into the relationship between the postseason ranking and statistics of Wide Receivers. From our correlation matrix, there is a greatest relationship between postseason ranking and "
   ]
  },
  {
   "cell_type": "markdown",
   "id": "bd98ec69",
   "metadata": {},
   "source": [
    "# Data Description"
   ]
  },
  {
   "cell_type": "markdown",
   "id": "ebb1e87b",
   "metadata": {},
   "source": [
    "## We are primarily using two datasets for our data analysis: wr_df - contains data on performance of wide receivers and full_df - contains data on performance of all positions\n",
    "- Player: First and last name in string \n",
    "- Year: Year of the Football season \n",
    "- Y/R: Yards per reception \n",
    "- YBC/R: Yards before contact with an opponent per reception\n",
    "- AIR/R: Distance the ball traveled in the air per reception \n",
    "- YAC/R: Yards after catch per reception \n",
    "- YACON/R: yards after contact per reception \n",
    "- 10+YDS: Number of successful plays that were greater than 10 yards \n",
    "- 20+YDS: Number of successful plays that were greater than 20 yards \n",
    "- 30+YDS: Number of successful plays that were greater than 30 yards \n",
    "- 40+YDS: Number of successful plays that were greater than 40 yards \n",
    "- 50+YDS: Number of successful plays that were greater than 50 yards \n",
    "- Preseason rank - Ranking before the season started\n",
    "- ADP - Average draft position \n",
    "- PPG - average points per game \n",
    "- Points - Total points scored \n",
    "- Position - position the player is in \n"
   ]
  },
  {
   "cell_type": "markdown",
   "id": "29463176",
   "metadata": {},
   "source": [
    "# Pre-registered Analyses\n",
    "\n",
    "## Hypothesis 1:\n",
    "### Average Draft Position in Fantasy Football is a good indicator of post-season rank.\n",
    "\n",
    "We will model the relationship between the ADP and post-season rank over the course of recent history. \n",
    "- Given that players every year have an average draft position due to fantasy football as well as a post-season rank based on their peformance their variability can be aggregated and plotted. \n",
    "- We will set a certain value for correlation before-hand to find if the adp values meet the threshold of correlation to be considered a valued source.\n",
    "\n",
    "By learning about the degree of correlation between ADP and the player's post-season rank we will determine whether fantasy football players could trust these values when making picks. \n",
    "\n",
    "## Hypothesis 2: \n",
    "### Points and 10+ Yards received can linearly predict post-season rank for a wide receiver.\n",
    "\n",
    "We will model the relationship between the different Wide Receiver statistics and their post-season ranks. \n",
    "- By analyzing the factors which indicate good post-season rank, I hope to learn about what statistics can be especially indicative of good performance. \n",
    "- A value greater than 0.5 would indicate there to be sign of correlation between that statistic and post-season rank.\n",
    "\n",
    "Due to all football positions having very different metrics through which their plays are evaluated, we are only focusing on wide receivers in particular. In this way, this sort of hypothesis and analysis is helpful for understanding why certain players end up being more successful through a season and thus ranking higher.\n",
    "\n",
    "## Hypothesis 3:\n",
    "### Breakout Wide Receivers will see an improvement in similar statistics from the year prior to their breakout year. \n",
    "\n",
    "We will model the relationship between the statistics of a breakout player in the season before and during their breakout year. \n",
    "- By defining the breakout player, as someone who had an ADP greater than 150 and ended with an overall rank less than 50 we will be able to determine who fits this description.\n",
    "- After getting the data on these few breakout players we will be able to utilize correlation matrices and regression modelling to determine what statistics impacted their post-season rank the most. \n",
    "\n",
    "By learning about what improvements make the greatest change in wide receiver ranking, players can better determine what part of their game they should improve on most to add more value to themselves. Also fantasy football players will gain a better idea on which players show potential when making their weekly rosters. "
   ]
  },
  {
   "cell_type": "markdown",
   "id": "15ebfddd",
   "metadata": {},
   "source": [
    "# Data Analysis\n",
    "\n",
    "## Data Cleaning"
   ]
  },
  {
   "cell_type": "code",
   "execution_count": 3,
   "id": "1213c948",
   "metadata": {},
   "outputs": [],
   "source": [
    "import numpy as np\n",
    "import seaborn as sns\n",
    "import pandas as pd\n",
    "import matplotlib.pyplot as plt\n",
    "from sklearn.model_selection import train_test_split, KFold, cross_val_score\n",
    "from sklearn.linear_model import LinearRegression\n",
    "from sklearn.linear_model import LogisticRegression\n",
    "from sklearn import linear_model\n",
    "from sklearn import metrics\n",
    "import statsmodels.api as sm\n",
    "from statsmodels.formula.api import ols\n",
    "from sklearn.preprocessing import PolynomialFeatures"
   ]
  },
  {
   "cell_type": "code",
   "execution_count": 4,
   "id": "70e184a1",
   "metadata": {},
   "outputs": [
    {
     "data": {
      "text/html": [
       "<div>\n",
       "<style scoped>\n",
       "    .dataframe tbody tr th:only-of-type {\n",
       "        vertical-align: middle;\n",
       "    }\n",
       "\n",
       "    .dataframe tbody tr th {\n",
       "        vertical-align: top;\n",
       "    }\n",
       "\n",
       "    .dataframe thead th {\n",
       "        text-align: right;\n",
       "    }\n",
       "</style>\n",
       "<table border=\"1\" class=\"dataframe\">\n",
       "  <thead>\n",
       "    <tr style=\"text-align: right;\">\n",
       "      <th></th>\n",
       "      <th>Player</th>\n",
       "      <th>Year</th>\n",
       "      <th>Y/R</th>\n",
       "      <th>YBC/R</th>\n",
       "      <th>AIR/R</th>\n",
       "      <th>YAC/R</th>\n",
       "      <th>YACON/R</th>\n",
       "      <th>10+ YDS</th>\n",
       "      <th>20+ YDS</th>\n",
       "      <th>30+ YDS</th>\n",
       "      <th>40+ YDS</th>\n",
       "      <th>50+ YDS</th>\n",
       "      <th>Preseason_rank</th>\n",
       "      <th>ADP</th>\n",
       "      <th>Postseason_rank</th>\n",
       "      <th>Position</th>\n",
       "      <th>Points</th>\n",
       "      <th>Games</th>\n",
       "      <th>PPG</th>\n",
       "    </tr>\n",
       "  </thead>\n",
       "  <tbody>\n",
       "    <tr>\n",
       "      <th>0</th>\n",
       "      <td>Cooper Kupp</td>\n",
       "      <td>2021</td>\n",
       "      <td>13.4</td>\n",
       "      <td>7.6</td>\n",
       "      <td>7.6</td>\n",
       "      <td>5.8</td>\n",
       "      <td>1.8</td>\n",
       "      <td>66.0</td>\n",
       "      <td>30.0</td>\n",
       "      <td>15.0</td>\n",
       "      <td>9.0</td>\n",
       "      <td>3.0</td>\n",
       "      <td>51.0</td>\n",
       "      <td>52.8</td>\n",
       "      <td>1.0</td>\n",
       "      <td>WR</td>\n",
       "      <td>439.5</td>\n",
       "      <td>17.0</td>\n",
       "      <td>25.9</td>\n",
       "    </tr>\n",
       "    <tr>\n",
       "      <th>1</th>\n",
       "      <td>Deebo Samuel</td>\n",
       "      <td>2021</td>\n",
       "      <td>18.9</td>\n",
       "      <td>8.0</td>\n",
       "      <td>8.0</td>\n",
       "      <td>11.0</td>\n",
       "      <td>3.8</td>\n",
       "      <td>52.0</td>\n",
       "      <td>24.0</td>\n",
       "      <td>13.0</td>\n",
       "      <td>10.0</td>\n",
       "      <td>6.0</td>\n",
       "      <td>87.0</td>\n",
       "      <td>88.5</td>\n",
       "      <td>10.0</td>\n",
       "      <td>WR</td>\n",
       "      <td>339.0</td>\n",
       "      <td>16.0</td>\n",
       "      <td>21.2</td>\n",
       "    </tr>\n",
       "    <tr>\n",
       "      <th>2</th>\n",
       "      <td>Ja'Marr Chase</td>\n",
       "      <td>2021</td>\n",
       "      <td>18.0</td>\n",
       "      <td>9.9</td>\n",
       "      <td>9.9</td>\n",
       "      <td>8.0</td>\n",
       "      <td>3.1</td>\n",
       "      <td>51.0</td>\n",
       "      <td>22.0</td>\n",
       "      <td>13.0</td>\n",
       "      <td>8.0</td>\n",
       "      <td>6.0</td>\n",
       "      <td>71.0</td>\n",
       "      <td>71.0</td>\n",
       "      <td>18.0</td>\n",
       "      <td>WR</td>\n",
       "      <td>304.6</td>\n",
       "      <td>17.0</td>\n",
       "      <td>17.9</td>\n",
       "    </tr>\n",
       "    <tr>\n",
       "      <th>3</th>\n",
       "      <td>Justin Jefferson</td>\n",
       "      <td>2021</td>\n",
       "      <td>14.9</td>\n",
       "      <td>10.5</td>\n",
       "      <td>10.5</td>\n",
       "      <td>4.4</td>\n",
       "      <td>1.4</td>\n",
       "      <td>67.0</td>\n",
       "      <td>27.0</td>\n",
       "      <td>11.0</td>\n",
       "      <td>5.0</td>\n",
       "      <td>2.0</td>\n",
       "      <td>25.0</td>\n",
       "      <td>26.5</td>\n",
       "      <td>12.0</td>\n",
       "      <td>WR</td>\n",
       "      <td>330.4</td>\n",
       "      <td>17.0</td>\n",
       "      <td>19.4</td>\n",
       "    </tr>\n",
       "    <tr>\n",
       "      <th>4</th>\n",
       "      <td>Davante Adams</td>\n",
       "      <td>2021</td>\n",
       "      <td>12.6</td>\n",
       "      <td>7.8</td>\n",
       "      <td>7.8</td>\n",
       "      <td>4.8</td>\n",
       "      <td>1.2</td>\n",
       "      <td>66.0</td>\n",
       "      <td>19.0</td>\n",
       "      <td>12.0</td>\n",
       "      <td>4.0</td>\n",
       "      <td>2.0</td>\n",
       "      <td>8.0</td>\n",
       "      <td>8.3</td>\n",
       "      <td>8.0</td>\n",
       "      <td>WR</td>\n",
       "      <td>344.3</td>\n",
       "      <td>16.0</td>\n",
       "      <td>21.5</td>\n",
       "    </tr>\n",
       "    <tr>\n",
       "      <th>...</th>\n",
       "      <td>...</td>\n",
       "      <td>...</td>\n",
       "      <td>...</td>\n",
       "      <td>...</td>\n",
       "      <td>...</td>\n",
       "      <td>...</td>\n",
       "      <td>...</td>\n",
       "      <td>...</td>\n",
       "      <td>...</td>\n",
       "      <td>...</td>\n",
       "      <td>...</td>\n",
       "      <td>...</td>\n",
       "      <td>...</td>\n",
       "      <td>...</td>\n",
       "      <td>...</td>\n",
       "      <td>...</td>\n",
       "      <td>...</td>\n",
       "      <td>...</td>\n",
       "      <td>...</td>\n",
       "    </tr>\n",
       "    <tr>\n",
       "      <th>1026</th>\n",
       "      <td>Austin Collie</td>\n",
       "      <td>2013</td>\n",
       "      <td>10.5</td>\n",
       "      <td>9.8</td>\n",
       "      <td>9.8</td>\n",
       "      <td>0.7</td>\n",
       "      <td>0.0</td>\n",
       "      <td>3.0</td>\n",
       "      <td>0.0</td>\n",
       "      <td>0.0</td>\n",
       "      <td>0.0</td>\n",
       "      <td>0.0</td>\n",
       "      <td>324.0</td>\n",
       "      <td>296.0</td>\n",
       "      <td>450.0</td>\n",
       "      <td>WR</td>\n",
       "      <td>12.3</td>\n",
       "      <td>7.0</td>\n",
       "      <td>1.8</td>\n",
       "    </tr>\n",
       "    <tr>\n",
       "      <th>1027</th>\n",
       "      <td>Quinton Patton</td>\n",
       "      <td>2013</td>\n",
       "      <td>11.3</td>\n",
       "      <td>8.7</td>\n",
       "      <td>8.7</td>\n",
       "      <td>2.7</td>\n",
       "      <td>0.0</td>\n",
       "      <td>1.0</td>\n",
       "      <td>1.0</td>\n",
       "      <td>0.0</td>\n",
       "      <td>0.0</td>\n",
       "      <td>0.0</td>\n",
       "      <td>262.0</td>\n",
       "      <td>252.0</td>\n",
       "      <td>567.0</td>\n",
       "      <td>WR</td>\n",
       "      <td>1.0</td>\n",
       "      <td>5.0</td>\n",
       "      <td>0.2</td>\n",
       "    </tr>\n",
       "    <tr>\n",
       "      <th>1028</th>\n",
       "      <td>Lestar Jean</td>\n",
       "      <td>2013</td>\n",
       "      <td>8.8</td>\n",
       "      <td>8.0</td>\n",
       "      <td>8.0</td>\n",
       "      <td>0.8</td>\n",
       "      <td>0.0</td>\n",
       "      <td>2.0</td>\n",
       "      <td>0.0</td>\n",
       "      <td>0.0</td>\n",
       "      <td>0.0</td>\n",
       "      <td>0.0</td>\n",
       "      <td>366.0</td>\n",
       "      <td>358.0</td>\n",
       "      <td>492.0</td>\n",
       "      <td>WR</td>\n",
       "      <td>7.5</td>\n",
       "      <td>12.0</td>\n",
       "      <td>0.6</td>\n",
       "    </tr>\n",
       "    <tr>\n",
       "      <th>1029</th>\n",
       "      <td>Jon Baldwin</td>\n",
       "      <td>2013</td>\n",
       "      <td>9.3</td>\n",
       "      <td>7.3</td>\n",
       "      <td>7.3</td>\n",
       "      <td>2.0</td>\n",
       "      <td>0.0</td>\n",
       "      <td>1.0</td>\n",
       "      <td>0.0</td>\n",
       "      <td>0.0</td>\n",
       "      <td>0.0</td>\n",
       "      <td>0.0</td>\n",
       "      <td>250.0</td>\n",
       "      <td>246.3</td>\n",
       "      <td>511.0</td>\n",
       "      <td>WR</td>\n",
       "      <td>5.8</td>\n",
       "      <td>7.0</td>\n",
       "      <td>0.8</td>\n",
       "    </tr>\n",
       "    <tr>\n",
       "      <th>1030</th>\n",
       "      <td>Stephen Williams</td>\n",
       "      <td>2013</td>\n",
       "      <td>0.0</td>\n",
       "      <td>0.0</td>\n",
       "      <td>0.0</td>\n",
       "      <td>0.0</td>\n",
       "      <td>0.0</td>\n",
       "      <td>0.0</td>\n",
       "      <td>0.0</td>\n",
       "      <td>0.0</td>\n",
       "      <td>0.0</td>\n",
       "      <td>0.0</td>\n",
       "      <td>382.0</td>\n",
       "      <td>376.0</td>\n",
       "      <td>578.0</td>\n",
       "      <td>WR</td>\n",
       "      <td>0.0</td>\n",
       "      <td>6.0</td>\n",
       "      <td>0.0</td>\n",
       "    </tr>\n",
       "  </tbody>\n",
       "</table>\n",
       "<p>1031 rows × 19 columns</p>\n",
       "</div>"
      ],
      "text/plain": [
       "                Player  Year   Y/R  YBC/R  AIR/R  YAC/R  YACON/R  10+ YDS  \\\n",
       "0          Cooper Kupp  2021  13.4    7.6    7.6    5.8      1.8     66.0   \n",
       "1         Deebo Samuel  2021  18.9    8.0    8.0   11.0      3.8     52.0   \n",
       "2        Ja'Marr Chase  2021  18.0    9.9    9.9    8.0      3.1     51.0   \n",
       "3     Justin Jefferson  2021  14.9   10.5   10.5    4.4      1.4     67.0   \n",
       "4        Davante Adams  2021  12.6    7.8    7.8    4.8      1.2     66.0   \n",
       "...                ...   ...   ...    ...    ...    ...      ...      ...   \n",
       "1026     Austin Collie  2013  10.5    9.8    9.8    0.7      0.0      3.0   \n",
       "1027    Quinton Patton  2013  11.3    8.7    8.7    2.7      0.0      1.0   \n",
       "1028       Lestar Jean  2013   8.8    8.0    8.0    0.8      0.0      2.0   \n",
       "1029       Jon Baldwin  2013   9.3    7.3    7.3    2.0      0.0      1.0   \n",
       "1030  Stephen Williams  2013   0.0    0.0    0.0    0.0      0.0      0.0   \n",
       "\n",
       "      20+ YDS  30+ YDS  40+ YDS  50+ YDS  Preseason_rank    ADP  \\\n",
       "0        30.0     15.0      9.0      3.0            51.0   52.8   \n",
       "1        24.0     13.0     10.0      6.0            87.0   88.5   \n",
       "2        22.0     13.0      8.0      6.0            71.0   71.0   \n",
       "3        27.0     11.0      5.0      2.0            25.0   26.5   \n",
       "4        19.0     12.0      4.0      2.0             8.0    8.3   \n",
       "...       ...      ...      ...      ...             ...    ...   \n",
       "1026      0.0      0.0      0.0      0.0           324.0  296.0   \n",
       "1027      1.0      0.0      0.0      0.0           262.0  252.0   \n",
       "1028      0.0      0.0      0.0      0.0           366.0  358.0   \n",
       "1029      0.0      0.0      0.0      0.0           250.0  246.3   \n",
       "1030      0.0      0.0      0.0      0.0           382.0  376.0   \n",
       "\n",
       "      Postseason_rank Position  Points  Games   PPG  \n",
       "0                 1.0       WR   439.5   17.0  25.9  \n",
       "1                10.0       WR   339.0   16.0  21.2  \n",
       "2                18.0       WR   304.6   17.0  17.9  \n",
       "3                12.0       WR   330.4   17.0  19.4  \n",
       "4                 8.0       WR   344.3   16.0  21.5  \n",
       "...               ...      ...     ...    ...   ...  \n",
       "1026            450.0       WR    12.3    7.0   1.8  \n",
       "1027            567.0       WR     1.0    5.0   0.2  \n",
       "1028            492.0       WR     7.5   12.0   0.6  \n",
       "1029            511.0       WR     5.8    7.0   0.8  \n",
       "1030            578.0       WR     0.0    6.0   0.0  \n",
       "\n",
       "[1031 rows x 19 columns]"
      ]
     },
     "execution_count": 4,
     "metadata": {},
     "output_type": "execute_result"
    }
   ],
   "source": [
    "full_df = pd.read_csv(\"full_df.csv\")\n",
    "\n",
    "wr_df = pd.read_csv(\"wr_df.csv\")\n",
    "wr_df\n"
   ]
  },
  {
   "cell_type": "markdown",
   "id": "971a3a65",
   "metadata": {},
   "source": [
    "## Summary Statistics"
   ]
  },
  {
   "cell_type": "code",
   "execution_count": 5,
   "id": "5a93d7cc",
   "metadata": {},
   "outputs": [
    {
     "name": "stdout",
     "output_type": "stream",
     "text": [
      "Number of Positions: 6\n"
     ]
    },
    {
     "data": {
      "text/plain": [
       "Text(0.5, 0, 'Positions')"
      ]
     },
     "execution_count": 5,
     "metadata": {},
     "output_type": "execute_result"
    },
    {
     "data": {
      "image/png": "[encoded data removed]",
      "text/plain": [
       "<Figure size 432x288 with 1 Axes>"
      ]
     },
     "metadata": {
      "needs_background": "light"
     },
     "output_type": "display_data"
    }
   ],
   "source": [
    "user_categories = full_df.groupby(['Position'])['Points'].sum().sort_values(ascending=False)\n",
    "print(\"Number of Positions:\", len(user_categories))\n",
    "user_categories[:].plot.bar()\n",
    "plt.ylabel('Total Number of Points')\n",
    "plt.xlabel('Positions')\n"
   ]
  },
  {
   "cell_type": "code",
   "execution_count": 7,
   "id": "c8035685",
   "metadata": {},
   "outputs": [
    {
     "name": "stdout",
     "output_type": "stream",
     "text": [
      "Standard deviation of points per position: 37057.22937329128\n"
     ]
    }
   ],
   "source": [
    "print(\"Standard deviation of points per position:\", np.std(user_categories))"
   ]
  },
  {
   "cell_type": "code",
   "execution_count": 18,
   "id": "b1f9f53e",
   "metadata": {},
   "outputs": [
    {
     "data": {
      "text/plain": [
       "<AxesSubplot:xlabel='Number of Players', ylabel='Fantasy Points'>"
      ]
     },
     "execution_count": 18,
     "metadata": {},
     "output_type": "execute_result"
    },
    {
     "data": {
      "image/png": "[encoded data removed]",
      "text/plain": [
       "<Figure size 432x288 with 1 Axes>"
      ]
     },
     "metadata": {
      "needs_background": "light"
     },
     "output_type": "display_data"
    }
   ],
   "source": [
    "points_per_player = wr_df['Points']\n",
    "\n",
    "plt.xlabel(\"Number of Players\", fontsize=15)\n",
    "plt.ylabel(\"Fantasy Points\",fontsize=15)\n",
    "points_per_player.hist(bins = 16)"
   ]
  },
  {
   "cell_type": "code",
   "execution_count": 20,
   "id": "857c87e2",
   "metadata": {},
   "outputs": [
    {
     "data": {
      "text/plain": [
       "Text(0, 0.5, 'Points Per Game')"
      ]
     },
     "execution_count": 20,
     "metadata": {},
     "output_type": "execute_result"
    },
    {
     "data": {
      "image/png": "[encoded data removed]",
      "text/plain": [
       "<Figure size 432x288 with 1 Axes>"
      ]
     },
     "metadata": {
      "needs_background": "light"
     },
     "output_type": "display_data"
    }
   ],
   "source": [
    "wr_df.boxplot(column ='PPG')\n",
    "plt.ylabel('Points Per Game')"
   ]
  },
  {
   "cell_type": "code",
   "execution_count": 82,
   "id": "caa8a156",
   "metadata": {},
   "outputs": [
    {
     "data": {
      "text/plain": [
       "<AxesSubplot:xlabel='Year', ylabel='Points'>"
      ]
     },
     "execution_count": 82,
     "metadata": {},
     "output_type": "execute_result"
    },
    {
     "data": {
      "image/png": "[encoded data removed]",
      "text/plain": [
       "<Figure size 432x288 with 1 Axes>"
      ]
     },
     "metadata": {
      "needs_background": "light"
     },
     "output_type": "display_data"
    }
   ],
   "source": [
    "# sort the dataframe by year \n",
    "by_year = full_df.groupby(['Year'])['Points'].sum()\n",
    "by_year_df = by_year.to_frame()\n",
    "points = by_year_df['Points'].tolist()\n",
    "years = [2013, 2014, 2015, 2016, 2017, 2018, 2019, 2020, 2021]\n",
    "\n",
    "p_by_year_df = pd.DataFrame()\n",
    "p_by_year_df['Year'] = years\n",
    "p_by_year_df['Points'] = points\n",
    "\n",
    "sns.regplot(x='Year', y='Points', data = p_by_year_df)"
   ]
  },
  {
   "cell_type": "markdown",
   "id": "ad75bab6",
   "metadata": {},
   "source": [
    "### Relationship Between ADP and Post-Season Rank\n",
    "Considering that ADP is a factor that Fantasy Football Players consider when choosing their draft picks, we decided to look into whether this is something that serious players should really consider when choosing their team. If ADP appears to be similar to Postseason Rank then their correlation value should be close to 1. \n",
    "\n",
    "With hundreds of players to do research on and no guarantee that you get the players that you want, ADP can be the most accessible piece of information that can help decide who to choose as a next pick. I aim to see whether players can trust the masses when forming their team. "
   ]
  },
  {
   "cell_type": "code",
   "execution_count": null,
   "id": "50e1f398",
   "metadata": {},
   "outputs": [],
   "source": [
    "year_full_df = full_df.groupby('Year')\n",
    "year_full_df[[\"ADP\", \"Postseason_rank\"]].corr()"
   ]
  },
  {
   "cell_type": "code",
   "execution_count": null,
   "id": "470e2e26",
   "metadata": {},
   "outputs": [],
   "source": [
    "full_df[[\"ADP\", \"Postseason_rank\"]].corr()"
   ]
  },
  {
   "cell_type": "markdown",
   "id": "5b44fe5f",
   "metadata": {},
   "source": [
    "We hypothesize that the Average Draft Position would not be a good indicator of the Postseason rank of players. The ADP is based on predictions made by the Fantasy Football community who did or didn't do their own research. After performing a correlation test, this hypothesis and relationship were supported because as there was a correlation greater than 0.5 when looking at the past 9 years, there were only two years when the ADP predictions had less than a 0.5 correlation. "
   ]
  },
  {
   "cell_type": "code",
   "execution_count": null,
   "id": "99e27a21",
   "metadata": {},
   "outputs": [],
   "source": []
  },
  {
   "cell_type": "code",
   "execution_count": null,
   "id": "1c363e61",
   "metadata": {},
   "outputs": [],
   "source": [
    "positions = full_df.groupby(['Position'])['ADP'].mean().sort_values(ascending=False)\n",
    "print(\"Number of Positions:\", len(positions))\n",
    "positions[:].plot.bar()\n",
    "plt.ylabel('Average ADP')\n",
    "plt.xlabel('Positions')"
   ]
  },
  {
   "cell_type": "code",
   "execution_count": null,
   "id": "8d50c974",
   "metadata": {},
   "outputs": [],
   "source": [
    "positions_df = full_df.groupby(['Position'])\n",
    "positions_df[[\"ADP\", \"Postseason_rank\"]].corr()"
   ]
  },
  {
   "cell_type": "markdown",
   "id": "32a1c0d7",
   "metadata": {},
   "source": [
    "From the correlation matrices between ADP and Post season rank across positions, we see that correlations for quarterbacks are significantly higher compared to other positions. This may be because there are limited numbers of quarterbacks compared to other positions, and therefore the scope of ADP and Postseason rank is smaller. \n"
   ]
  },
  {
   "cell_type": "code",
   "execution_count": null,
   "id": "f3824424",
   "metadata": {},
   "outputs": [],
   "source": [
    "sns.regplot(data=full_df, x=\"ADP\", y=\"Postseason_rank\", scatter_kws={\"color\": \"blue\"}, line_kws={\"color\": \"red\"})"
   ]
  },
  {
   "cell_type": "code",
   "execution_count": null,
   "id": "5cd764d6",
   "metadata": {},
   "outputs": [],
   "source": [
    "## Analyze regression values\n",
    "print(\"Slope for regression line is {slope:.0f}\".format(slope = reg.coef_[0]))\n",
    "print(\"Intercept for regression line is {intercept:.0f}\".format(intercept = reg.intercept_))"
   ]
  },
  {
   "cell_type": "markdown",
   "id": "b116028a",
   "metadata": {},
   "source": [
    "\n",
    "### Changes in Rank"
   ]
  },
  {
   "cell_type": "code",
   "execution_count": null,
   "id": "57dc961f",
   "metadata": {},
   "outputs": [],
   "source": [
    "change_in_rank = wr_df['ADP'] - wr_df['Postseason_rank']\n",
    "\n",
    "sns.set(rc={\"figure.figsize\":(20, 8)})\n",
    "sns.histplot(data=change_in_rank)"
   ]
  },
  {
   "cell_type": "markdown",
   "id": "b5fa7905",
   "metadata": {},
   "source": [
    "Change in rank is distributed very normally with a mean slightly below 0 and a large standard deviation."
   ]
  },
  {
   "cell_type": "code",
   "execution_count": null,
   "id": "c8ac6304",
   "metadata": {},
   "outputs": [],
   "source": [
    "sns.boxplot(x=change_in_rank)"
   ]
  },
  {
   "cell_type": "markdown",
   "id": "5b777abe",
   "metadata": {},
   "source": [
    "It can be noted in this boxplot that, on both ends (having a rank much better than preseason and the opposite), there are numerous outliers."
   ]
  },
  {
   "cell_type": "code",
   "execution_count": null,
   "id": "43136287",
   "metadata": {},
   "outputs": [],
   "source": [
    "def remove_outliers(data, m=2):\n",
    "    return data[abs(data - np.mean(data)) < m * np.std(data)]\n",
    "\n",
    "remove_outliers(change_in_rank).describe()"
   ]
  },
  {
   "cell_type": "markdown",
   "id": "5c3d5129",
   "metadata": {},
   "source": [
    "The outliers were removed for cleaner summary statistics. Change in rank from Post-season rank in comparison to ADP shows a relatively normal distribution with a large standard deviation of about 121 and a mean less than 0 of -17.476434, which indicates that on average, from the beginning of the season to the end of the season, a players' rank would drop around 17 places, for example they could start with better rank of 10, as lower is better, but end aroudn 27, which would mean a lower performance in comparison to expectation.\n",
    "\n",
    "Furthermore, the large standard deviation of around 100 even after outliers were removed shows that there is not necessarily a clear trend for players when comparing ADP with Postseason_rank."
   ]
  },
  {
   "cell_type": "markdown",
   "id": "0555b430",
   "metadata": {},
   "source": [
    "### Influencing Postseason Rank"
   ]
  },
  {
   "cell_type": "code",
   "execution_count": null,
   "id": "db541f44",
   "metadata": {},
   "outputs": [],
   "source": [
    "wr_df[[\"Postseason_rank\", \"Y/R\",\"YBC/R\",\"AIR/R\", \"YAC/R\", \"YACON/R\", \"10+ YDS\", \"20+ YDS\", \"30+ YDS\", \"40+ YDS\", \"50+ YDS\", \"Preseason_rank\", \"ADP\", \"Points\", \"PPG\"]].corr()"
   ]
  },
  {
   "cell_type": "markdown",
   "id": "383c1730",
   "metadata": {},
   "source": [
    "From this chart it can be noted that certain parameters having significant correlation with Postseason Rank (< -0.5 or > 0.5 for preseason rank or ADP): Points, PPG (Points per Game), 10+ Yards, 20+ Yards, 30+ Yards, 40+ Yards, Preseason_rank, and ADP. However, 10+ YDS, 20+ YDS, 30+ YDS, and 40+ YDS all have a high covariance due to the nature of the statistic. Points and PPG also have a high covariance due to the nature of the statistic. To reduce, overfitting Points and 10+ YDS will be considered.\n",
    "\n",
    "A major difficulty with fitting parameters to fit a model off of is that many game parameters in football for wide recievers do have some sort of covariance, which makes creating a model difficult for the high possibility of overfitting."
   ]
  },
  {
   "cell_type": "code",
   "execution_count": null,
   "id": "ec000ad8",
   "metadata": {},
   "outputs": [],
   "source": [
    "sns.scatterplot(data=wr_df, x=\"Points\", y=\"Postseason_rank\")"
   ]
  },
  {
   "cell_type": "markdown",
   "id": "63320a91",
   "metadata": {},
   "source": [
    "We ran a scatterplot to test the correlation between postseason rank and points. A very tight negative correlation between postseason rank and points can be seen from the above scatterplot. In interpretation, those of lower rank (meaning better performance) scored more points."
   ]
  },
  {
   "cell_type": "code",
   "execution_count": null,
   "id": "6593031c",
   "metadata": {},
   "outputs": [],
   "source": [
    "sns.scatterplot(data=wr_df, x=\"10+ YDS\", y=\"Postseason_rank\")"
   ]
  },
  {
   "cell_type": "markdown",
   "id": "e14e3cd6",
   "metadata": {},
   "source": [
    "Correlation between postseason rank and points can be seen from the above scatterplot, though not as tight as with points."
   ]
  },
  {
   "cell_type": "markdown",
   "id": "0bbfed4b",
   "metadata": {},
   "source": [
    "### Scoring Points Over Time"
   ]
  },
  {
   "cell_type": "markdown",
   "id": "e0aef9ca",
   "metadata": {},
   "source": [
    "## Statistics of breakout players throughout the years"
   ]
  },
  {
   "cell_type": "code",
   "execution_count": null,
   "id": "e8b1b031",
   "metadata": {},
   "outputs": [],
   "source": [
    "cond_ = (wr_df[\"ADP\"] > 150) & (wr_df[\"Postseason_rank\"] < 50)\n",
    "breakouts = wr_df.loc[cond_,:]\n",
    "\n",
    "name = breakouts['Player'].values.tolist()\n",
    "print(name)\n",
    "\n",
    "#def player(name):\n",
    "#display(wr_df.loc[wr_df['Player'] == name])\n",
    "\n",
    "breakout_full = pd.DataFrame()\n",
    "\n",
    "length = len(name)\n",
    "for n in range(length):\n",
    "    breakout_loop = wr_df.loc[wr_df['Player'] == name[n]]\n",
    "    breakout_full = breakout_full.append(breakout_loop)\n",
    "#     breakout_full = pd.concat([breakout_loop])\n",
    "\n",
    "#display(breakout_full)\n",
    "display(breakout_full)\n",
    "breakout_full.shape\n",
    "\n",
    "\n",
    "    #breakout_loop.append(breakout_full)\n",
    "\n",
    "# display(breakout_full)\n",
    "\n",
    "# breakout_loop."
   ]
  },
  {
   "cell_type": "code",
   "execution_count": null,
   "id": "93c591ff",
   "metadata": {},
   "outputs": [],
   "source": [
    "breakout_full.describe()"
   ]
  },
  {
   "cell_type": "code",
   "execution_count": null,
   "id": "51e45ba6",
   "metadata": {},
   "outputs": [],
   "source": [
    "breakout_full.corr()"
   ]
  },
  {
   "cell_type": "markdown",
   "id": "f4770f4f",
   "metadata": {},
   "source": [
    "From the correlation matrices above, the magnitudes of the correlation between Years and all other variables were relative small, except YAC/R."
   ]
  },
  {
   "cell_type": "code",
   "execution_count": null,
   "id": "1043925f",
   "metadata": {},
   "outputs": [],
   "source": [
    "sns.regplot(data = breakout_full, x = \"Year\", y = \"YAC/R\", ci = 95)"
   ]
  },
  {
   "cell_type": "code",
   "execution_count": null,
   "id": "d82035fe",
   "metadata": {},
   "outputs": [],
   "source": [
    "\n"
   ]
  },
  {
   "cell_type": "markdown",
   "id": "e472216b",
   "metadata": {},
   "source": [
    "# Models"
   ]
  },
  {
   "cell_type": "markdown",
   "id": "be600f8f",
   "metadata": {},
   "source": [
    "# ADP - Postseason Model"
   ]
  },
  {
   "cell_type": "code",
   "execution_count": null,
   "id": "0a94ec63",
   "metadata": {},
   "outputs": [],
   "source": [
    "# plot real data\n",
    "fig = plt.figure(figsize=(10, 5))\n",
    "plt.plot(users.ADP,users.Postseason_rank, label=\"Value\", markersize=\"3\")\n",
    "plt.ylabel('Postseason Rank')\n",
    "plt.xlabel('ADP')\n",
    "\n",
    "# plot regression line\n",
    "x = users.ADP\n",
    "reg = LinearRegression().fit(x.values.reshape(-1,1), users.Postseason_rank)\n",
    "pred = reg.predict(x.values.reshape(-1,1))\n",
    "plt.plot(users.ADP, pred, linewidth=3, label=\"Linear Regression\")\n",
    "plt.legend()\n",
    "plt.title(\"ADP Accuracy\")"
   ]
  },
  {
   "cell_type": "markdown",
   "id": "cc26d13e",
   "metadata": {},
   "source": []
  },
  {
   "cell_type": "markdown",
   "id": "da485d0e",
   "metadata": {},
   "source": [
    "## Postseason Rank Model"
   ]
  },
  {
   "cell_type": "code",
   "execution_count": null,
   "id": "4097302e",
   "metadata": {},
   "outputs": [],
   "source": [
    "multi_x = wr_df[['Points', '10+ YDS']]\n",
    "multi_y = wr_df['Postseason_rank']\n",
    "\n",
    "poly_model = PolynomialFeatures(degree=1)\n",
    "poly_x_values = poly_model.fit_transform(multi_x)\n",
    "\n",
    "poly_reg_model = sm.OLS(multi_y, poly_x_values).fit()\n",
    "ypred = poly_reg_model.predict(poly_x_values)"
   ]
  },
  {
   "cell_type": "code",
   "execution_count": null,
   "id": "bbf2a715",
   "metadata": {
    "scrolled": true
   },
   "outputs": [],
   "source": [
    "plt.figure(figsize=(20,8))\n",
    "plt.scatter(wr_df['Postseason_rank'], ypred, c='crimson')\n",
    "\n",
    "p1 = max(max(ypred), max(wr_df['Postseason_rank']))\n",
    "p2 = min(min(ypred), min(wr_df['Postseason_rank']))\n",
    "plt.plot([p1, p2], [p1, p2], 'b-')\n",
    "plt.xlabel('True Values', fontsize=15)\n",
    "plt.ylabel('Predictions', fontsize=15)\n",
    "plt.axis('equal')\n",
    "plt.show()"
   ]
  },
  {
   "cell_type": "markdown",
   "id": "10030318",
   "metadata": {},
   "source": [
    "## Model (2)"
   ]
  },
  {
   "cell_type": "markdown",
   "id": "20d66a77",
   "metadata": {},
   "source": [
    "# Evaluation of Significance"
   ]
  },
  {
   "cell_type": "markdown",
   "id": "f5177006",
   "metadata": {},
   "source": [
    "## ADP - Postseason Model"
   ]
  },
  {
   "cell_type": "code",
   "execution_count": null,
   "id": "a141b5cf",
   "metadata": {},
   "outputs": [],
   "source": [
    "print(\"R-squared value for regression line is {score:.3f}\".format(score = reg.score(users.ADP.values.reshape(-1,1), users.Postseason_rank)))"
   ]
  },
  {
   "cell_type": "markdown",
   "id": "f2893c0c",
   "metadata": {},
   "source": [
    "With a R-squared value of 0.362, our regression plot predicts 36.2% of the observed data(ADP) well. It is expected that the R-squared value would be a low value as ADP is known to not be a perfect indicator of post-season rank, but a value below 0.5 shows a very low relationship between the two values. This indicates that external factors contribute much more to predicting what the postseason rank is for a player. "
   ]
  },
  {
   "cell_type": "markdown",
   "id": "5a6f7e86",
   "metadata": {},
   "source": [
    "## Postseason Rank Model"
   ]
  },
  {
   "cell_type": "code",
   "execution_count": null,
   "id": "b46632e3",
   "metadata": {},
   "outputs": [],
   "source": [
    "multi_model.summary()"
   ]
  },
  {
   "cell_type": "markdown",
   "id": "9cb32ddd",
   "metadata": {},
   "source": [
    "From the summary of the model, it has an r-squared value of 0.874, meaning that the model does fit observations to a good degree, though as mentioned above, overfitting was a significant problem that could be addressed in the future with the model due to the high level of covariance between the two parameters used. The p-value of points and ten yards were both extremely low, with points being smaller than ten yards, meaning that it was more informative when creating predictions."
   ]
  },
  {
   "cell_type": "code",
   "execution_count": null,
   "id": "2fe10295",
   "metadata": {},
   "outputs": [],
   "source": [
    "fig = sm.graphics.plot_regress_exog(multi_model, 'Points')"
   ]
  },
  {
   "cell_type": "markdown",
   "id": "4557ec2e",
   "metadata": {},
   "source": [
    "A major concern was also the residual plot, which did not show scattered random points but was instead very fitted and showed shape. The curved pattern in the residual plot  indicates that the model captures the trend of some data points better than that of others for Points, particularly in this case with the lower and higher number of Points which show very high residual values."
   ]
  },
  {
   "cell_type": "code",
   "execution_count": null,
   "id": "79f5125d",
   "metadata": {},
   "outputs": [],
   "source": [
    "fig = sm.graphics.plot_regress_exog(multi_model, 'Ten_Yards')"
   ]
  },
  {
   "cell_type": "markdown",
   "id": "645ef670",
   "metadata": {},
   "source": [
    "The residual plot for 10+ Yard plays was also similar, though a little more scattered and less fitted than that of Points."
   ]
  },
  {
   "cell_type": "markdown",
   "id": "346c4a25",
   "metadata": {},
   "source": [
    "## Model (2)"
   ]
  },
  {
   "cell_type": "markdown",
   "id": "e02f89cf",
   "metadata": {},
   "source": [
    "# Interpretations and Conclusions\n",
    "\n",
    "## Postseason Rank Model"
   ]
  },
  {
   "cell_type": "markdown",
   "id": "cdf91dac",
   "metadata": {},
   "source": [
    "There appears to be a decently strong relationship between the variables of Points and number of 10+ Yard Plays, with high correlation. While it might be too quick to wholeheartedly agree with the hypothesis that these parameters can accurately predict the Postseason Rank a player might have, the model created can, to some degree of success, make a predicition with some similarity to real outcomes. The results of the model show that there is some validity in these two factors and their effect on Postseason Rank."
   ]
  },
  {
   "cell_type": "markdown",
   "id": "a1e36d5b",
   "metadata": {},
   "source": [
    "## Model (2)"
   ]
  },
  {
   "cell_type": "markdown",
   "id": "41646c0e",
   "metadata": {},
   "source": [
    "## Conclusions"
   ]
  },
  {
   "cell_type": "markdown",
   "id": "1b24b36f",
   "metadata": {},
   "source": [
    "# Limitations\n",
    "\n",
    "## General\n",
    "\n",
    "The major limitation to our data are the non-quantifiable factors that can affect a player’s performance. These include factors such as injury that can occur at any point in the season or off-season and vary in severity, the chemistry between the wide receiver and his quarterback as better chemistry would allow for better overall performance, that a breakout player could be in their rookie season and not have any prior data, and the personal factors that might affect the players’ ability in games. These are all subjective factors that cannot be put down as data, thus limiting the accuracy of our analysis and predictions. \n",
    "\n",
    "We only looked back to 2013, as more advanced statistics started to be measured then. These advanced statistics include yards per reception (Y/R), yards before contact with an opponent per reception (YBC/R), the distance the ball traveled in the air per reception (AIR/R), yards after catch per reception (YAC/R),  yards after contact per reception (YACON/R), number of plays that were greater than a certain distance (10+ YDS, 20+ YDS, 30+ YDS, 40+ YDS, 50+ YDS). We believe that these statistics will give us a better understanding of the similar performance on a per reception basis between different breakout players compared to using more basic statistics such as total yards. \n",
    "\n",
    "As a result of wanting to look into the more advanced statistics, we are limited to up to the year 2013. Breakout players are something that don’t occur often which means that we won’t find many players that fit both our breakout player criteria and broke out after 2013. This is why we limited our data to only wide receivers, who historically have the most breakout players compared to any other position. By having more breakout players we would have more data to compare between each other and against current players. There are breakout players in other positions and data on them but only a fraction of how many players that breakout in the wide receiver position. "
   ]
  },
  {
   "cell_type": "markdown",
   "id": "3e9e523d",
   "metadata": {},
   "source": [
    "## Postseason Rank Model\n",
    "\n",
    "The model was limited by the metrics used, which were only related to Games. As all of the metrics were related to Games, many had high levels of covariance that made fitting a model very difficult. If further kinds of metrics for players could be compared as well, such as physical (height, weight, etc.), team (number of teams' wins that season, etc.) the model could have been more accurate and had less problems with overfitting that could make it much more accurate."
   ]
  },
  {
   "cell_type": "markdown",
   "id": "fbe48196",
   "metadata": {},
   "source": [
    "## Model (2)"
   ]
  },
  {
   "cell_type": "code",
   "execution_count": null,
   "id": "c9c1b1f0",
   "metadata": {},
   "outputs": [],
   "source": []
  }
 ],
 "metadata": {
  "kernelspec": {
   "display_name": "Python 3 (ipykernel)",
   "language": "python",
   "name": "python3"
  },
  "language_info": {
   "codemirror_mode": {
    "name": "ipython",
    "version": 3
   },
   "file_extension": ".py",
   "mimetype": "text/x-python",
   "name": "python",
   "nbconvert_exporter": "python",
   "pygments_lexer": "ipython3",
   "version": "3.10.4"
  }
 },
 "nbformat": 4,
 "nbformat_minor": 5
}
