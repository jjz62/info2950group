{
 "cells": [
  {
   "cell_type": "markdown",
   "id": "759071a0",
   "metadata": {},
   "source": [
    "# Final Report\n",
    "By: Jenny Zhang, Marcus Kang, Joshua Chang, Daniel Lee"
   ]
  },
  {
   "cell_type": "markdown",
   "id": "a46d4301",
   "metadata": {},
   "source": [
    "# Introduction"
   ]
  },
  {
   "cell_type": "markdown",
   "id": "bd98ec69",
   "metadata": {},
   "source": [
    "# Data Description"
   ]
  },
  {
   "cell_type": "markdown",
   "id": "29463176",
   "metadata": {},
   "source": [
    "# Pre-registered Analyses\n",
    "\n",
    "## Hypothesis 1: \n",
    "### Points and 10+ Yards plays can linearly predict post-season rank for a wide receiver.\n",
    "\n",
    "By analyzing the factors which indicate good post-season rank, I hope to learn about what statistics can be especially indicative of good performance. Due to all football positions having very different mterics through which their plays are evaluated, I'm only focusing on wide receivers in particular. In this way, this sort of hypothesis and analysis is helpful for understanding why certain players end up being more successful through a season and thus ranking higher.\n",
    "Yards per Reception and Yards after the Catch are most indicative of good post-season rank for a wide receiver.\n",
    "\n",
    "## Hypothesis 2:\n",
    "### The number of points scored by wide receivers has increased over time."
   ]
  },
  {
   "cell_type": "markdown",
   "id": "15ebfddd",
   "metadata": {},
   "source": [
    "# Data Analysis\n",
    "\n",
    "## Data Cleaning"
   ]
  },
  {
   "cell_type": "code",
   "execution_count": 7,
   "id": "1213c948",
   "metadata": {},
   "outputs": [],
   "source": [
    "import numpy as np\n",
    "import seaborn as sns\n",
    "import pandas as pd\n",
    "import matplotlib.pyplot as plt"
   ]
  },
  {
   "cell_type": "code",
   "execution_count": 12,
   "id": "70e184a1",
   "metadata": {},
   "outputs": [
    {
     "name": "stderr",
     "output_type": "stream",
     "text": [
      "/var/folders/3h/yl2n3z352gb0fr4mzw_rdmh40000gn/T/ipykernel_30736/4037288629.py:23: FutureWarning: The default value of regex will change from True to False in a future version.\n",
      "  wr_table['Player'] = wr_table['Player'].str.replace(r\"\\(.*\\)\",\"\")\n"
     ]
    }
   ],
   "source": [
    "#wide receiver stats\n",
    "wr_stats_2021 = pd.read_csv('data/post-season data/FantasyPros_Fantasy_Football_Advanced_Stats_Report_WR_2021.csv')\n",
    "wr_stats_2021['Year'] = '2021'\n",
    "wr_stats_2020 = pd.read_csv('data/post-season data/FantasyPros_Fantasy_Football_Advanced_Stats_Report_WR_2020.csv')\n",
    "wr_stats_2020['Year'] = '2020'\n",
    "wr_stats_2019 = pd.read_csv('data/post-season data/FantasyPros_Fantasy_Football_Advanced_Stats_Report_WR_2019.csv')\n",
    "wr_stats_2019['Year'] = '2019'\n",
    "wr_stats_2018 = pd.read_csv('data/post-season data/FantasyPros_Fantasy_Football_Advanced_Stats_Report_WR_2018.csv')\n",
    "wr_stats_2018['Year'] = '2018'\n",
    "wr_stats_2017 = pd.read_csv('data/post-season data/FantasyPros_Fantasy_Football_Advanced_Stats_Report_WR_2017.csv')\n",
    "wr_stats_2017['Year'] = '2017'\n",
    "wr_stats_2016 = pd.read_csv('data/post-season data/FantasyPros_Fantasy_Football_Advanced_Stats_Report_WR_2016.csv')\n",
    "wr_stats_2016['Year'] = '2016'\n",
    "wr_stats_2015 = pd.read_csv('data/post-season data/FantasyPros_Fantasy_Football_Advanced_Stats_Report_WR_2015.csv')\n",
    "wr_stats_2015['Year'] = '2015'\n",
    "wr_stats_2014 = pd.read_csv('data/post-season data/FantasyPros_Fantasy_Football_Advanced_Stats_Report_WR_2014.csv')\n",
    "wr_stats_2014['Year'] = '2014'\n",
    "wr_stats_2013 = pd.read_csv('data/post-season data/FantasyPros_Fantasy_Football_Advanced_Stats_Report_WR_2013.csv')\n",
    "wr_stats_2013['Year'] = '2013'\n",
    "\n",
    "wr_table = pd.concat([wr_stats_2021,wr_stats_2020,wr_stats_2019,wr_stats_2018,wr_stats_2017,wr_stats_2016,wr_stats_2015,wr_stats_2014,wr_stats_2013])\n",
    "wr_table = wr_table[[\"Player\", \"Year\", \"Y/R\", \"YBC/R\", \"AIR/R\", \"YAC/R\", \"YACON/R\", \"10+ YDS\", \"20+ YDS\", \"30+ YDS\", \"40+ YDS\", \"50+ YDS\"]]\n",
    "wr_table['Player'] = wr_table['Player'].str.replace(r\"\\(.*\\)\",\"\")"
   ]
  },
  {
   "cell_type": "code",
   "execution_count": 9,
   "id": "c6f18076",
   "metadata": {},
   "outputs": [],
   "source": [
    "#overall adp files\n",
    "\n",
    "overall_adp_2021 = pd.read_csv('data/pre-season data/FantasyPros_2021_Overall_ADP_Rankings.csv')\n",
    "overall_adp_2021['Year'] = '2021'\n",
    "\n",
    "overall_adp_2020 = pd.read_csv('data/pre-season data/FantasyPros_2020_Overall_ADP_Rankings.csv')\n",
    "overall_adp_2020['Year'] = '2020'\n",
    "\n",
    "overall_adp_2019 = pd.read_csv('data/pre-season data/FantasyPros_2019_Overall_ADP_Rankings.csv')\n",
    "overall_adp_2019['Year'] = '2019'\n",
    "\n",
    "overall_adp_2018 = pd.read_csv('data/pre-season data/FantasyPros_2018_Overall_ADP_Rankings.csv')\n",
    "overall_adp_2018['Year'] = '2018'\n",
    "\n",
    "overall_adp_2017 = pd.read_csv('data/pre-season data/FantasyPros_2017_Overall_ADP_Rankings.csv')\n",
    "overall_adp_2017['Year'] = '2017'\n",
    "\n",
    "overall_adp_2016 = pd.read_csv('data/pre-season data/FantasyPros_2016_Overall_ADP_Rankings.csv')\n",
    "overall_adp_2016['Year'] = '2016'\n",
    "\n",
    "overall_adp_2015 = pd.read_csv('data/pre-season data/FantasyPros_2015_Overall_ADP_Rankings.csv')\n",
    "overall_adp_2015['Year'] = '2015'\n",
    "\n",
    "overall_adp_2014 = pd.read_csv('data/pre-season data/FantasyPros_2014_Overall_ADP_Rankings.csv')\n",
    "overall_adp_2014['Year'] = '2014'\n",
    "\n",
    "overall_adp_2013 = pd.read_csv('data/pre-season data/FantasyPros_2013_Overall_ADP_Rankings.csv')\n",
    "overall_adp_2013['Year'] = '2013'"
   ]
  },
  {
   "cell_type": "code",
   "execution_count": 10,
   "id": "7a99993e",
   "metadata": {},
   "outputs": [],
   "source": [
    "#end of season overall rankings \n",
    "overall_rankings_2021 = pd.read_csv('data/FantasyPros_Fantasy_Football_Points_PPR_2021.csv')\n",
    "overall_rankings_2021['Year'] = '2021'\n",
    "\n",
    "overall_rankings_2020 = pd.read_csv('data/FantasyPros_Fantasy_Football_Points_PPR_2020.csv')\n",
    "overall_rankings_2020['Year'] = '2020'\n",
    "\n",
    "overall_rankings_2019 = pd.read_csv('data/FantasyPros_Fantasy_Football_Points_PPR_2019.csv')\n",
    "overall_rankings_2019['Year'] = '2019'\n",
    "\n",
    "overall_rankings_2018 = pd.read_csv('data/FantasyPros_Fantasy_Football_Points_PPR_2018.csv')\n",
    "overall_rankings_2018['Year'] = '2018'\n",
    "\n",
    "overall_rankings_2017 = pd.read_csv('data/FantasyPros_Fantasy_Football_Points_PPR_2017.csv')\n",
    "overall_rankings_2017['Year'] = '2017'\n",
    "\n",
    "overall_rankings_2016 = pd.read_csv('data/FantasyPros_Fantasy_Football_Points_PPR_2016.csv')\n",
    "overall_rankings_2016['Year'] = '2016'\n",
    "\n",
    "overall_rankings_2015 = pd.read_csv('data/FantasyPros_Fantasy_Football_Points_PPR_2015.csv')\n",
    "overall_rankings_2015['Year'] = '2015'\n",
    "\n",
    "overall_rankings_2014 = pd.read_csv('data/FantasyPros_Fantasy_Football_Points_PPR_2014.csv')\n",
    "overall_rankings_2014['Year'] = '2014'\n",
    "\n",
    "overall_rankings_2013 = pd.read_csv('data/FantasyPros_Fantasy_Football_Points_PPR_2013.csv')\n",
    "overall_rankings_2013['Year'] = '2013'"
   ]
  },
  {
   "cell_type": "code",
   "execution_count": 11,
   "id": "03dab007",
   "metadata": {},
   "outputs": [],
   "source": [
    "#giant cleaned datatable\n",
    "adp_table = pd.concat([overall_adp_2021, overall_adp_2020, overall_adp_2019, overall_adp_2018, overall_adp_2017, overall_adp_2016, overall_adp_2015, overall_adp_2014, overall_adp_2013], axis=0)\n",
    "overall_rankings_table = pd.concat([overall_rankings_2021, overall_rankings_2020, overall_rankings_2019, overall_rankings_2018, overall_rankings_2017, overall_rankings_2016, overall_rankings_2015, overall_rankings_2014, overall_rankings_2013], axis=0)\n",
    "overall_merged = adp_table.merge(overall_rankings_table, how= 'outer', on = ['Player', 'Year'])\n",
    "\n",
    "def clean_data(data_file):\n",
    "    data_file2 = data_file.drop(columns=['RTSports', 'Sleeper', 'MFL', 'Fantrax', 'FFC', 'POS','Team_y', 'ESPN', 'Bye', 'Team_x'])\n",
    "    data_file3 = data_file2.rename(columns = {\"Rank_x\": \"Preseason_rank\",\"Team_x\":\"Team\", \"Rank_y\": \"Postseason_rank\", \"AVG\": \"ADP\", \"Avg\": \"PPG\"})\n",
    "    data_file4 = data_file3.loc[data_file3.Position == 'WR']\n",
    "    data_file5 = data_file4.dropna(subset=['ADP'])\n",
    "    return data_file5\n",
    "\n",
    "overall_merged_data_clean = clean_data(overall_merged)\n",
    "full = wr_table.merge(overall_merged_data_clean, how= 'outer', on = ['Player', 'Year'])\n",
    "full = full.dropna(subset=['Player', 'ADP'])\n",
    "wr_df = full.dropna(subset=['YAC/R'])"
   ]
  },
  {
   "cell_type": "markdown",
   "id": "b116028a",
   "metadata": {},
   "source": [
    "## Summary Statistics\n",
    "\n",
    "### Post Season Rank\n",
    "\n",
    "### Scoring Points Over Time"
   ]
  },
  {
   "cell_type": "markdown",
   "id": "e472216b",
   "metadata": {},
   "source": [
    "# Models\n",
    "\n",
    "## Model (1)\n",
    "\n",
    "## Model (2)"
   ]
  },
  {
   "cell_type": "markdown",
   "id": "20d66a77",
   "metadata": {},
   "source": [
    "# Evaluation of Significance\n",
    "\n",
    "## Model (1)\n",
    "\n",
    "## Model (2)"
   ]
  },
  {
   "cell_type": "markdown",
   "id": "e02f89cf",
   "metadata": {},
   "source": [
    "# Interpretations and Conclusions\n",
    "\n",
    "## Model (1)\n",
    "## Model (2)\n",
    "\n",
    "## Conclusions"
   ]
  },
  {
   "cell_type": "markdown",
   "id": "1b24b36f",
   "metadata": {},
   "source": [
    "# Limitations\n",
    "\n",
    "## General\n",
    "\n",
    "## Model (1)\n",
    "\n",
    "## Model (2)"
   ]
  },
  {
   "cell_type": "code",
   "execution_count": null,
   "id": "c9c1b1f0",
   "metadata": {},
   "outputs": [],
   "source": []
  }
 ],
 "metadata": {
  "kernelspec": {
   "display_name": "Python 3 (ipykernel)",
   "language": "python",
   "name": "python3"
  },
  "language_info": {
   "codemirror_mode": {
    "name": "ipython",
    "version": 3
   },
   "file_extension": ".py",
   "mimetype": "text/x-python",
   "name": "python",
   "nbconvert_exporter": "python",
   "pygments_lexer": "ipython3",
   "version": "3.10.4"
  }
 },
 "nbformat": 4,
 "nbformat_minor": 5
}
