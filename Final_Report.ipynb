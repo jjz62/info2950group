{
 "cells": [
  {
   "cell_type": "markdown",
   "id": "759071a0",
   "metadata": {},
   "source": [
    "# Final Report\n",
    "By: Jenny Zhang, Marcus Kang, Joshua Chang, Daniel Lee"
   ]
  },
  {
   "cell_type": "markdown",
   "id": "a46d4301",
   "metadata": {},
   "source": [
    "# Introduction"
   ]
  },
  {
   "cell_type": "markdown",
   "id": "bd98ec69",
   "metadata": {},
   "source": [
    "# Data Description"
   ]
  },
  {
   "cell_type": "markdown",
   "id": "29463176",
   "metadata": {},
   "source": [
    "# Pre-registered Analyses\n",
    "\n",
    "## Hypothesis 1: \n",
    "Yards per Reception and Yards after the Catch are most indicative of good post-season rank for a wide receiver.\n",
    "\n",
    "## Hypothesis 2:\n",
    "The number of points scored by wide receivers has increased over time."
   ]
  },
  {
   "cell_type": "markdown",
   "id": "15ebfddd",
   "metadata": {},
   "source": [
    "# Data Analysis\n",
    "\n",
    "## Data Cleaning"
   ]
  },
  {
   "cell_type": "code",
   "execution_count": 2,
   "id": "1213c948",
   "metadata": {},
   "outputs": [],
   "source": [
    "import numpy as np\n",
    "import seaborn as sns\n",
    "import pandas as pd\n",
    "import matplotlib.pyplot as plt"
   ]
  },
  {
   "cell_type": "code",
   "execution_count": 3,
   "id": "70e184a1",
   "metadata": {},
   "outputs": [
    {
     "name": "stdout",
     "output_type": "stream",
     "text": [
      "               Player  Year   Y/R  YBC/R  AIR/R  YAC/R  YACON/R  10+ YDS  \\\n",
      "0      DeVante Parker  2018  12.9    9.0    9.0    3.9      1.5     11.0   \n",
      "1       Tyler Lockett  2017  12.3    8.2    8.2    4.2      0.4     20.0   \n",
      "2       Davante Adams  2016  13.3    8.1    8.1    5.1      2.2     37.0   \n",
      "3      Michael Thomas  2016  12.4    7.1    7.1    5.3      1.8     48.0   \n",
      "4        Doug Baldwin  2015  13.7    8.1    8.1    5.6      2.2     40.0   \n",
      "5    Michael Crabtree  2015  10.8    7.7    7.7    3.1      1.4     35.0   \n",
      "6       Davante Adams  2015   9.7    6.9    6.9    2.7      1.1     16.0   \n",
      "7   Odell Beckham Jr.  2014  14.3    9.0    9.0    5.3      0.0     45.0   \n",
      "8        Doug Baldwin  2014  12.5    7.4    7.4    5.1      0.0     34.0   \n",
      "9    Michael Crabtree  2014  10.3    6.5    6.5    3.8      0.0     25.0   \n",
      "10     Julian Edelman  2013  10.1    5.3    5.3    4.7      0.0     39.0   \n",
      "\n",
      "    20+ YDS  30+ YDS  40+ YDS  50+ YDS  Preseason_rank    ADP  \\\n",
      "0       3.0      3.0      1.0      0.0           119.0  129.4   \n",
      "1       5.0      3.0      3.0      2.0           153.0  160.0   \n",
      "2      17.0      7.0      4.0      2.0           191.0  181.2   \n",
      "3      18.0      3.0      1.0      0.0           146.0  155.0   \n",
      "4      16.0      7.0      3.0      2.0           168.0  161.2   \n",
      "5      15.0      4.0      0.0      0.0           156.0  161.2   \n",
      "6       6.0      2.0      1.0      0.0            62.0   65.3   \n",
      "7      16.0      8.0      6.0      4.0           239.0  192.0   \n",
      "8      15.0      4.0      2.0      0.0           168.0  168.5   \n",
      "9      10.0      3.0      2.0      1.0            48.0   48.6   \n",
      "10      9.0      4.0      2.0      0.0           225.0  224.5   \n",
      "\n",
      "    Postseason_rank Position  Points  Games   PPG  \n",
      "0             313.0       WR    60.9   11.0   5.5  \n",
      "1             174.0       WR   118.3   16.0   7.4  \n",
      "2              34.0       WR   246.7   16.0  15.4  \n",
      "3              29.0       WR   255.7   15.0  17.1  \n",
      "4              27.0       WR   268.9   16.0  16.8  \n",
      "5              45.0       WR   231.2   16.0  14.5  \n",
      "6             208.0       WR   106.3   13.0   8.2  \n",
      "7              17.0       WR   295.0   12.0  24.6  \n",
      "8              96.0       WR   167.3   16.0  10.5  \n",
      "9             102.0       WR   162.2   16.0  10.1  \n",
      "10             36.0       WR   234.2   15.0  15.6  \n"
     ]
    }
   ],
   "source": [
    "wr_df = pd.read_csv(\"wr_df.csv\")\n",
    "print(wr_df)"
   ]
  },
  {
   "cell_type": "code",
   "execution_count": null,
   "id": "c6f18076",
   "metadata": {},
   "outputs": [],
   "source": []
  },
  {
   "cell_type": "code",
   "execution_count": null,
   "id": "7a99993e",
   "metadata": {},
   "outputs": [],
   "source": []
  },
  {
   "cell_type": "code",
   "execution_count": null,
   "id": "03dab007",
   "metadata": {},
   "outputs": [],
   "source": []
  },
  {
   "cell_type": "markdown",
   "id": "b116028a",
   "metadata": {},
   "source": [
    "## Summary Statistics\n",
    "\n",
    "### Post Season Rank\n",
    "\n",
    "### Scoring Points Over Time"
   ]
  },
  {
   "cell_type": "markdown",
   "id": "e472216b",
   "metadata": {},
   "source": [
    "# Models\n",
    "\n",
    "## Model (1)\n",
    "\n",
    "## Model (2)"
   ]
  },
  {
   "cell_type": "markdown",
   "id": "20d66a77",
   "metadata": {},
   "source": [
    "# Evaluation of Significance\n",
    "\n",
    "## Model (1)\n",
    "\n",
    "## Model (2)"
   ]
  },
  {
   "cell_type": "markdown",
   "id": "e02f89cf",
   "metadata": {},
   "source": [
    "# Interpretations and Conclusions\n",
    "\n",
    "## Model (1)\n",
    "## Model (2)\n",
    "\n",
    "## Conclusions"
   ]
  },
  {
   "cell_type": "markdown",
   "id": "1b24b36f",
   "metadata": {},
   "source": [
    "# Limitations\n",
    "\n",
    "## General\n",
    "\n",
    "## Model (1)\n",
    "\n",
    "## Model (2)"
   ]
  },
  {
   "cell_type": "code",
   "execution_count": null,
   "id": "c9c1b1f0",
   "metadata": {},
   "outputs": [],
   "source": []
  }
 ],
 "metadata": {
  "kernelspec": {
   "display_name": "Python 3 (ipykernel)",
   "language": "python",
   "name": "python3"
  },
  "language_info": {
   "codemirror_mode": {
    "name": "ipython",
    "version": 3
   },
   "file_extension": ".py",
   "mimetype": "text/x-python",
   "name": "python",
   "nbconvert_exporter": "python",
   "pygments_lexer": "ipython3",
   "version": "3.8.13"
  }
 },
 "nbformat": 4,
 "nbformat_minor": 5
}
