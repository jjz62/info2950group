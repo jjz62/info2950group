{
 "cells": [
  {
   "cell_type": "markdown",
   "id": "759071a0",
   "metadata": {},
   "source": [
    "# Final Report\n",
    "By: Jenny Zhang, Marcus Kang, Joshua Chang, Daniel Lee"
   ]
  },
  {
   "cell_type": "markdown",
   "id": "a46d4301",
   "metadata": {},
   "source": [
    "# Introduction"
   ]
  },
  {
   "cell_type": "markdown",
   "id": "bd98ec69",
   "metadata": {},
   "source": [
    "# Data Description"
   ]
  },
  {
   "cell_type": "markdown",
   "id": "29463176",
   "metadata": {},
   "source": [
    "# Pre-registered Analyses\n",
    "\n",
    "## Hypothesis 1:\n",
    "### Average Draft Position in Fantasy Football is not a good indicator of post-season rank.\n",
    "\n",
    "I will model the relationship between the ADP and post-season rank over the course of recent history. \n",
    "- Given that players every year have an average draft position due to fantasy football as well as a post-season rank based on their peformance their variability can be aggregated and plotted. \n",
    "- We will set a certain value for correlation before-hand to find if the adp values meet the threshold of correlation to be considered a valued source.\n",
    "\n",
    "By learning about the degree of correlation between ADP and the player's post-season rank we will determine whether fantasy football players could trust these values when making picks. \n",
    "\n",
    "## Hypothesis 2: \n",
    "### Points and 10+ Yards received can linearly predict post-season rank for a wide receiver.\n",
    "\n",
    "I will model the relationship between the different Wide Receiver statistics and their post-season ranks. \n",
    "- By analyzing the factors which indicate good post-season rank, I hope to learn about what statistics can be especially indicative of good performance. \n",
    "- A value greater than 0.5 would indicate there to be sign of correlation between that statistic and post-season rank.\n",
    "\n",
    "Due to all football positions having very different metrics through which their plays are evaluated, I'm only focusing on wide receivers in particular. In this way, this sort of hypothesis and analysis is helpful for understanding why certain players end up being more successful through a season and thus ranking higher.\n",
    "\n",
    "## Hypothesis 3:\n",
    "### Breakout Wide Receivers will see an improvement in similar statistics from the year prior to their breakout year. \n",
    "\n",
    "I will model the relationship between the statistics of a breakout player in the season before and during their breakout year. \n",
    "- By defining the breakout player, as someone who had an ADP greater than 150 and ended with an overall rank less than 50 we will be able to determine who fits this description.\n",
    "- After getting the data on these few breakout players we will be able to utilize correlation matrices and regression modelling to determine what statistics impacted their post-season rank the most. \n",
    "\n",
    "By learning about what improvements make the greatest change in wide receiver ranking, players can better determine what part of their game they should improve on most to add more value to themselves. Also fantasy football players will gain a better idea on which players show potential when making their weekly rosters. "
   ]
  },
  {
   "cell_type": "markdown",
   "id": "15ebfddd",
   "metadata": {},
   "source": [
    "# Data Analysis\n",
    "\n",
    "## Data Cleaning"
   ]
  },
  {
   "cell_type": "code",
   "execution_count": null,
   "id": "1213c948",
   "metadata": {},
   "outputs": [],
   "source": [
    "import numpy as np\n",
    "import seaborn as sns\n",
    "import pandas as pd\n",
    "import matplotlib.pyplot as plt\n",
    "from sklearn.model_selection import train_test_split, KFold, cross_val_score\n",
    "from sklearn.linear_model import LinearRegression\n",
    "from sklearn.linear_model import LogisticRegression\n",
    "from sklearn import linear_model\n",
    "from sklearn import metrics\n",
    "import statsmodels.api as sm\n",
    "from statsmodels.formula.api import ols"
   ]
  },
  {
   "cell_type": "code",
   "execution_count": null,
   "id": "70e184a1",
   "metadata": {},
   "outputs": [],
   "source": [
    "wr_df = pd.read_csv(\"wr_df.csv\")"
   ]
  },
  {
   "cell_type": "markdown",
   "id": "b116028a",
   "metadata": {},
   "source": [
    "## Summary Statistics\n",
    "\n",
    "### Changes in Rank"
   ]
  },
  {
   "cell_type": "code",
   "execution_count": null,
   "id": "57dc961f",
   "metadata": {},
   "outputs": [],
   "source": [
    "change_in_rank = wr_df['ADP'] - wr_df['Postseason_rank']\n",
    "\n",
    "sns.set(rc={\"figure.figsize\":(20, 8)})\n",
    "sns.histplot(data=change_in_rank)"
   ]
  },
  {
   "cell_type": "code",
   "execution_count": null,
   "id": "c8ac6304",
   "metadata": {},
   "outputs": [],
   "source": [
    "sns.boxplot(x=change_in_rank)"
   ]
  },
  {
   "cell_type": "markdown",
   "id": "5b777abe",
   "metadata": {},
   "source": [
    "It can be noted in this boxplot that, on both ends (having a rank much better than preseason and the opposite), there are numerous outliers."
   ]
  },
  {
   "cell_type": "code",
   "execution_count": null,
   "id": "43136287",
   "metadata": {},
   "outputs": [],
   "source": [
    "def remove_outliers(data, m=2):\n",
    "    return data[abs(data - np.mean(data)) < m * np.std(data)]\n",
    "\n",
    "remove_outliers(change_in_rank).describe()"
   ]
  },
  {
   "cell_type": "markdown",
   "id": "5c3d5129",
   "metadata": {},
   "source": [
    "The outliers were removed for cleaner summary statistics. Change in rank from Post-season rank in comparison to ADP shows a relatively normal distribution with a large standard deviation of about 121 and a mean less than 0 of -17.476434, which indicates that on average, from the beginning of the season to the end of the season, a players' rank would drop around 17 places, for example they could start with better rank of 10, as lower is better, but end aroudn 27, which would mean a lower performance in comparison to expectation.\n",
    "\n",
    "Furthermore, the large standard deviation of around 100 even after outliers were removed shows that there is not necessarily a clear trend for players when comparing ADP with Postseason_rank."
   ]
  },
  {
   "cell_type": "markdown",
   "id": "0555b430",
   "metadata": {},
   "source": [
    "### Influencing Postseason Rank"
   ]
  },
  {
   "cell_type": "code",
   "execution_count": null,
   "id": "db541f44",
   "metadata": {},
   "outputs": [],
   "source": [
    "wr_df[[\"Postseason_rank\", \"Y/R\",\"YBC/R\",\"AIR/R\", \"YAC/R\", \"YACON/R\", \"10+ YDS\", \"20+ YDS\", \"30+ YDS\", \"40+ YDS\", \"50+ YDS\", \"Preseason_rank\", \"ADP\", \"Points\", \"PPG\"]].corr()"
   ]
  },
  {
   "cell_type": "markdown",
   "id": "383c1730",
   "metadata": {},
   "source": [
    "From this chart it can be noted that certain parameters having significant correlation with Postseason Rank (< -0.5): Points, PPG (Points per Game), 10+ Yards, 20+ Yards, 30+ Yards, 40+ Yards. However, 10+ YDS, 20+ YDS, 30+ YDS, and 40+ YDS all have a high covariance. Points and PPG also have a high covariance. To reduce, overfitting Points and 10+ YDS will be considered."
   ]
  },
  {
   "cell_type": "code",
   "execution_count": null,
   "id": "ec000ad8",
   "metadata": {},
   "outputs": [],
   "source": [
    "sns.scatterplot(data=wr_df, x=\"Points\", y=\"Postseason_rank\")"
   ]
  },
  {
   "cell_type": "markdown",
   "id": "63320a91",
   "metadata": {},
   "source": [
    "A very tight negative correlation between postseason rank and points can be seen from the above scatterplot. In interpretation, those of lower rank (meaning better performance) scored more points."
   ]
  },
  {
   "cell_type": "code",
   "execution_count": null,
   "id": "6593031c",
   "metadata": {},
   "outputs": [],
   "source": [
    "sns.scatterplot(data=wr_df, x=\"10+ YDS\", y=\"Postseason_rank\")"
   ]
  },
  {
   "cell_type": "markdown",
   "id": "e14e3cd6",
   "metadata": {},
   "source": [
    "Correlation between postseason rank and points can be seen from the above scatterplot, though not as tight as with points."
   ]
  },
  {
   "cell_type": "markdown",
   "id": "0bbfed4b",
   "metadata": {},
   "source": [
    "### Scoring Points Over Time"
   ]
  },
  {
   "cell_type": "markdown",
   "id": "e472216b",
   "metadata": {},
   "source": [
    "# Models\n",
    "\n",
    "## Postseason Rank Model"
   ]
  },
  {
   "cell_type": "code",
   "execution_count": null,
   "id": "ecd6f9ef",
   "metadata": {},
   "outputs": [],
   "source": [
    "model_df = wr_df\n",
    "model_df['Ten_Yards'] = wr_df['10+ YDS']\n",
    "\n",
    "multi_model = ols('Postseason_rank ~ Points + Ten_Yards', data=model_df).fit()\n",
    "  \n",
    "multi_model.summary()"
   ]
  },
  {
   "cell_type": "code",
   "execution_count": null,
   "id": "bbf2a715",
   "metadata": {
    "scrolled": true
   },
   "outputs": [],
   "source": [
    "plt.figure(figsize=(20,8))\n",
    "plt.scatter(wr_df['Postseason_rank'], pred_y, c='crimson')\n",
    "\n",
    "p1 = max(max(pred_y), max(wr_df['Postseason_rank']))\n",
    "p2 = min(min(pred_y), min(wr_df['Postseason_rank']))\n",
    "plt.plot([p1, p2], [p1, p2], 'b-')\n",
    "plt.xlabel('True Values', fontsize=15)\n",
    "plt.ylabel('Predictions', fontsize=15)\n",
    "plt.axis('equal')\n",
    "plt.show()"
   ]
  },
  {
   "cell_type": "markdown",
   "id": "10030318",
   "metadata": {},
   "source": [
    "## Model (2)"
   ]
  },
  {
   "cell_type": "markdown",
   "id": "20d66a77",
   "metadata": {},
   "source": [
    "# Evaluation of Significance\n",
    "\n",
    "## Postseason Rank Model"
   ]
  },
  {
   "cell_type": "code",
   "execution_count": null,
   "id": "7aa7b897",
   "metadata": {},
   "outputs": [],
   "source": [
    "multi_model.summary()"
   ]
  },
  {
   "cell_type": "code",
   "execution_count": null,
   "id": "25702145",
   "metadata": {},
   "outputs": [],
   "source": [
    "fig = sm.graphics.plot_regress_exog(multi_model, 'Points')"
   ]
  },
  {
   "cell_type": "code",
   "execution_count": null,
   "id": "31c36202",
   "metadata": {},
   "outputs": [],
   "source": [
    "fig = sm.graphics.plot_regress_exog(multi_model, 'Ten_Yards')"
   ]
  },
  {
   "cell_type": "markdown",
   "id": "395b73cd",
   "metadata": {},
   "source": [
    "## Model (2)"
   ]
  },
  {
   "cell_type": "markdown",
   "id": "e02f89cf",
   "metadata": {},
   "source": [
    "# Interpretations and Conclusions\n",
    "\n",
    "## Model (1)\n",
    "## Model (2)\n",
    "\n",
    "## Conclusions"
   ]
  },
  {
   "cell_type": "markdown",
   "id": "1b24b36f",
   "metadata": {},
   "source": [
    "# Limitations\n",
    "\n",
    "## General\n",
    "\n",
    "## Model (1)\n",
    "\n",
    "## Model (2)"
   ]
  },
  {
   "cell_type": "code",
   "execution_count": null,
   "id": "c9c1b1f0",
   "metadata": {},
   "outputs": [],
   "source": []
  }
 ],
 "metadata": {
  "kernelspec": {
   "display_name": "Python 3 (ipykernel)",
   "language": "python",
   "name": "python3"
  },
  "language_info": {
   "codemirror_mode": {
    "name": "ipython",
    "version": 3
   },
   "file_extension": ".py",
   "mimetype": "text/x-python",
   "name": "python",
   "nbconvert_exporter": "python",
   "pygments_lexer": "ipython3",
   "version": "3.10.4"
  }
 },
 "nbformat": 4,
 "nbformat_minor": 5
}
