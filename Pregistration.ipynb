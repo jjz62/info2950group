{
 "cells": [
  {
   "cell_type": "markdown",
   "id": "ec33215d",
   "metadata": {},
   "source": [
    "# The Key to A Better Wide Receiver\n",
    "\n",
    "## Introduction\n",
    "This project for INFO 2950 provides an analysis of Fantasy Football and NFL Wide Receivers. The dataset I'm using is public statistics on NFL Players. I am looking into the factors that determine the post-season rank of NFL players. "
   ]
  },
  {
   "cell_type": "markdown",
   "id": "d3db2336",
   "metadata": {},
   "source": [
    "# Pre-registered Analyses\n",
    "\n",
    "## Hypothesis 1:\n",
    "### Average Draft Position in Fantasy Football is not a good indicator of post-season rank.\n",
    "\n",
    "I will model the relationship between the ADP and post-season rank over the course of recent history. \n",
    "- Given that players every year have an average draft position due to fantasy football as well as a post-season rank based on their peformance their variability can be aggregated and plotted. \n",
    "- We will set a certain value for correlation before-hand to find if the adp values meet the threshold of correlation to be considered a valued source.\n",
    "\n",
    "By learning about the degree of correlation between ADP and the player's post-season rank we will determine whether fantasy football players could trust these values when making picks. \n",
    "\n",
    "## Hypothesis 2: \n",
    "### Points and 10+ Yards received can linearly predict post-season rank for a wide receiver.\n",
    "\n",
    "I will model the relationship between the different Wide Receiver statistics and their post-season ranks. \n",
    "- By analyzing the factors which indicate good post-season rank, I hope to learn about what statistics can be especially indicative of good performance. \n",
    "- A value greater than 0.5 would indicate there to be sign of correlation between that statistic and post-season rank.\n",
    "\n",
    "Due to all football positions having very different metrics through which their plays are evaluated, I'm only focusing on wide receivers in particular. In this way, this sort of hypothesis and analysis is helpful for understanding why certain players end up being more successful through a season and thus ranking higher.\n",
    "\n",
    "## Hypothesis 3:\n",
    "### Breakout Wide Receivers will see an improvement in similar statistics from the year prior to their breakout year. \n",
    "\n",
    "I will model the relationship between the statistics of a breakout player in the season before and during their breakout year. \n",
    "- By defining the breakout player, as someone who had an ADP greater than 150 and ended with an overall rank less than 50 we will be able to determine who fits this description.\n",
    "- After getting the data on these few breakout players we will be able to utilize correlation matrices and regression modelling to determine what statistics impacted their post-season rank the most. \n",
    "\n",
    "By learning about what improvements make the greatest change in wide receiver ranking, players can better determine what part of their game they should improve on most to add more value to themselves. Also fantasy football players will gain a better idea on which players show potential when making their weekly rosters. "
   ]
  },
  {
   "cell_type": "markdown",
   "id": "21c177dc",
   "metadata": {},
   "source": [
    "## Questions for Reviewers\n",
    "Do you think these analyses are complex enough to produce a good final project?\n",
    "Are there any better comparison metrics you would suggest?\n",
    "Are these relationships feasible and/or worthwhile to determine given my dataset?"
   ]
  },
  {
   "cell_type": "code",
   "execution_count": null,
   "id": "c31baafb",
   "metadata": {},
   "outputs": [],
   "source": []
  }
 ],
 "metadata": {
  "kernelspec": {
   "display_name": "Python 3 (ipykernel)",
   "language": "python",
   "name": "python3"
  },
  "language_info": {
   "codemirror_mode": {
    "name": "ipython",
    "version": 3
   },
   "file_extension": ".py",
   "mimetype": "text/x-python",
   "name": "python",
   "nbconvert_exporter": "python",
   "pygments_lexer": "ipython3",
   "version": "3.10.4"
  }
 },
 "nbformat": 4,
 "nbformat_minor": 5
}
